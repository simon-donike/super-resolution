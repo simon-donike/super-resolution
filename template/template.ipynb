{
 "cells": [
  {
   "cell_type": "markdown",
   "metadata": {},
   "source": [
    "## Imports"
   ]
  },
  {
   "cell_type": "code",
   "execution_count": 1,
   "metadata": {},
   "outputs": [],
   "source": [
    "# imports\n",
    "import torch\n",
    "from torch.utils.data import DataLoader, random_split\n",
    "import torch.optim as optim\n",
    "\n",
    "import wandb\n",
    "\n",
    "\n",
    "# local imports\n",
    "from models_parameters import losses\n",
    "from models_parameters import models\n",
    "from utils.dataloader_SRCNN import Dataset"
   ]
  },
  {
   "cell_type": "markdown",
   "metadata": {},
   "source": [
    "## Create DataLoader Object"
   ]
  },
  {
   "cell_type": "code",
   "execution_count": 2,
   "metadata": {},
   "outputs": [],
   "source": [
    "# inputs\n",
    "spot6_mosaic = \"/home/simon/CDE_UBS/thesis/data_collection/spot6/spot6_mosaic.tif\"\n",
    "spot6_path = \"/home/simon/CDE_UBS/thesis/data_collection/spot6/\"\n",
    "sen2_path = \"/home/simon/CDE_UBS/thesis/data_collection/sen2/merged_reprojected/\"\n",
    "closest_dates_filepath = \"/home/simon/CDE_UBS/thesis/data_loader/data/closest_dates.pkl\""
   ]
  },
  {
   "cell_type": "code",
   "execution_count": 3,
   "metadata": {},
   "outputs": [
    {
     "name": "stdout",
     "output_type": "stream",
     "text": [
      "precalculated dataset file found, loading...\n",
      "\n",
      "Dataset Object successfully instanciated!\n",
      "Loader Length:  68150\n"
     ]
    }
   ],
   "source": [
    "# get dataset object\n",
    "dataset = Dataset(spot6_mosaic,sen2_path,spot6_path,closest_dates_filepath,window_size=500,factor=(10/1.5))\n",
    "# create dataloader object\n",
    "loader = DataLoader(dataset,batch_size=1, shuffle=True, num_workers=1)\n",
    "print(\"Loader Length: \",len(loader))"
   ]
  },
  {
   "cell_type": "markdown",
   "metadata": {},
   "source": [
    "## Prep Env and Load Model"
   ]
  },
  {
   "cell_type": "code",
   "execution_count": 4,
   "metadata": {},
   "outputs": [
    {
     "name": "stdout",
     "output_type": "stream",
     "text": [
      "cpu\n"
     ]
    }
   ],
   "source": [
    "device = torch.device(\"cuda:0\" if torch.cuda.is_available() else \"cpu\")\n",
    "print(device)"
   ]
  },
  {
   "cell_type": "code",
   "execution_count": 5,
   "metadata": {},
   "outputs": [],
   "source": [
    "model = models.SRCNN()\n",
    "loss_func = losses.loss_psnr"
   ]
  },
  {
   "cell_type": "markdown",
   "metadata": {},
   "source": [
    "## Train Model"
   ]
  },
  {
   "cell_type": "code",
   "execution_count": 6,
   "metadata": {},
   "outputs": [],
   "source": [
    "# implementation of model trainer function\n",
    "def train_model(model,batch_size=1,lr=0.01,epochs=10,wandb_name=\"test\"):\n",
    "    \n",
    "    logging=True\n",
    "    if logging==True:\n",
    "        wandb.init(project=wandb_name, entity=\"simon-donike\")\n",
    "        wandb.config = {\n",
    "          \"learning_rate\": lr,\n",
    "          \"epochs\": epochs,\n",
    "          \"batch_size\": batch_size\n",
    "        }\n",
    "    \n",
    "    # define loaders\n",
    "    loader_train = DataLoader(dataset,batch_size=batch_size, shuffle=True, num_workers=1)\n",
    "    loader_test  = DataLoader(dataset,batch_size=batch_size, shuffle=True, num_workers=1)\n",
    "    loader_full  = DataLoader(dataset,batch_size=batch_size, shuffle=True, num_workers=1)\n",
    "\n",
    "\n",
    "    train_loss = []  # where we keep track of the training loss\n",
    "    train_accuracy = []  # where we keep track of the training accuracy of the model\n",
    "    val_loss = []  # where we keep track of the validation loss\n",
    "    val_accuracy = []  # where we keep track of the validation accuracy of the model\n",
    "    epochs = epochs  # number of epochs\n",
    "\n",
    "    # initialize model\n",
    "\n",
    "    model = model.double()\n",
    "    model.to(device)\n",
    "    optimizer = optim.SGD(model.parameters(), lr=lr)\n",
    "    \n",
    "    for e in range(epochs):\n",
    "        model.train()\n",
    "        train_correct = 0\n",
    "        for (x_train_batch, y_train_batch) in loader_train:\n",
    "            x_train_batch = x_train_batch.to(torch.double)\n",
    "            x_train_batch = x_train_batch.to(device)\n",
    "\n",
    "            y_train_batch = y_train_batch.to(torch.double) \n",
    "            y_train_batch = y_train_batch.to(device)\n",
    "            y_hat = model(x_train_batch)  # forward pass\n",
    "\n",
    "            loss = loss_func(y_hat, y_train_batch)  # compute the loss\n",
    "\n",
    "            loss.backward()  # obtain the gradients with respect to the loss\n",
    "            optimizer.step()  # perform one step of gradient descent\n",
    "            optimizer.zero_grad()  # reset the gradients to 0\n",
    "            y_hat_class = torch.argmax(y_hat.detach(), axis=1)  # we assign an appropriate label based on the network's prediction\n",
    "            train_correct += torch.sum(y_hat_class == y_train_batch)\n",
    "            train_loss.append(loss.item() / len(x_train_batch))\n",
    "            if logging==True:\n",
    "                wandb.log({'loss': loss.item() / len(x_train_batch)})\n",
    "\n",
    "        train_accuracy.append(train_correct / len(loader_train.dataset))\n",
    "        if logging==True:\n",
    "            wandb.log({'train_acc': train_correct / len(loader_train.dataset)})\n",
    "\n",
    "\n",
    "        print ('Epoch', e+1, ' finished.')\n",
    "\n",
    "    if logging==True:\n",
    "        wandb.finish()"
   ]
  },
  {
   "cell_type": "code",
   "execution_count": null,
   "metadata": {},
   "outputs": [
    {
     "name": "stderr",
     "output_type": "stream",
     "text": [
      "Failed to detect the name of this notebook, you can set it manually with the WANDB_NOTEBOOK_NAME environment variable to enable code saving.\n",
      "\u001b[34m\u001b[1mwandb\u001b[0m: Currently logged in as: \u001b[33msimon-donike\u001b[0m (use `wandb login --relogin` to force relogin)\n",
      "\u001b[34m\u001b[1mwandb\u001b[0m: wandb version 0.12.10 is available!  To upgrade, please run:\n",
      "\u001b[34m\u001b[1mwandb\u001b[0m:  $ pip install wandb --upgrade\n"
     ]
    },
    {
     "data": {
      "text/html": [
       "\n",
       "                    Syncing run <strong><a href=\"https://wandb.ai/simon-donike/SRCNN/runs/1hhkodds\" target=\"_blank\">lucky-cloud-74</a></strong> to <a href=\"https://wandb.ai/simon-donike/SRCNN\" target=\"_blank\">Weights & Biases</a> (<a href=\"https://docs.wandb.com/integrations/jupyter.html\" target=\"_blank\">docs</a>).<br/>\n",
       "\n",
       "                "
      ],
      "text/plain": [
       "<IPython.core.display.HTML object>"
      ]
     },
     "metadata": {},
     "output_type": "display_data"
    },
    {
     "name": "stderr",
     "output_type": "stream",
     "text": [
      "/home/simon/CDE_UBS/thesis/template/utils/dataloader_SRCNN.py:302: UserWarning: WARNING: More image aqc. dates requested than available. Recalculate full validity dataframe or request fewer sen2 images!\n",
      "  warnings.warn(\"WARNING: More image aqc. dates requested than available. Recalculate full validity dataframe or request fewer sen2 images!\")\n",
      "/home/simon/CDE_UBS/thesis/template/utils/dataloader_SRCNN.py:302: UserWarning: WARNING: More image aqc. dates requested than available. Recalculate full validity dataframe or request fewer sen2 images!\n",
      "  warnings.warn(\"WARNING: More image aqc. dates requested than available. Recalculate full validity dataframe or request fewer sen2 images!\")\n",
      "/home/simon/CDE_UBS/thesis/template/utils/dataloader_SRCNN.py:302: UserWarning: WARNING: More image aqc. dates requested than available. Recalculate full validity dataframe or request fewer sen2 images!\n",
      "  warnings.warn(\"WARNING: More image aqc. dates requested than available. Recalculate full validity dataframe or request fewer sen2 images!\")\n",
      "/home/simon/CDE_UBS/thesis/template/utils/dataloader_SRCNN.py:302: UserWarning: WARNING: More image aqc. dates requested than available. Recalculate full validity dataframe or request fewer sen2 images!\n",
      "  warnings.warn(\"WARNING: More image aqc. dates requested than available. Recalculate full validity dataframe or request fewer sen2 images!\")\n",
      "/home/simon/CDE_UBS/thesis/template/utils/dataloader_SRCNN.py:302: UserWarning: WARNING: More image aqc. dates requested than available. Recalculate full validity dataframe or request fewer sen2 images!\n",
      "  warnings.warn(\"WARNING: More image aqc. dates requested than available. Recalculate full validity dataframe or request fewer sen2 images!\")\n",
      "/home/simon/CDE_UBS/thesis/template/utils/dataloader_SRCNN.py:302: UserWarning: WARNING: More image aqc. dates requested than available. Recalculate full validity dataframe or request fewer sen2 images!\n",
      "  warnings.warn(\"WARNING: More image aqc. dates requested than available. Recalculate full validity dataframe or request fewer sen2 images!\")\n",
      "/home/simon/CDE_UBS/thesis/template/utils/dataloader_SRCNN.py:302: UserWarning: WARNING: More image aqc. dates requested than available. Recalculate full validity dataframe or request fewer sen2 images!\n",
      "  warnings.warn(\"WARNING: More image aqc. dates requested than available. Recalculate full validity dataframe or request fewer sen2 images!\")\n",
      "/home/simon/CDE_UBS/thesis/template/utils/dataloader_SRCNN.py:302: UserWarning: WARNING: More image aqc. dates requested than available. Recalculate full validity dataframe or request fewer sen2 images!\n",
      "  warnings.warn(\"WARNING: More image aqc. dates requested than available. Recalculate full validity dataframe or request fewer sen2 images!\")\n",
      "/home/simon/CDE_UBS/thesis/template/utils/dataloader_SRCNN.py:302: UserWarning: WARNING: More image aqc. dates requested than available. Recalculate full validity dataframe or request fewer sen2 images!\n",
      "  warnings.warn(\"WARNING: More image aqc. dates requested than available. Recalculate full validity dataframe or request fewer sen2 images!\")\n",
      "/home/simon/CDE_UBS/thesis/template/utils/dataloader_SRCNN.py:302: UserWarning: WARNING: More image aqc. dates requested than available. Recalculate full validity dataframe or request fewer sen2 images!\n",
      "  warnings.warn(\"WARNING: More image aqc. dates requested than available. Recalculate full validity dataframe or request fewer sen2 images!\")\n"
     ]
    }
   ],
   "source": [
    "train_model(model=model,batch_size=1,lr=0.01,epochs=25,wandb_name=\"SRCNN\")"
   ]
  },
  {
   "cell_type": "code",
   "execution_count": null,
   "metadata": {},
   "outputs": [],
   "source": []
  },
  {
   "cell_type": "code",
   "execution_count": null,
   "metadata": {},
   "outputs": [],
   "source": []
  }
 ],
 "metadata": {
  "kernelspec": {
   "display_name": "Python 3",
   "language": "python",
   "name": "python3"
  },
  "language_info": {
   "codemirror_mode": {
    "name": "ipython",
    "version": 3
   },
   "file_extension": ".py",
   "mimetype": "text/x-python",
   "name": "python",
   "nbconvert_exporter": "python",
   "pygments_lexer": "ipython3",
   "version": "3.7.6"
  }
 },
 "nbformat": 4,
 "nbformat_minor": 4
}
