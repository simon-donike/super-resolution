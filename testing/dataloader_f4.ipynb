{
 "cells": [
  {
   "cell_type": "code",
   "execution_count": 1,
   "metadata": {},
   "outputs": [],
   "source": [
    "import pandas as pd\n",
    "import numpy as np\n",
    "from PIL import Image\n",
    "import matplotlib.pyplot as plt\n",
    "\n",
    "import torch\n",
    "from torch.utils.data import Dataset\n",
    "from torchvision.transforms import transforms\n",
    "from torch.utils.data import DataLoader\n",
    "\n",
    "import rasterio\n",
    "\n",
    "import warnings\n",
    "warnings.filterwarnings(\"ignore\")"
   ]
  },
  {
   "cell_type": "code",
   "execution_count": 27,
   "metadata": {},
   "outputs": [],
   "source": [
    "# Define torch dataset Class\n",
    "class Dataset(Dataset):\n",
    "    def __init__(self,folder_path,dataset_file,sen2_amount=1):\n",
    "        \n",
    "        # define filepaths\n",
    "        self.folder_path = folder_path\n",
    "        # read file\n",
    "        self.df = pd.read_pickle(dataset_file)\n",
    "        # set amount of sen2 pictures that should be returned\n",
    "        self.sen2_amount = sen2_amount\n",
    "        \n",
    "        \n",
    "        # clear up DF\n",
    "        self.df = self.df[self.df[\"sen2_no\"]>2]\n",
    "        try:\n",
    "            self.df = self.df.drop(labels=[\"level_0\"], axis=1)\n",
    "        except KeyError:\n",
    "            pass\n",
    "        self.df = self.df.reset_index()\n",
    "        \n",
    "        \n",
    "    def __len__(self):\n",
    "        \"\"\"\n",
    "        Returns length of data\n",
    "        \"\"\"\n",
    "        return(len(self.df))\n",
    "    \n",
    " \n",
    "    def __getitem__(self,idx):\n",
    "        \n",
    "        current = self.df.iloc[idx]\n",
    "        spot6_file = current[\"spot6_filenames\"]\n",
    "        sen2_files = current[\"sen2_filenames\"]\n",
    "        \n",
    "        \"\"\"READ SPOT6\"\"\"\n",
    "        #with rasterio.open(self.folder_path+\"y/\"+spot6_file) as dataset:\n",
    "        spot6 = rasterio.open(self.folder_path+\"y/\"+spot6_file).read()\n",
    "\n",
    "    \n",
    "        \"\"\"READ SEN2 SERIES\"\"\"\n",
    "        # read first file\n",
    "        sen2 = rasterio.open(self.folder_path+\"x/\"+sen2_files[0]).read()\n",
    "        \n",
    "        if self.sen2_amount>1:\n",
    "            # read following sen2 and stack\n",
    "            count=1\n",
    "            for sen2_file in sen2_files[1:]:\n",
    "                # read file as array\n",
    "                sen2_following = rasterio.open(self.folder_path+\"x/\"+sen2_file).read()\n",
    "                # stack to previous images\n",
    "                sen2 = np.concatenate([sen2, sen2_following])\n",
    "\n",
    "                # break if all wanted files loaded\n",
    "                count=count+1\n",
    "                if count==self.sen2_amount:\n",
    "                    break\n",
    "            # if final count not yet reached, repeat last chip until enough are there\n",
    "            while count<self.sen2_amount:\n",
    "                sen2 = np.concatenate([sen2, sen2_following])\n",
    "                count=count+1\n",
    "        \n",
    "        # transform to tensor\n",
    "        sen2  = torch.from_numpy(sen2)\n",
    "        spot6 = torch.from_numpy(spot6)\n",
    "        sen2 = sen2.float()\n",
    "        spot6 = spot6.float()\n",
    "        \n",
    "        #print(len(sen2_files),sen2.size())\n",
    "        \n",
    "        # define transformer\n",
    "        transform_spot = transforms.Compose([transforms.Normalize(mean=[479.0, 537.0, 344.0], std=[430.0, 290.0, 229.0]) ])\n",
    "        # dynamically define transform to reflect shape of tensor\n",
    "        trans_mean,trans_std = [78.0, 91.0, 62.0]*self.sen2_amount,[36.0, 28.0, 30.0]*self.sen2_amount\n",
    "        transform_sen = transforms.Compose([transforms.Normalize(mean=trans_mean, std= trans_std)])\n",
    "        # perform transform\n",
    "        sen2  = transform_sen(sen2)\n",
    "        spot6 = transform_spot(spot6)\n",
    "        \n",
    "        # return result\n",
    "        return(spot6,sen2)\n"
   ]
  },
  {
   "cell_type": "code",
   "execution_count": 57,
   "metadata": {},
   "outputs": [],
   "source": [
    "dataset = Dataset(\"data_f4/\",\"data_f4_pkls/df_saved_images.pkl\",sen2_amount=4)\n",
    "loader  = DataLoader(dataset,batch_size=64, shuffle=True, num_workers=0,pin_memory=True,\n",
    "                    drop_last=True,prefetch_factor=2)"
   ]
  },
  {
   "cell_type": "code",
   "execution_count": 58,
   "metadata": {
    "tags": []
   },
   "outputs": [
    {
     "name": "stdout",
     "output_type": "stream",
     "text": [
      "2.4 s ± 96.8 ms per loop (mean ± std. dev. of 7 runs, 1 loop each)\n"
     ]
    }
   ],
   "source": [
    "%%timeit\n",
    "for i in loader:\n",
    "    a,b = i\n",
    "    break"
   ]
  },
  {
   "cell_type": "raw",
   "metadata": {},
   "source": [
    "07.81s - batch 16, workers 8  \n",
    "02.89s - batch 16, workers 4  \n",
    "01.49s - batch 16, workers 1  \n",
    "00.81s - batch 16, workers 0  \n",
    "00.57s - batch 16, workers 0, pin memory\n",
    "\n",
    "19.70s - batch 32, workers 10\n",
    "01.15s - batch 32, workers 0\n",
    "\n",
    "00.00s - batch 64, workers 0\n"
   ]
  },
  {
   "cell_type": "code",
   "execution_count": null,
   "metadata": {},
   "outputs": [],
   "source": []
  }
 ],
 "metadata": {
  "kernelspec": {
   "display_name": "Python 3",
   "language": "python",
   "name": "python3"
  },
  "language_info": {
   "codemirror_mode": {
    "name": "ipython",
    "version": 3
   },
   "file_extension": ".py",
   "mimetype": "text/x-python",
   "name": "python",
   "nbconvert_exporter": "python",
   "pygments_lexer": "ipython3",
   "version": "3.7.6"
  }
 },
 "nbformat": 4,
 "nbformat_minor": 4
}
