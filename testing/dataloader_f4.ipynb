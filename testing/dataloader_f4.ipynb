{
 "cells": [
  {
   "cell_type": "code",
   "execution_count": 402,
   "metadata": {},
   "outputs": [],
   "source": [
    "import pandas as pd\n",
    "import numpy as np\n",
    "from PIL import Image\n",
    "import matplotlib.pyplot as plt\n",
    "\n",
    "import torch\n",
    "from torch.utils.data import Dataset\n",
    "from torchvision.transforms import transforms\n",
    "from torch.utils.data import DataLoader\n",
    "\n",
    "import rasterio\n",
    "\n",
    "import warnings\n",
    "warnings.filterwarnings(\"ignore\")"
   ]
  },
  {
   "cell_type": "code",
   "execution_count": 405,
   "metadata": {},
   "outputs": [],
   "source": [
    "# Define torch dataset Class\n",
    "class Dataset(Dataset):\n",
    "    def __init__(self,folder_path,dataset_file,sen2_amount=1,sen2_tile=\"all\"):\n",
    "        \n",
    "        # define filepaths\n",
    "        self.folder_path = folder_path\n",
    "        # read file\n",
    "        self.df = pd.read_pickle(dataset_file)\n",
    "        # set amount of sen2 pictures that should be returned\n",
    "        self.sen2_amount = sen2_amount\n",
    "        \n",
    "        # filter for sen2 tile\n",
    "        if sen2_tile!=\"all\":\n",
    "            self.df = self.df[self.df[\"sen2_tile\"]==sen2_tile]\n",
    "            \n",
    "        # clear up DF\n",
    "        self.df = self.df[self.df[\"sen2_no\"]>2]\n",
    "        try:\n",
    "            self.df = self.df.drop(labels=[\"level_0\"], axis=1)\n",
    "        except KeyError:\n",
    "            pass\n",
    "        self.df = self.df.reset_index()\n",
    "        \n",
    "    def __len__(self):\n",
    "        \"\"\"\n",
    "        Returns length of data\n",
    "        \"\"\"\n",
    "        return(len(self.df))\n",
    "    \n",
    " \n",
    "    def moment_matching(self,sen2,spot6):    \n",
    "        \"\"\"\n",
    "        {[spot6 - mean(spot6)] / stdev(spot6) } * stdev(sen2) \n",
    "        + mean(sen2)\n",
    "        \"\"\"\n",
    "\n",
    "        c = 0\n",
    "        for channel_sen,channel_spot in zip(sen2,spot6):\n",
    "            c +=1\n",
    "            #calculate stats\n",
    "            sen2_mean   = np.mean(channel_sen)\n",
    "            spot6_mean  = np.mean(channel_spot)\n",
    "            sen2_stdev  = np.std(channel_sen)\n",
    "            spot6_stdev = np.std(channel_spot)\n",
    "            \n",
    "            # calculate moment per channel\n",
    "            channel_result = (((channel_spot - spot6_mean) / spot6_stdev) * sen2_stdev) + sen2_mean\n",
    "            \n",
    "            # stack channels to single array\n",
    "            if c==1:\n",
    "                result = channel_result\n",
    "            else:\n",
    "                result = np.dstack((result,channel_result))\n",
    "            # transpose back to Cx..\n",
    "            \n",
    "        result = result.transpose((2,0,1))   \n",
    "        return(result)\n",
    "        \n",
    "        \n",
    "        \n",
    "    \n",
    "    def __getitem__(self,idx):\n",
    "        \n",
    "        current = self.df.iloc[idx]\n",
    "        spot6_file = current[\"spot6_filenames\"]\n",
    "        sen2_files = current[\"sen2_filenames\"]\n",
    "        other_valid_acq = current[\"other_valid_acq\"]        \n",
    "\n",
    "        \"\"\"ORDER SEN2 DATES\"\"\"\n",
    "        ordered_sen2 = []\n",
    "        sen2_clean = {}\n",
    "        for i in sen2_files:\n",
    "            sen2_clean[i[:61]] = i\n",
    "        for i in sorted(other_valid_acq):\n",
    "            s = other_valid_acq[i][1][:61]\n",
    "            if s in sen2_clean:\n",
    "                ordered_sen2.append(sen2_clean[s])\n",
    "\n",
    "        \n",
    "        \"\"\"READ SPOT6\"\"\"\n",
    "        spot6 = rasterio.open(self.folder_path+\"y/\"+spot6_file).read()\n",
    "\n",
    "    \n",
    "        \"\"\"READ SEN2 SERIES\"\"\"\n",
    "        # read first file\n",
    "        sen2 = rasterio.open(self.folder_path+\"x/\"+ordered_sen2[0]).read()\n",
    "        \n",
    "        if self.sen2_amount>1:\n",
    "            # read following sen2 and stack\n",
    "            count=1\n",
    "            for i in ordered_sen2[1:]:\n",
    "                # read file as array\n",
    "                sen2_following = rasterio.open(self.folder_path+\"x/\"+ordered_sen2[count]).read()\n",
    "                # stack to previous images\n",
    "                sen2 = np.concatenate([sen2, sen2_following])\n",
    "\n",
    "                # break if all wanted files loaded\n",
    "                count=count+1\n",
    "                if count==self.sen2_amount:\n",
    "                    break\n",
    "            # if final count not yet reached, repeat last chip until enough are there\n",
    "            while count<self.sen2_amount:\n",
    "                sen2 = np.concatenate([sen2, sen2_following])\n",
    "                count=count+1\n",
    "                \n",
    "        \n",
    "        def minmax(img):\n",
    "            return(img-np.min(img,axis=(0,1)) ) / (np.max(img,axis=(0,1))-np.min(img,axis=(0,1)))\n",
    "        \n",
    "        #_ = plt.hist(np.ndarray.flatten(spot6), bins=100)\n",
    "        #plt.title(\"hist. Spot6 before\")\n",
    "        #plt.show()\n",
    "        \n",
    "        # perform radiometric transform to sen2\n",
    "        spot6 = self.moment_matching(sen2,spot6)\n",
    "        print(spot6.shape,sen2.shape)\n",
    "        sen2_im,spot6_im = sen2.transpose(1,2,0),spot6.transpose(1,2,0)\n",
    "        print(spot6_im.shape,sen2_im.shape)\n",
    "        \n",
    "        print(np.min(spot6_im),np.min(sen2_im))\n",
    "        spot6_im[spot6_im <0] = 0\n",
    "        sen2_im[sen2_im <0] = 0\n",
    "        print(np.min(spot6_im),np.min(sen2_im))\n",
    "        \n",
    "        # stretch to 0..1\n",
    "        spot6_im = spot6_im/10000.0\n",
    "        sen2_im  = sen2_im/10000.0\n",
    "        \n",
    "        plt.imshow(minmax(spot6_im))\n",
    "        plt.title=\"spot6\"\n",
    "        plt.show()\n",
    "        plt.imshow(minmax(sen2_im))\n",
    "        plt.title=\"sen2\"\n",
    "        plt.show()\n",
    "\n",
    "\n",
    "        # transform to tensor\n",
    "        sen2  = torch.from_numpy(sen2)\n",
    "        spot6 = torch.from_numpy(spot6)\n",
    "        sen2 = sen2.float()\n",
    "        spot6 = spot6.float()\n",
    "        \n",
    "        # define transformer\n",
    "        #transform_spot = transforms.Compose([transforms.Normalize(mean=[479.0, 537.0, 344.0], std=[430.0, 290.0, 229.0]) ])\n",
    "        # dynamically define transform to reflect shape of tensor\n",
    "        #trans_mean,trans_std = [78.0, 91.0, 62.0]*self.sen2_amount,[36.0, 28.0, 30.0]*self.sen2_amount\n",
    "        #transform_sen = transforms.Compose([transforms.Normalize(mean=trans_mean, std= trans_std)])\n",
    "        # perform transform\n",
    "        #sen2  = transform_sen(sen2)\n",
    "        #spot6 = transform_spot(spot6)\n",
    "        \n",
    "        # return result\n",
    "        return(spot6,sen2)\n"
   ]
  },
  {
   "cell_type": "code",
   "execution_count": 406,
   "metadata": {},
   "outputs": [],
   "source": [
    "dataset = Dataset(\"data_f4/\",\"data_f4_pkls/df_saved_images.pkl\",sen2_amount=1,sen2_tile=\"T30UXU\")\n",
    "loader  = DataLoader(dataset,batch_size=64, shuffle=True, num_workers=0,pin_memory=True,\n",
    "                    drop_last=True,prefetch_factor=2)"
   ]
  },
  {
   "cell_type": "markdown",
   "metadata": {},
   "source": [
    "# Time difference distribution"
   ]
  },
  {
   "cell_type": "code",
   "execution_count": 447,
   "metadata": {},
   "outputs": [],
   "source": [
    "time_dif_1 = []\n",
    "time_dif_2 = []\n",
    "time_dif_3 = []\n",
    "time_dif_4 = []\n",
    "for i in dataset.df[\"other_valid_acq\"]:\n",
    "    time_dif_1.append(sorted(i.keys())[0])\n",
    "    time_dif_2.append(sorted(i.keys())[1])\n",
    "    time_dif_3.append(sorted(i.keys())[2])\n",
    "    time_dif_4.append(sorted(i.keys())[3])\n",
    "time_dif = pd.DataFrame(list(zip(time_dif_1,time_dif_2,time_dif_3,time_dif_4)),columns=[\"closest\",\"2nd closest\",\"3rd closest\",\"4th closest\"])"
   ]
  },
  {
   "cell_type": "code",
   "execution_count": 448,
   "metadata": {},
   "outputs": [
    {
     "data": {
      "text/html": [
       "<div>\n",
       "<style scoped>\n",
       "    .dataframe tbody tr th:only-of-type {\n",
       "        vertical-align: middle;\n",
       "    }\n",
       "\n",
       "    .dataframe tbody tr th {\n",
       "        vertical-align: top;\n",
       "    }\n",
       "\n",
       "    .dataframe thead th {\n",
       "        text-align: right;\n",
       "    }\n",
       "</style>\n",
       "<table border=\"1\" class=\"dataframe\">\n",
       "  <thead>\n",
       "    <tr style=\"text-align: right;\">\n",
       "      <th></th>\n",
       "      <th>closest</th>\n",
       "      <th>2nd closest</th>\n",
       "      <th>3rd closest</th>\n",
       "      <th>4th closest</th>\n",
       "    </tr>\n",
       "  </thead>\n",
       "  <tbody>\n",
       "    <tr>\n",
       "      <th>0</th>\n",
       "      <td>0</td>\n",
       "      <td>3</td>\n",
       "      <td>6</td>\n",
       "      <td>15</td>\n",
       "    </tr>\n",
       "    <tr>\n",
       "      <th>1</th>\n",
       "      <td>0</td>\n",
       "      <td>3</td>\n",
       "      <td>6</td>\n",
       "      <td>15</td>\n",
       "    </tr>\n",
       "    <tr>\n",
       "      <th>2</th>\n",
       "      <td>0</td>\n",
       "      <td>3</td>\n",
       "      <td>6</td>\n",
       "      <td>15</td>\n",
       "    </tr>\n",
       "    <tr>\n",
       "      <th>3</th>\n",
       "      <td>0</td>\n",
       "      <td>3</td>\n",
       "      <td>6</td>\n",
       "      <td>15</td>\n",
       "    </tr>\n",
       "    <tr>\n",
       "      <th>4</th>\n",
       "      <td>0</td>\n",
       "      <td>3</td>\n",
       "      <td>6</td>\n",
       "      <td>15</td>\n",
       "    </tr>\n",
       "    <tr>\n",
       "      <th>...</th>\n",
       "      <td>...</td>\n",
       "      <td>...</td>\n",
       "      <td>...</td>\n",
       "      <td>...</td>\n",
       "    </tr>\n",
       "    <tr>\n",
       "      <th>9185</th>\n",
       "      <td>1</td>\n",
       "      <td>14</td>\n",
       "      <td>29</td>\n",
       "      <td>64</td>\n",
       "    </tr>\n",
       "    <tr>\n",
       "      <th>9186</th>\n",
       "      <td>1</td>\n",
       "      <td>14</td>\n",
       "      <td>29</td>\n",
       "      <td>64</td>\n",
       "    </tr>\n",
       "    <tr>\n",
       "      <th>9187</th>\n",
       "      <td>1</td>\n",
       "      <td>14</td>\n",
       "      <td>29</td>\n",
       "      <td>64</td>\n",
       "    </tr>\n",
       "    <tr>\n",
       "      <th>9188</th>\n",
       "      <td>1</td>\n",
       "      <td>14</td>\n",
       "      <td>29</td>\n",
       "      <td>64</td>\n",
       "    </tr>\n",
       "    <tr>\n",
       "      <th>9189</th>\n",
       "      <td>1</td>\n",
       "      <td>14</td>\n",
       "      <td>29</td>\n",
       "      <td>64</td>\n",
       "    </tr>\n",
       "  </tbody>\n",
       "</table>\n",
       "<p>9190 rows × 4 columns</p>\n",
       "</div>"
      ],
      "text/plain": [
       "      closest  2nd closest  3rd closest  4th closest\n",
       "0           0            3            6           15\n",
       "1           0            3            6           15\n",
       "2           0            3            6           15\n",
       "3           0            3            6           15\n",
       "4           0            3            6           15\n",
       "...       ...          ...          ...          ...\n",
       "9185        1           14           29           64\n",
       "9186        1           14           29           64\n",
       "9187        1           14           29           64\n",
       "9188        1           14           29           64\n",
       "9189        1           14           29           64\n",
       "\n",
       "[9190 rows x 4 columns]"
      ]
     },
     "execution_count": 448,
     "metadata": {},
     "output_type": "execute_result"
    }
   ],
   "source": [
    "time_dif"
   ]
  },
  {
   "cell_type": "code",
   "execution_count": 457,
   "metadata": {},
   "outputs": [
    {
     "data": {
      "image/png": "[encoded data removed]",
      "text/plain": [
       "<Figure size 432x288 with 1 Axes>"
      ]
     },
     "metadata": {
      "needs_background": "light"
     },
     "output_type": "display_data"
    }
   ],
   "source": [
    "ax = time_dif.boxplot()\n",
    "ax.set_title(\"Time difference Boxplot for 4 closest acq.\")\n",
    "ax.set_ylabel(\"Difference in Days\")\n",
    "\n",
    "plt.show()"
   ]
  },
  {
   "cell_type": "code",
   "execution_count": 461,
   "metadata": {},
   "outputs": [
    {
     "data": {
      "image/png": "[encoded data removed]",
      "text/plain": [
       "<Figure size 432x288 with 4 Axes>"
      ]
     },
     "metadata": {
      "needs_background": "light"
     },
     "output_type": "display_data"
    }
   ],
   "source": [
    "time_dif.hist()\n",
    "plt.suptitle(\"Histograms for 4 closest acq.\")\n",
    "plt.show()"
   ]
  },
  {
   "cell_type": "code",
   "execution_count": null,
   "metadata": {},
   "outputs": [],
   "source": []
  },
  {
   "cell_type": "code",
   "execution_count": null,
   "metadata": {},
   "outputs": [],
   "source": []
  },
  {
   "cell_type": "code",
   "execution_count": 507,
   "metadata": {},
   "outputs": [
    {
     "data": {
      "text/plain": [
       "5"
      ]
     },
     "execution_count": 507,
     "metadata": {},
     "output_type": "execute_result"
    }
   ],
   "source": [
    "10//2"
   ]
  },
  {
   "cell_type": "code",
   "execution_count": null,
   "metadata": {},
   "outputs": [],
   "source": []
  },
  {
   "cell_type": "code",
   "execution_count": null,
   "metadata": {},
   "outputs": [],
   "source": []
  },
  {
   "cell_type": "code",
   "execution_count": null,
   "metadata": {},
   "outputs": [],
   "source": []
  },
  {
   "cell_type": "code",
   "execution_count": null,
   "metadata": {},
   "outputs": [],
   "source": []
  },
  {
   "cell_type": "code",
   "execution_count": 502,
   "metadata": {},
   "outputs": [
    {
     "data": {
      "text/plain": [
       "'1.3.4'"
      ]
     },
     "execution_count": 502,
     "metadata": {},
     "output_type": "execute_result"
    }
   ],
   "source": [
    "pd.__version__"
   ]
  },
  {
   "cell_type": "code",
   "execution_count": 503,
   "metadata": {},
   "outputs": [],
   "source": [
    "import geopandas"
   ]
  },
  {
   "cell_type": "code",
   "execution_count": 505,
   "metadata": {},
   "outputs": [
    {
     "data": {
      "text/plain": [
       "'0.10.2'"
      ]
     },
     "execution_count": 505,
     "metadata": {},
     "output_type": "execute_result"
    }
   ],
   "source": [
    "geopandas.__version__"
   ]
  },
  {
   "cell_type": "code",
   "execution_count": null,
   "metadata": {},
   "outputs": [],
   "source": []
  }
 ],
 "metadata": {
  "kernelspec": {
   "display_name": "Python 3",
   "language": "python",
   "name": "python3"
  },
  "language_info": {
   "codemirror_mode": {
    "name": "ipython",
    "version": 3
   },
   "file_extension": ".py",
   "mimetype": "text/x-python",
   "name": "python",
   "nbconvert_exporter": "python",
   "pygments_lexer": "ipython3",
   "version": "3.7.6"
  }
 },
 "nbformat": 4,
 "nbformat_minor": 4
}
