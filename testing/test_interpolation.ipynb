{
 "cells": [
  {
   "cell_type": "code",
   "execution_count": 1,
   "metadata": {},
   "outputs": [],
   "source": [
    "# General Imports\n",
    "import pandas as pd\n",
    "import matplotlib.pyplot as plt\n",
    "import random\n",
    "import geopandas\n",
    "import copy\n",
    "import numpy as np\n",
    "\n",
    "import torch\n",
    "import torch.nn as nn\n",
    "import torch.nn.functional as F\n",
    "import torch.optim as optim\n",
    "import torchvision\n",
    "from torch.utils.data import Dataset\n",
    "from torchvision.transforms import transforms\n",
    "import torchvision.datasets as datasets\n",
    "from torch.utils.data import DataLoader, random_split\n",
    "from torchvision.transforms import ToTensor\n",
    "\n",
    "import warnings\n",
    "import random\n",
    "import time\n",
    "\n",
    "import skimage\n",
    "from skimage.transform import rescale\n",
    "import cv2\n",
    "\n",
    "from skimage import data, img_as_float\n",
    "from skimage.metrics import structural_similarity as ssim\n",
    "from skimage.metrics import mean_squared_error"
   ]
  },
  {
   "cell_type": "code",
   "execution_count": 3,
   "metadata": {},
   "outputs": [],
   "source": [
    "# local imports\n",
    "from dataloader_v5 import Dataset"
   ]
  },
  {
   "cell_type": "code",
   "execution_count": 4,
   "metadata": {},
   "outputs": [
    {
     "name": "stdout",
     "output_type": "stream",
     "text": [
      "precalculated dataset file found, loading...\n",
      "\n",
      "Dataset Object successfully instanciated!\n",
      "Loader Length:  68150\n"
     ]
    }
   ],
   "source": [
    "# define paths\n",
    "spot6_mosaic = '/home/simon/CDE_UBS/thesis/data_collection/spot6/spot6_mosaic.tif'\n",
    "spot6_path = \"/home/simon/CDE_UBS/thesis/data_collection/spot6/\"\n",
    "sen2_path = \"/home/simon/CDE_UBS/thesis/data_collection/sen2/merged_reprojected/\"\n",
    "closest_dates_filepath = \"/home/simon/CDE_UBS/thesis/data_loader/data/closest_dates.pkl\"\n",
    "\n",
    "# get dataset object\n",
    "dataset = Dataset(spot6_mosaic,sen2_path,spot6_path,closest_dates_filepath,window_size=500,factor=(10/1.5))\n",
    "loader = DataLoader(dataset,batch_size=1, shuffle=True, num_workers=1)\n",
    "print(\"Loader Length: \",len(loader))"
   ]
  },
  {
   "cell_type": "markdown",
   "metadata": {},
   "source": [
    "# Test Interpolation and Loss"
   ]
  },
  {
   "cell_type": "code",
   "execution_count": 14,
   "metadata": {},
   "outputs": [],
   "source": [
    "def interpolate(img):\n",
    "    \"\"\"\n",
    "    Input:\n",
    "        - Image\n",
    "    Output:\n",
    "        - Image upsampled to 75*75\n",
    "    \"\"\"\n",
    "    #img = rescale(img,6.6666666666666)\n",
    "    img = cv2.resize(img, (500,500))\n",
    "    return(img)\n",
    "\n",
    "# https://arxiv.org/abs/1603.08155\n",
    "# https://scikit-image.org/docs/dev/auto_examples/transform/plot_ssim.html\n",
    "\n",
    "\n",
    "def downsample(img):\n",
    "    \"\"\"\n",
    "    Input:\n",
    "        - Image\n",
    "    Output:\n",
    "        - Image downsampled to 75*75\n",
    "    \"\"\"\n",
    "    img = cv2.resize(img, (75,75))\n",
    "    return(img)\n",
    "    \n",
    "    \n",
    "def ssim_calc(a,b):\n",
    "    ssim_const = ssim(a, b,data_range=b.max() - b.min(),multichannel=True)\n",
    "    return(ssim_const)\n",
    "\n",
    "\n",
    "\n",
    "\n",
    "#Implement the following as losses\n",
    "\n",
    "# implement lpips, https://github.com/richzhang/PerceptualSimilarity\n",
    "# MSE pixel-wise\n",
    "# PSNR - peak signal to noise"
   ]
  },
  {
   "cell_type": "code",
   "execution_count": null,
   "metadata": {},
   "outputs": [],
   "source": [
    "for i in range(0,10):\n",
    "    a,b = dataset.__getitem__(random.randint(0,len(dataset)))\n",
    "    a = np.transpose(a,(1,2,0))\n",
    "    b = np.transpose(b,(1,2,0))\n",
    "    \n",
    "    loss_upsampled_sen2 = round(ssim_calc(a,interpolate(b)),3)\n",
    "    loss_upsampled_spot6 = round(ssim_calc(a,interpolate(downsample(a))),3)\n",
    "    \n",
    "    fig, (ax1, ax2, ax3) = plt.subplots(1, 3,figsize=(10,5))\n",
    "    #fig.suptitle(\"Similarity Test\")\n",
    "    ax1.imshow(a)\n",
    "    ax1.set_title(\"Ground Truth\")\n",
    "    ax2.imshow(interpolate(downsample(a)))\n",
    "    ax2.set_title(\"Downsampled & interpolated Spot6\\nSSIM: \"+str(loss_upsampled_spot6))\n",
    "    ax3.imshow(interpolate(b))\n",
    "    ax3.set_title(\"Upsampled Sen2\\nSSIM: \"+str(loss_upsampled_sen2))\n",
    "    plt.show()"
   ]
  },
  {
   "cell_type": "code",
   "execution_count": 15,
   "metadata": {},
   "outputs": [
    {
     "name": "stdout",
     "output_type": "stream",
     "text": [
      "/home/simon/CDE_UBS/thesis/testing\n"
     ]
    }
   ],
   "source": [
    "!pwd"
   ]
  },
  {
   "cell_type": "code",
   "execution_count": null,
   "metadata": {},
   "outputs": [],
   "source": []
  },
  {
   "cell_type": "code",
   "execution_count": null,
   "metadata": {},
   "outputs": [],
   "source": []
  }
 ],
 "metadata": {
  "kernelspec": {
   "display_name": "Python 3",
   "language": "python",
   "name": "python3"
  },
  "language_info": {
   "codemirror_mode": {
    "name": "ipython",
    "version": 3
   },
   "file_extension": ".py",
   "mimetype": "text/x-python",
   "name": "python",
   "nbconvert_exporter": "python",
   "pygments_lexer": "ipython3",
   "version": "3.7.6"
  }
 },
 "nbformat": 4,
 "nbformat_minor": 4
}
