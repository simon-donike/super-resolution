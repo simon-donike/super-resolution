{
 "cells": [
  {
   "cell_type": "code",
   "execution_count": null,
   "metadata": {},
   "outputs": [
    {
     "name": "stdout",
     "output_type": "stream",
     "text": [
      "subfolders created!\n",
      "preparation done!\n",
      "\n",
      "\n",
      "59610 / 68121            \r"
     ]
    }
   ],
   "source": [
    "import pandas as pd\n",
    "import os\n",
    "import random\n",
    "\n",
    "\n",
    "#\"\"\"\n",
    "# Create subfolders\n",
    "for i in range(1,1000):\n",
    "    os.system(\"mkdir x_sub/\"+str(i))\n",
    "    os.system(\"mkdir y_sub/\"+str(i))\n",
    "#\"\"\"\n",
    "print(\"subfolders created!\")\n",
    "\n",
    "df = pd.read_pickle(\"df_saved_images.pkl\")\n",
    "\n",
    "path_x = \"/home/simon/CDE_UBS/thesis/testing/data_f4/x/\"\n",
    "path_y = \"/home/simon/CDE_UBS/thesis/testing/data_f4/y/\"\n",
    "\n",
    "new_path_x = \"/home/simon/CDE_UBS/thesis/testing/data_f4/x_sub/\"\n",
    "new_path_y = \"/home/simon/CDE_UBS/thesis/testing/data_f4/y_sub/\"\n",
    "\n",
    "print(\"preparation done!\")\n",
    "print(\"\\n\")\n",
    "\n",
    "l = []\n",
    "counter = 0\n",
    "for sen,spot in zip(df[\"sen2_filenames\"],df[\"spot6_filenames\"]):\n",
    "    new_path = random.randint(1,999)\n",
    "    \n",
    "    # sen2\n",
    "    for i in sen:\n",
    "        os.system(\"cp \"+path_x+i+\" \"+new_path_x+str(new_path)+\"/\"+i)\n",
    "        \n",
    "    # spot 6\n",
    "    os.system(\"cp \"+path_y+spot+\" \"+new_path_y+str(new_path)+\"/\"+spot)\n",
    "    \n",
    "    l.append(new_path)\n",
    "    \n",
    "    \n",
    "    counter = counter+1\n",
    "    if counter%10==0:\n",
    "        print(counter,\"/\",len(df),\"           \",end=\"\\r\")\n",
    "df[\"subfolder\"]=l"
   ]
  },
  {
   "cell_type": "code",
   "execution_count": null,
   "metadata": {},
   "outputs": [],
   "source": [
    "df.to_pickle(\"images_subfolders3.pkl\")"
   ]
  },
  {
   "cell_type": "code",
   "execution_count": null,
   "metadata": {},
   "outputs": [],
   "source": [
    "!zip -r data_f4.zip x_sub y_sub images_subfolders3.pkl >/dev/null"
   ]
  },
  {
   "cell_type": "code",
   "execution_count": null,
   "metadata": {},
   "outputs": [],
   "source": []
  },
  {
   "cell_type": "code",
   "execution_count": null,
   "metadata": {},
   "outputs": [],
   "source": []
  },
  {
   "cell_type": "code",
   "execution_count": null,
   "metadata": {},
   "outputs": [],
   "source": []
  },
  {
   "cell_type": "code",
   "execution_count": null,
   "metadata": {},
   "outputs": [],
   "source": []
  },
  {
   "cell_type": "code",
   "execution_count": null,
   "metadata": {},
   "outputs": [],
   "source": []
  },
  {
   "cell_type": "code",
   "execution_count": null,
   "metadata": {},
   "outputs": [],
   "source": []
  }
 ],
 "metadata": {
  "kernelspec": {
   "display_name": "Python 3",
   "language": "python",
   "name": "python3"
  },
  "language_info": {
   "codemirror_mode": {
    "name": "ipython",
    "version": 3
   },
   "file_extension": ".py",
   "mimetype": "text/x-python",
   "name": "python",
   "nbconvert_exporter": "python",
   "pygments_lexer": "ipython3",
   "version": "3.7.6"
  }
 },
 "nbformat": 4,
 "nbformat_minor": 4
}
