{
 "cells": [
  {
   "cell_type": "code",
   "execution_count": 1,
   "metadata": {},
   "outputs": [],
   "source": [
    "import rasterio\n",
    "import os\n",
    "import glob\n",
    "import pandas as pd\n",
    "from PIL import Image\n",
    "from numpy import asarray\n",
    "import numpy as np\n",
    "from scipy import stats\n",
    "import matplotlib as plt\n",
    "import cv2"
   ]
  },
  {
   "cell_type": "code",
   "execution_count": 2,
   "metadata": {},
   "outputs": [],
   "source": [
    "# Get files\n",
    "dir_spot = \"/home/simon/CDE_UBS/thesis/data_collection/spot6/\"\n",
    "dir_sen = \"/home/simon/CDE_UBS/thesis/data_collection/sen2/merged_reprojected/\"\n",
    "\n",
    "def find_files(path,critera):\n",
    "    search_term = os.path.join(path, critera)\n",
    "    files = glob.glob(search_term)\n",
    "    return(files)"
   ]
  },
  {
   "cell_type": "code",
   "execution_count": 3,
   "metadata": {},
   "outputs": [],
   "source": [
    "def get_stats(filepaths):\n",
    "    counter = 0\n",
    "    file_stats_dict = []\n",
    "    file_stats_ls = []\n",
    "    \n",
    "    for file in filepaths:\n",
    "        stats_file_dict = {}\n",
    "        stats_file_ls = {}\n",
    "        \n",
    "        try:\n",
    "            with rasterio.open(file, 'r') as ds:\n",
    "                arr = ds.read()  # read all raster values\n",
    "                arr = np.transpose(arr, (1,2,0))\n",
    "        except:\n",
    "            pass\n",
    "        \n",
    "        # catch errors for faulty images(?)\n",
    "        try:\n",
    "            b1 = arr[:,:,0].flatten()\n",
    "            b2 = arr[:,:,1].flatten()\n",
    "            b3 = arr[:,:,2].flatten()\n",
    "\n",
    "            # remove invalid data\n",
    "            b1 = b1[(b1 > 0) & (b1 <= 9999)]\n",
    "            b2 = b2[(b2 > 0) & (b2 <= 9999)]\n",
    "            b3 = b3[(b3 > 0) & (b3 <= 9999)]\n",
    "\n",
    "            # append to return dict\n",
    "            stats_file_dict[\"b1\"] = [len(b1),int(np.sum(b1)),round(np.nanmean(b1),3),round(np.nanstd(b1),3)]\n",
    "            stats_file_dict[\"b2\"] = [len(b2),int(np.sum(b2)),round(np.nanmean(b2),3),round(np.nanstd(b2),3)]\n",
    "            stats_file_dict[\"b3\"] = [len(b3),int(np.sum(b3)),round(np.nanmean(b3),3),round(np.nanstd(b3),3)]\n",
    "            file_stats_dict.append(stats_file_ls)\n",
    "            # append everyting to return ls (for potential pd df)\n",
    "            file_stats_ls.append([file,\"B1\",len(b1),int(np.sum(b1)),round(np.nanmean(b1),3),round(np.nanstd(b1),3)])\n",
    "            file_stats_ls.append([file,\"B2\",len(b2),int(np.sum(b2)),round(np.nanmean(b2),3),round(np.nanstd(b2),3)])\n",
    "            file_stats_ls.append([file,\"B3\",len(b3),int(np.sum(b3)),round(np.nanmean(b3),3),round(np.nanstd(b3),3)])\n",
    "            \n",
    "        except IndexError:\n",
    "            pass\n",
    "       \n",
    "    # print progress\n",
    "        counter = counter+1\n",
    "        print(counter,\"/\",len(filepaths),\" finished                \",end=\"\\r\")\n",
    "        \n",
    "        \"\"\"\n",
    "        # implement early stop for testing\n",
    "        if counter==5:\n",
    "            print(\"\\nearly stop\")\n",
    "            return(pd.DataFrame(pd.DataFrame(file_stats_ls,columns=[\"path\",\"band\",\"len\",\"sum\",\"mean\",\"stdev\"])))\n",
    "        \"\"\"\n",
    "    return(pd.DataFrame(pd.DataFrame(file_stats_ls,columns=[\"path\",\"band\",\"len\",\"sum\",\"mean\",\"stdev\"])))"
   ]
  },
  {
   "cell_type": "code",
   "execution_count": 8,
   "metadata": {},
   "outputs": [
    {
     "name": "stdout",
     "output_type": "stream",
     "text": [
      "126 / 126  finished                \r"
     ]
    }
   ],
   "source": [
    "# find files\n",
    "files_spot = find_files(dir_spot,\"*.jp2\")\n",
    "files_sen  = find_files(dir_sen,\"*.tif\")\n",
    "\n",
    "\n",
    "# claculate stats and save\n",
    "#stats_spot = get_stats(files_spot)\n",
    "#stats_spot.to_pickle(\"stats_spot.pkl\")\n",
    "stats_sen = get_stats(files_sen)\n",
    "stats_sen.to_pickle(\"stats_sen.pkl\")"
   ]
  },
  {
   "cell_type": "code",
   "execution_count": 12,
   "metadata": {},
   "outputs": [
    {
     "data": {
      "text/plain": [
       "<AxesSubplot:>"
      ]
     },
     "execution_count": 12,
     "metadata": {},
     "output_type": "execute_result"
    },
    {
     "data": {
      "image/png": "[encoded data removed]",
      "text/plain": [
       "<Figure size 432x288 with 1 Axes>"
      ]
     },
     "metadata": {
      "needs_background": "light"
     },
     "output_type": "display_data"
    }
   ],
   "source": []
  },
  {
   "cell_type": "code",
   "execution_count": 9,
   "metadata": {},
   "outputs": [],
   "source": [
    "stats_sen = pd.read_pickle(\"stats_sen.pkl\")\n",
    "stats_spot = pd.read_pickle(\"stats_spot.pkl\")"
   ]
  },
  {
   "cell_type": "code",
   "execution_count": 10,
   "metadata": {},
   "outputs": [
    {
     "data": {
      "text/html": [
       "<div>\n",
       "<style scoped>\n",
       "    .dataframe tbody tr th:only-of-type {\n",
       "        vertical-align: middle;\n",
       "    }\n",
       "\n",
       "    .dataframe tbody tr th {\n",
       "        vertical-align: top;\n",
       "    }\n",
       "\n",
       "    .dataframe thead th {\n",
       "        text-align: right;\n",
       "    }\n",
       "</style>\n",
       "<table border=\"1\" class=\"dataframe\">\n",
       "  <thead>\n",
       "    <tr style=\"text-align: right;\">\n",
       "      <th></th>\n",
       "      <th>path</th>\n",
       "      <th>band</th>\n",
       "      <th>len</th>\n",
       "      <th>sum</th>\n",
       "      <th>mean</th>\n",
       "      <th>stdev</th>\n",
       "    </tr>\n",
       "  </thead>\n",
       "  <tbody>\n",
       "    <tr>\n",
       "      <th>0</th>\n",
       "      <td>/home/simon/CDE_UBS/thesis/data_collection/sen...</td>\n",
       "      <td>B1</td>\n",
       "      <td>118243561</td>\n",
       "      <td>51760122191</td>\n",
       "      <td>437.742</td>\n",
       "      <td>389.987</td>\n",
       "    </tr>\n",
       "    <tr>\n",
       "      <th>1</th>\n",
       "      <td>/home/simon/CDE_UBS/thesis/data_collection/sen...</td>\n",
       "      <td>B2</td>\n",
       "      <td>120413818</td>\n",
       "      <td>69953550975</td>\n",
       "      <td>580.943</td>\n",
       "      <td>257.285</td>\n",
       "    </tr>\n",
       "    <tr>\n",
       "      <th>2</th>\n",
       "      <td>/home/simon/CDE_UBS/thesis/data_collection/sen...</td>\n",
       "      <td>B3</td>\n",
       "      <td>117783324</td>\n",
       "      <td>32690822430</td>\n",
       "      <td>277.551</td>\n",
       "      <td>212.205</td>\n",
       "    </tr>\n",
       "    <tr>\n",
       "      <th>3</th>\n",
       "      <td>/home/simon/CDE_UBS/thesis/data_collection/sen...</td>\n",
       "      <td>B1</td>\n",
       "      <td>99465448</td>\n",
       "      <td>43104024603</td>\n",
       "      <td>433.357</td>\n",
       "      <td>259.089</td>\n",
       "    </tr>\n",
       "    <tr>\n",
       "      <th>4</th>\n",
       "      <td>/home/simon/CDE_UBS/thesis/data_collection/sen...</td>\n",
       "      <td>B2</td>\n",
       "      <td>99465501</td>\n",
       "      <td>48394600500</td>\n",
       "      <td>486.547</td>\n",
       "      <td>223.435</td>\n",
       "    </tr>\n",
       "    <tr>\n",
       "      <th>...</th>\n",
       "      <td>...</td>\n",
       "      <td>...</td>\n",
       "      <td>...</td>\n",
       "      <td>...</td>\n",
       "      <td>...</td>\n",
       "      <td>...</td>\n",
       "    </tr>\n",
       "    <tr>\n",
       "      <th>373</th>\n",
       "      <td>/home/simon/CDE_UBS/thesis/data_collection/sen...</td>\n",
       "      <td>B2</td>\n",
       "      <td>22903149</td>\n",
       "      <td>14535312636</td>\n",
       "      <td>634.643</td>\n",
       "      <td>233.551</td>\n",
       "    </tr>\n",
       "    <tr>\n",
       "      <th>374</th>\n",
       "      <td>/home/simon/CDE_UBS/thesis/data_collection/sen...</td>\n",
       "      <td>B3</td>\n",
       "      <td>22901753</td>\n",
       "      <td>10374255053</td>\n",
       "      <td>452.990</td>\n",
       "      <td>225.234</td>\n",
       "    </tr>\n",
       "    <tr>\n",
       "      <th>375</th>\n",
       "      <td>/home/simon/CDE_UBS/thesis/data_collection/sen...</td>\n",
       "      <td>B1</td>\n",
       "      <td>110614877</td>\n",
       "      <td>63950874078</td>\n",
       "      <td>578.140</td>\n",
       "      <td>512.683</td>\n",
       "    </tr>\n",
       "    <tr>\n",
       "      <th>376</th>\n",
       "      <td>/home/simon/CDE_UBS/thesis/data_collection/sen...</td>\n",
       "      <td>B2</td>\n",
       "      <td>114253444</td>\n",
       "      <td>69069427857</td>\n",
       "      <td>604.528</td>\n",
       "      <td>328.210</td>\n",
       "    </tr>\n",
       "    <tr>\n",
       "      <th>377</th>\n",
       "      <td>/home/simon/CDE_UBS/thesis/data_collection/sen...</td>\n",
       "      <td>B3</td>\n",
       "      <td>114695014</td>\n",
       "      <td>39693777593</td>\n",
       "      <td>346.081</td>\n",
       "      <td>262.565</td>\n",
       "    </tr>\n",
       "  </tbody>\n",
       "</table>\n",
       "<p>378 rows × 6 columns</p>\n",
       "</div>"
      ],
      "text/plain": [
       "                                                  path band        len  \\\n",
       "0    /home/simon/CDE_UBS/thesis/data_collection/sen...   B1  118243561   \n",
       "1    /home/simon/CDE_UBS/thesis/data_collection/sen...   B2  120413818   \n",
       "2    /home/simon/CDE_UBS/thesis/data_collection/sen...   B3  117783324   \n",
       "3    /home/simon/CDE_UBS/thesis/data_collection/sen...   B1   99465448   \n",
       "4    /home/simon/CDE_UBS/thesis/data_collection/sen...   B2   99465501   \n",
       "..                                                 ...  ...        ...   \n",
       "373  /home/simon/CDE_UBS/thesis/data_collection/sen...   B2   22903149   \n",
       "374  /home/simon/CDE_UBS/thesis/data_collection/sen...   B3   22901753   \n",
       "375  /home/simon/CDE_UBS/thesis/data_collection/sen...   B1  110614877   \n",
       "376  /home/simon/CDE_UBS/thesis/data_collection/sen...   B2  114253444   \n",
       "377  /home/simon/CDE_UBS/thesis/data_collection/sen...   B3  114695014   \n",
       "\n",
       "             sum     mean    stdev  \n",
       "0    51760122191  437.742  389.987  \n",
       "1    69953550975  580.943  257.285  \n",
       "2    32690822430  277.551  212.205  \n",
       "3    43104024603  433.357  259.089  \n",
       "4    48394600500  486.547  223.435  \n",
       "..           ...      ...      ...  \n",
       "373  14535312636  634.643  233.551  \n",
       "374  10374255053  452.990  225.234  \n",
       "375  63950874078  578.140  512.683  \n",
       "376  69069427857  604.528  328.210  \n",
       "377  39693777593  346.081  262.565  \n",
       "\n",
       "[378 rows x 6 columns]"
      ]
     },
     "execution_count": 10,
     "metadata": {},
     "output_type": "execute_result"
    }
   ],
   "source": [
    "stats_sen"
   ]
  },
  {
   "cell_type": "code",
   "execution_count": 11,
   "metadata": {},
   "outputs": [
    {
     "data": {
      "text/html": [
       "<div>\n",
       "<style scoped>\n",
       "    .dataframe tbody tr th:only-of-type {\n",
       "        vertical-align: middle;\n",
       "    }\n",
       "\n",
       "    .dataframe tbody tr th {\n",
       "        vertical-align: top;\n",
       "    }\n",
       "\n",
       "    .dataframe thead th {\n",
       "        text-align: right;\n",
       "    }\n",
       "</style>\n",
       "<table border=\"1\" class=\"dataframe\">\n",
       "  <thead>\n",
       "    <tr style=\"text-align: right;\">\n",
       "      <th></th>\n",
       "      <th>path</th>\n",
       "      <th>band</th>\n",
       "      <th>len</th>\n",
       "      <th>sum</th>\n",
       "      <th>mean</th>\n",
       "      <th>stdev</th>\n",
       "    </tr>\n",
       "  </thead>\n",
       "  <tbody>\n",
       "    <tr>\n",
       "      <th>0</th>\n",
       "      <td>/home/simon/CDE_UBS/thesis/data_collection/spo...</td>\n",
       "      <td>B1</td>\n",
       "      <td>4000000</td>\n",
       "      <td>287940424</td>\n",
       "      <td>71.985</td>\n",
       "      <td>27.544</td>\n",
       "    </tr>\n",
       "    <tr>\n",
       "      <th>1</th>\n",
       "      <td>/home/simon/CDE_UBS/thesis/data_collection/spo...</td>\n",
       "      <td>B2</td>\n",
       "      <td>4000000</td>\n",
       "      <td>350391123</td>\n",
       "      <td>87.598</td>\n",
       "      <td>22.535</td>\n",
       "    </tr>\n",
       "    <tr>\n",
       "      <th>2</th>\n",
       "      <td>/home/simon/CDE_UBS/thesis/data_collection/spo...</td>\n",
       "      <td>B3</td>\n",
       "      <td>4000000</td>\n",
       "      <td>219063697</td>\n",
       "      <td>54.766</td>\n",
       "      <td>23.554</td>\n",
       "    </tr>\n",
       "    <tr>\n",
       "      <th>3</th>\n",
       "      <td>/home/simon/CDE_UBS/thesis/data_collection/spo...</td>\n",
       "      <td>B1</td>\n",
       "      <td>4000000</td>\n",
       "      <td>352541984</td>\n",
       "      <td>88.135</td>\n",
       "      <td>38.127</td>\n",
       "    </tr>\n",
       "    <tr>\n",
       "      <th>4</th>\n",
       "      <td>/home/simon/CDE_UBS/thesis/data_collection/spo...</td>\n",
       "      <td>B2</td>\n",
       "      <td>4000000</td>\n",
       "      <td>402697615</td>\n",
       "      <td>100.674</td>\n",
       "      <td>24.382</td>\n",
       "    </tr>\n",
       "    <tr>\n",
       "      <th>...</th>\n",
       "      <td>...</td>\n",
       "      <td>...</td>\n",
       "      <td>...</td>\n",
       "      <td>...</td>\n",
       "      <td>...</td>\n",
       "      <td>...</td>\n",
       "    </tr>\n",
       "    <tr>\n",
       "      <th>10048</th>\n",
       "      <td>/home/simon/CDE_UBS/thesis/data_collection/spo...</td>\n",
       "      <td>B2</td>\n",
       "      <td>4000000</td>\n",
       "      <td>346465887</td>\n",
       "      <td>86.616</td>\n",
       "      <td>30.413</td>\n",
       "    </tr>\n",
       "    <tr>\n",
       "      <th>10049</th>\n",
       "      <td>/home/simon/CDE_UBS/thesis/data_collection/spo...</td>\n",
       "      <td>B3</td>\n",
       "      <td>4000000</td>\n",
       "      <td>239504216</td>\n",
       "      <td>59.876</td>\n",
       "      <td>31.767</td>\n",
       "    </tr>\n",
       "    <tr>\n",
       "      <th>10050</th>\n",
       "      <td>/home/simon/CDE_UBS/thesis/data_collection/spo...</td>\n",
       "      <td>B1</td>\n",
       "      <td>4000000</td>\n",
       "      <td>274835398</td>\n",
       "      <td>68.709</td>\n",
       "      <td>37.081</td>\n",
       "    </tr>\n",
       "    <tr>\n",
       "      <th>10051</th>\n",
       "      <td>/home/simon/CDE_UBS/thesis/data_collection/spo...</td>\n",
       "      <td>B2</td>\n",
       "      <td>4000000</td>\n",
       "      <td>336191579</td>\n",
       "      <td>84.048</td>\n",
       "      <td>29.759</td>\n",
       "    </tr>\n",
       "    <tr>\n",
       "      <th>10052</th>\n",
       "      <td>/home/simon/CDE_UBS/thesis/data_collection/spo...</td>\n",
       "      <td>B3</td>\n",
       "      <td>4000000</td>\n",
       "      <td>210803933</td>\n",
       "      <td>52.701</td>\n",
       "      <td>27.294</td>\n",
       "    </tr>\n",
       "  </tbody>\n",
       "</table>\n",
       "<p>10053 rows × 6 columns</p>\n",
       "</div>"
      ],
      "text/plain": [
       "                                                    path band      len  \\\n",
       "0      /home/simon/CDE_UBS/thesis/data_collection/spo...   B1  4000000   \n",
       "1      /home/simon/CDE_UBS/thesis/data_collection/spo...   B2  4000000   \n",
       "2      /home/simon/CDE_UBS/thesis/data_collection/spo...   B3  4000000   \n",
       "3      /home/simon/CDE_UBS/thesis/data_collection/spo...   B1  4000000   \n",
       "4      /home/simon/CDE_UBS/thesis/data_collection/spo...   B2  4000000   \n",
       "...                                                  ...  ...      ...   \n",
       "10048  /home/simon/CDE_UBS/thesis/data_collection/spo...   B2  4000000   \n",
       "10049  /home/simon/CDE_UBS/thesis/data_collection/spo...   B3  4000000   \n",
       "10050  /home/simon/CDE_UBS/thesis/data_collection/spo...   B1  4000000   \n",
       "10051  /home/simon/CDE_UBS/thesis/data_collection/spo...   B2  4000000   \n",
       "10052  /home/simon/CDE_UBS/thesis/data_collection/spo...   B3  4000000   \n",
       "\n",
       "             sum     mean   stdev  \n",
       "0      287940424   71.985  27.544  \n",
       "1      350391123   87.598  22.535  \n",
       "2      219063697   54.766  23.554  \n",
       "3      352541984   88.135  38.127  \n",
       "4      402697615  100.674  24.382  \n",
       "...          ...      ...     ...  \n",
       "10048  346465887   86.616  30.413  \n",
       "10049  239504216   59.876  31.767  \n",
       "10050  274835398   68.709  37.081  \n",
       "10051  336191579   84.048  29.759  \n",
       "10052  210803933   52.701  27.294  \n",
       "\n",
       "[10053 rows x 6 columns]"
      ]
     },
     "execution_count": 11,
     "metadata": {},
     "output_type": "execute_result"
    }
   ],
   "source": [
    "stats_spot"
   ]
  },
  {
   "cell_type": "code",
   "execution_count": 13,
   "metadata": {},
   "outputs": [
    {
     "data": {
      "text/plain": [
       "<AxesSubplot:>"
      ]
     },
     "execution_count": 13,
     "metadata": {},
     "output_type": "execute_result"
    },
    {
     "data": {
      "image/png": "[encoded data removed]",
      "text/plain": [
       "<Figure size 432x288 with 1 Axes>"
      ]
     },
     "metadata": {
      "needs_background": "light"
     },
     "output_type": "display_data"
    }
   ],
   "source": [
    "stats_sen.boxplot(column=\"stdev\")"
   ]
  },
  {
   "cell_type": "code",
   "execution_count": 14,
   "metadata": {},
   "outputs": [
    {
     "data": {
      "text/plain": [
       "<AxesSubplot:>"
      ]
     },
     "execution_count": 14,
     "metadata": {},
     "output_type": "execute_result"
    },
    {
     "data": {
      "image/png": "[encoded data removed]",
      "text/plain": [
       "<Figure size 432x288 with 1 Axes>"
      ]
     },
     "metadata": {
      "needs_background": "light"
     },
     "output_type": "display_data"
    }
   ],
   "source": [
    "stats_spot.boxplot(column=\"stdev\")"
   ]
  },
  {
   "cell_type": "code",
   "execution_count": null,
   "metadata": {},
   "outputs": [],
   "source": []
  }
 ],
 "metadata": {
  "kernelspec": {
   "display_name": "Python 3",
   "language": "python",
   "name": "python3"
  },
  "language_info": {
   "codemirror_mode": {
    "name": "ipython",
    "version": 3
   },
   "file_extension": ".py",
   "mimetype": "text/x-python",
   "name": "python",
   "nbconvert_exporter": "python",
   "pygments_lexer": "ipython3",
   "version": "3.7.6"
  }
 },
 "nbformat": 4,
 "nbformat_minor": 4
}
