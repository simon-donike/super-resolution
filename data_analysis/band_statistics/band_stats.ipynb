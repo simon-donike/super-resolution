{
 "cells": [
  {
   "cell_type": "code",
   "execution_count": 11,
   "metadata": {},
   "outputs": [],
   "source": [
    "import rasterio\n",
    "import os\n",
    "import glob\n",
    "import pandas as pd\n",
    "from PIL import Image\n",
    "from numpy import asarray\n",
    "import numpy as np\n",
    "from scipy import stats\n",
    "import matplotlib as plt\n",
    "import cv2"
   ]
  },
  {
   "cell_type": "code",
   "execution_count": 12,
   "metadata": {},
   "outputs": [],
   "source": [
    "# Get files\n",
    "dir_spot = \"/home/simon/CDE_UBS/thesis/data_collection/spot6/\"\n",
    "dir_sen = \"/home/simon/CDE_UBS/thesis/data_collection/sen2/merged_reprojected/\"\n",
    "\n",
    "def find_files(path,critera):\n",
    "    search_term = os.path.join(path, critera)\n",
    "    files = glob.glob(search_term)\n",
    "    return(files)"
   ]
  },
  {
   "cell_type": "code",
   "execution_count": 15,
   "metadata": {},
   "outputs": [],
   "source": [
    "def get_stats(filepaths):\n",
    "    counter = 0\n",
    "    file_stats_dict = []\n",
    "    file_stats_ls = []\n",
    "    \n",
    "    for file in filepaths:\n",
    "        stats_file_dict = {}\n",
    "        stats_file_ls = {}\n",
    "        \n",
    "        #im = cv2.imread(file)\n",
    "        #im = im.astype(int)\n",
    "        with rasterio.open(file, 'r') as ds:\n",
    "            arr = ds.read()  # read all raster values\n",
    "            arr = np.transpose(arr, (1,2,0)) \n",
    "        \n",
    "        # catch errors for faulty images(?)\n",
    "        try:\n",
    "            b1 = arr[:,:,0].flatten()\n",
    "            b2 = arr[:,:,1].flatten()\n",
    "            b3 = arr[:,:,2].flatten()\n",
    "\n",
    "            # remove invalid data\n",
    "            b1 = b1[(b1 > 0) & (b1 <= 9999)]\n",
    "            b2 = b2[(b2 > 0) & (b2 <= 9999)]\n",
    "            b3 = b3[(b3 > 0) & (b3 <= 9999)]\n",
    "\n",
    "            # append to return dict\n",
    "            stats_file_dict[\"b1\"] = [len(b1),int(np.sum(b1)),round(np.nanmean(b1),3),round(np.nanstd(b1),3)]\n",
    "            stats_file_dict[\"b2\"] = [len(b2),int(np.sum(b2)),round(np.nanmean(b2),3),round(np.nanstd(b2),3)]\n",
    "            stats_file_dict[\"b3\"] = [len(b3),int(np.sum(b3)),round(np.nanmean(b3),3),round(np.nanstd(b3),3)]\n",
    "            file_stats_dict.append(stats_file_ls)\n",
    "            # append everyting to return ls (for potential pd df)\n",
    "            file_stats_ls.append([file,\"B1\",len(b1),int(np.sum(b1)),round(np.nanmean(b1),3),round(np.nanstd(b1),3)])\n",
    "            file_stats_ls.append([file,\"B2\",len(b2),int(np.sum(b2)),round(np.nanmean(b2),3),round(np.nanstd(b2),3)])\n",
    "            file_stats_ls.append([file,\"B3\",len(b3),int(np.sum(b3)),round(np.nanmean(b3),3),round(np.nanstd(b3),3)])\n",
    "        except IndexError:\n",
    "            pass\n",
    "       \n",
    "    # print progress\n",
    "        counter = counter+1\n",
    "        print(counter,\"/\",len(filepaths),\" finished                \",end=\"\\r\")\n",
    "        \n",
    "        \"\"\"\n",
    "        # implement early stop for testing\n",
    "        if counter==5:\n",
    "            print(\"\\nearly stop\")\n",
    "            return(pd.DataFrame(pd.DataFrame(file_stats_ls,columns=[\"path\",\"band\",\"len\",\"sum\",\"mean\",\"stdev\"])))\n",
    "        \"\"\"\n",
    "    return(pd.DataFrame(pd.DataFrame(file_stats_ls,columns=[\"path\",\"band\",\"len\",\"sum\",\"mean\",\"stdev\"])))"
   ]
  },
  {
   "cell_type": "code",
   "execution_count": 16,
   "metadata": {},
   "outputs": [
    {
     "name": "stdout",
     "output_type": "stream",
     "text": [
      "29 / 3008  finished                \r"
     ]
    },
    {
     "ename": "KeyboardInterrupt",
     "evalue": "",
     "output_type": "error",
     "traceback": [
      "\u001b[0;31m---------------------------------------------------------------------------\u001b[0m",
      "\u001b[0;31mKeyboardInterrupt\u001b[0m                         Traceback (most recent call last)",
      "\u001b[0;32m<ipython-input-16-4aeb9bbf2e85>\u001b[0m in \u001b[0;36m<module>\u001b[0;34m\u001b[0m\n\u001b[1;32m      5\u001b[0m \u001b[0;34m\u001b[0m\u001b[0m\n\u001b[1;32m      6\u001b[0m \u001b[0;31m# claculate stats and save\u001b[0m\u001b[0;34m\u001b[0m\u001b[0;34m\u001b[0m\u001b[0;34m\u001b[0m\u001b[0m\n\u001b[0;32m----> 7\u001b[0;31m \u001b[0mstats_spot\u001b[0m \u001b[0;34m=\u001b[0m \u001b[0mget_stats\u001b[0m\u001b[0;34m(\u001b[0m\u001b[0mfiles_spot\u001b[0m\u001b[0;34m[\u001b[0m\u001b[0;36m344\u001b[0m\u001b[0;34m:\u001b[0m\u001b[0;34m]\u001b[0m\u001b[0;34m)\u001b[0m\u001b[0;34m\u001b[0m\u001b[0;34m\u001b[0m\u001b[0m\n\u001b[0m\u001b[1;32m      8\u001b[0m \u001b[0mstats_spot\u001b[0m\u001b[0;34m.\u001b[0m\u001b[0mto_pickle\u001b[0m\u001b[0;34m(\u001b[0m\u001b[0;34m\"stats_spot.pkl\"\u001b[0m\u001b[0;34m)\u001b[0m\u001b[0;34m\u001b[0m\u001b[0;34m\u001b[0m\u001b[0m\n\u001b[1;32m      9\u001b[0m \u001b[0mstats_sen\u001b[0m \u001b[0;34m=\u001b[0m \u001b[0mget_stats\u001b[0m\u001b[0;34m(\u001b[0m\u001b[0mfiles_sen\u001b[0m\u001b[0;34m)\u001b[0m\u001b[0;34m\u001b[0m\u001b[0;34m\u001b[0m\u001b[0m\n",
      "\u001b[0;32m<ipython-input-15-3e909b7b4a3a>\u001b[0m in \u001b[0;36mget_stats\u001b[0;34m(filepaths)\u001b[0m\n\u001b[1;32m     11\u001b[0m         \u001b[0;31m#im = im.astype(int)\u001b[0m\u001b[0;34m\u001b[0m\u001b[0;34m\u001b[0m\u001b[0;34m\u001b[0m\u001b[0m\n\u001b[1;32m     12\u001b[0m         \u001b[0;32mwith\u001b[0m \u001b[0mrasterio\u001b[0m\u001b[0;34m.\u001b[0m\u001b[0mopen\u001b[0m\u001b[0;34m(\u001b[0m\u001b[0mfile\u001b[0m\u001b[0;34m,\u001b[0m \u001b[0;34m'r'\u001b[0m\u001b[0;34m)\u001b[0m \u001b[0;32mas\u001b[0m \u001b[0mds\u001b[0m\u001b[0;34m:\u001b[0m\u001b[0;34m\u001b[0m\u001b[0;34m\u001b[0m\u001b[0m\n\u001b[0;32m---> 13\u001b[0;31m             \u001b[0marr\u001b[0m \u001b[0;34m=\u001b[0m \u001b[0mds\u001b[0m\u001b[0;34m.\u001b[0m\u001b[0mread\u001b[0m\u001b[0;34m(\u001b[0m\u001b[0;34m)\u001b[0m  \u001b[0;31m# read all raster values\u001b[0m\u001b[0;34m\u001b[0m\u001b[0;34m\u001b[0m\u001b[0m\n\u001b[0m\u001b[1;32m     14\u001b[0m             \u001b[0marr\u001b[0m \u001b[0;34m=\u001b[0m \u001b[0mnp\u001b[0m\u001b[0;34m.\u001b[0m\u001b[0mtranspose\u001b[0m\u001b[0;34m(\u001b[0m\u001b[0marr\u001b[0m\u001b[0;34m,\u001b[0m \u001b[0;34m(\u001b[0m\u001b[0;36m1\u001b[0m\u001b[0;34m,\u001b[0m\u001b[0;36m2\u001b[0m\u001b[0;34m,\u001b[0m\u001b[0;36m0\u001b[0m\u001b[0;34m)\u001b[0m\u001b[0;34m)\u001b[0m\u001b[0;34m\u001b[0m\u001b[0;34m\u001b[0m\u001b[0m\n\u001b[1;32m     15\u001b[0m \u001b[0;34m\u001b[0m\u001b[0m\n",
      "\u001b[0;31mKeyboardInterrupt\u001b[0m: "
     ]
    }
   ],
   "source": [
    "# find files\n",
    "files_spot = find_files(dir_spot,\"*.jp2\")\n",
    "files_sen  = find_files(dir_sen,\"*.tif\")\n",
    "\n",
    "\n",
    "# claculate stats and save\n",
    "stats_spot = get_stats(files_spot[344:])\n",
    "stats_spot.to_pickle(\"stats_spot.pkl\")\n",
    "stats_sen = get_stats(files_sen)\n",
    "stats_spot.to_pickle(\"stats_sen.pkl\")"
   ]
  },
  {
   "cell_type": "code",
   "execution_count": null,
   "metadata": {},
   "outputs": [],
   "source": []
  },
  {
   "cell_type": "code",
   "execution_count": null,
   "metadata": {},
   "outputs": [],
   "source": []
  }
 ],
 "metadata": {
  "kernelspec": {
   "display_name": "Python 3",
   "language": "python",
   "name": "python3"
  },
  "language_info": {
   "codemirror_mode": {
    "name": "ipython",
    "version": 3
   },
   "file_extension": ".py",
   "mimetype": "text/x-python",
   "name": "python",
   "nbconvert_exporter": "python",
   "pygments_lexer": "ipython3",
   "version": "3.7.6"
  }
 },
 "nbformat": 4,
 "nbformat_minor": 4
}
