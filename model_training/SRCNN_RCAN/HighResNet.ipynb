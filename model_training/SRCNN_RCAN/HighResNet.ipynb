{
 "cells": [
  {
   "cell_type": "markdown",
   "metadata": {
    "id": "pBIezR5KdiCT"
   },
   "source": [
    "## Imports"
   ]
  },
  {
   "cell_type": "code",
   "execution_count": 1,
   "metadata": {
    "colab": {
     "base_uri": "https://localhost:8080/"
    },
    "executionInfo": {
     "elapsed": 1855,
     "status": "ok",
     "timestamp": 1650014224586,
     "user": {
      "displayName": "Simon Donike",
      "userId": "13619931376731039274"
     },
     "user_tz": -120
    },
    "id": "7_Ze0jvYdiCW",
    "outputId": "1a60f985-fe8e-430a-8ca3-a3efb5ed6892"
   },
   "outputs": [
    {
     "name": "stdout",
     "output_type": "stream",
     "text": [
      "cuda:0\n"
     ]
    }
   ],
   "source": [
    "# imports\n",
    "import torch\n",
    "from torch.utils.data import DataLoader, random_split\n",
    "import torch.optim as optim\n",
    "import numpy as np\n",
    "import matplotlib.pyplot as plt\n",
    "import wandb\n",
    "#from prettytable import PrettyTable\n",
    "import random\n",
    "import os\n",
    "from datetime import datetime\n",
    "from torch.optim import lr_scheduler\n",
    "\n",
    "\n",
    "# local imports\n",
    "from models_parameters import losses\n",
    "from models_parameters import models\n",
    "from utils import helper_functions\n",
    "from utils.dataloader import Dataset as dataset\n",
    "\n",
    "device = torch.device(\"cuda:0\" if torch.cuda.is_available() else \"cpu\")\n",
    "print(device)"
   ]
  },
  {
   "cell_type": "code",
   "execution_count": 2,
   "metadata": {},
   "outputs": [],
   "source": [
    "device = torch.device(\"cpu\")"
   ]
  },
  {
   "cell_type": "markdown",
   "metadata": {
    "id": "7OjGN4fEkVs1"
   },
   "source": [
    "# GENERAL SETTINGS"
   ]
  },
  {
   "cell_type": "code",
   "execution_count": 3,
   "metadata": {
    "executionInfo": {
     "elapsed": 9,
     "status": "ok",
     "timestamp": 1650014224587,
     "user": {
      "displayName": "Simon Donike",
      "userId": "13619931376731039274"
     },
     "user_tz": -120
    },
    "id": "5zG35DRHkWIS"
   },
   "outputs": [],
   "source": [
    "# Running where? \"colab\" or \"ubs\"\n",
    "location = \"local\"\n",
    "\n",
    "# chose which tile to train, test on eg \"T30UXU\"(9k) or \"T30UUU\"(3k)\n",
    "sen2_tile_train = \"T30UXU\"\n",
    "sen2_tile_val   = \"T30UUU\"\n",
    "sen2_tile_test  = \"all\"\n",
    "\n",
    "# chose dataloader transform - 'standardize', 'histogram_matching', 'moment_matching' or 'spot6\n",
    "transform = \"histogram_matching\"\n",
    "\n",
    "# chose where and how often to output - 'show' or output path \n",
    "# /share/projects/erasmus/sesure/working_dir/images/\n",
    "output_location = \"C:\\\\Users\\\\accou\\\\Documents\\\\thesis\\\\images\\\\\"\n",
    "\n",
    "# selesct wether to load from checkpoint - 'None' for no checkpoint or checkpoint path\n",
    "load_checkpoint = \"None\"\n",
    "\n",
    "# Save checkpoints, 'None' to not save, otherwise path\n",
    "save_checkpoint = True\n",
    "\n",
    "# set WandB Project Name\n",
    "model_name = \"HighResNet_local\""
   ]
  },
  {
   "cell_type": "code",
   "execution_count": 4,
   "metadata": {
    "colab": {
     "base_uri": "https://localhost:8080/"
    },
    "executionInfo": {
     "elapsed": 7,
     "status": "ok",
     "timestamp": 1650014224587,
     "user": {
      "displayName": "Simon Donike",
      "userId": "13619931376731039274"
     },
     "user_tz": -120
    },
    "id": "wOccgEfurNL1",
    "outputId": "04e32179-b7e5-43f5-dd44-f5d8342e5dc3"
   },
   "outputs": [
    {
     "name": "stdout",
     "output_type": "stream",
     "text": [
      "HighResNet_local_histogram_matching_T30UXU__20-04-2022_22-07-38\n"
     ]
    }
   ],
   "source": [
    "# create run_name\n",
    "run_name = model_name+\"_\"+transform+\"_\"+sen2_tile_train+\"__\"+str(datetime.now().strftime(\"%d-%m-%Y_%H-%M-%S\"))\n",
    "print(run_name)"
   ]
  },
  {
   "cell_type": "markdown",
   "metadata": {
    "id": "aewHVrYOnsl5"
   },
   "source": [
    "# MODEL SETTINGS"
   ]
  },
  {
   "cell_type": "code",
   "execution_count": 5,
   "metadata": {},
   "outputs": [],
   "source": [
    "config = {'encoder': {'in_channels': 2,\n",
    "   'num_layers': 2,\n",
    "   'kernel_size': 3,\n",
    "   'channel_size': 64},\n",
    "  'recursive': {'alpha_residual': True,\n",
    "   'in_channels': 64,\n",
    "   'num_layers': 2,\n",
    "   'kernel_size': 3},\n",
    "  'decoder': {'deconv': {'in_channels': 64,\n",
    "    'kernel_size': 3,\n",
    "    'stride': 3,\n",
    "    'out_channels': 64},\n",
    "   'final': {'in_channels': 64, 'kernel_size': 1, 'out_channels': 1}}}"
   ]
  },
  {
   "cell_type": "code",
   "execution_count": 6,
   "metadata": {
    "colab": {
     "base_uri": "https://localhost:8080/",
     "height": 84,
     "referenced_widgets": [
      "15d743db8d3d4025bec74fce5973aeb6",
      "79af3514531041eba691f84175f1df4a",
      "9d402b7d952e4d86b3d7f5c4f9aa1179",
      "da0598c382824ceaaa3e10e3c8ecbfb4",
      "c2a6c2be6a7f4e368f28ee609918d270",
      "03cfbe1be66b4263bf73ee9cb86fd419",
      "4dd75885cf4d4e2e968eef58b6e15f04",
      "aa59d1a270e74ca28b3d1949d21ca0cb",
      "b50384ef59b444da9a5e5145b30af70b",
      "c524ce00558747a18468a436e6bdbef0",
      "c701bfe142c24095a8aaa5e3637e1a06"
     ]
    },
    "executionInfo": {
     "elapsed": 21159,
     "status": "ok",
     "timestamp": 1650014245741,
     "user": {
      "displayName": "Simon Donike",
      "userId": "13619931376731039274"
     },
     "user_tz": -120
    },
    "id": "wT_G4PISohHO",
    "outputId": "3002fd15-3201-4496-c719-1c632410bf96"
   },
   "outputs": [],
   "source": [
    "# Load Model, wither straight definitions or loaded models\n",
    "model = models.HighResNet.get_model(config)\n",
    "\n",
    "# load pretrained model weights\n",
    "if load_checkpoint!=\"None\":\n",
    "  model.load_state_dict(torch.load(load_checkpoint))\n",
    "\n",
    "# Load Loss Function\n",
    "#loss_func = losses.loss_mae\n",
    "from models_parameters.weighted_losses import weighted_loss\n",
    "f = weighted_loss()\n",
    "loss_func = losses.loss_mae\n",
    "\n",
    "# enable benchmark for faster execution (only if inputs dont change)\n",
    "torch.backends.cudnn.benchmark = True "
   ]
  },
  {
   "cell_type": "code",
   "execution_count": 7,
   "metadata": {
    "executionInfo": {
     "elapsed": 8,
     "status": "ok",
     "timestamp": 1650014245743,
     "user": {
      "displayName": "Simon Donike",
      "userId": "13619931376731039274"
     },
     "user_tz": -120
    },
    "id": "MyZ4YIkWo6v3"
   },
   "outputs": [],
   "source": [
    "# TRANING SETTINGS\n",
    "batch_size = 12\n",
    "lr = 0.0001\n",
    "epochs = 10\n",
    "plot_frequency = 1 # in batches"
   ]
  },
  {
   "cell_type": "markdown",
   "metadata": {
    "id": "WylLuKO5diCZ"
   },
   "source": [
    "## Create Dataset Object"
   ]
  },
  {
   "cell_type": "code",
   "execution_count": 8,
   "metadata": {
    "executionInfo": {
     "elapsed": 11467,
     "status": "ok",
     "timestamp": 1650014257205,
     "user": {
      "displayName": "Simon Donike",
      "userId": "13619931376731039274"
     },
     "user_tz": -120
    },
    "id": "01ckMlWQdiCa"
   },
   "outputs": [],
   "source": [
    "if location==\"colab\":\n",
    "  working_directory = \"/content/drive/MyDrive/thesis/\"\n",
    "  folder_path = \"/content/drive/MyDrive/thesis/data/\"\n",
    "  dataset_file = \"/content/drive/MyDrive/thesis/data/images_subfolders3.pkl\"\n",
    "if location==\"ubs\":\n",
    "  working_directory = \"/share/projects/erasmus/sesure/working_dir/\"\n",
    "  folder_path = \"/share/projects/erasmus/sesure/working_dir/\"\n",
    "  dataset_file = \"/share/projects/erasmus/sesure/working_dir/final_dataset.pkl\"\n",
    "if location==\"local\":\n",
    "  working_directory = \"C:\\\\Users\\\\accou\\\\Documents\\\\thesis\"\n",
    "  folder_path = \"C:\\\\Users\\\\accou\\\\Documents\\\\thesis\\\\data\\\\\"\n",
    "  dataset_file = \"C:\\\\Users\\\\accou\\\\Documents\\\\thesis\\\\images_subfolders3.pkl\"\n",
    "\n",
    "# get dataset object\n",
    "dataset_train = dataset(folder_path,dataset_file,transform,sen2_amount=1, sen2_tile = sen2_tile_train, location=location)\n",
    "dataset_val   = dataset(folder_path,dataset_file,transform,sen2_amount=1, sen2_tile = sen2_tile_val,   location=location)\n",
    "#dataset_test  = dataset(folder_path,dataset_file,transform,sen2_amount=1, sen2_tile = sen2_tile_test,  location=location)"
   ]
  },
  {
   "cell_type": "code",
   "execution_count": null,
   "metadata": {},
   "outputs": [],
   "source": [
    "# LOADER URBAN\n",
    "# TRANING SETTINGS\n",
    "batch_size = 5\n",
    "lr = 0.0001\n",
    "epochs = 100\n",
    "plot_frequency = 25 # in batches\n",
    "\n",
    "from utils.dataloader_urban import Dataset\n",
    "dataset_train = Dataset()\n",
    "loader_train = DataLoader(dataset_train)\n",
    "print(\"Urban100 Dataset: \",len(loader_train))"
   ]
  },
  {
   "cell_type": "markdown",
   "metadata": {
    "id": "PN0X5O18R-Y9"
   },
   "source": [
    "## Train function"
   ]
  },
  {
   "cell_type": "code",
   "execution_count": 9,
   "metadata": {
    "executionInfo": {
     "elapsed": 11,
     "status": "ok",
     "timestamp": 1650014257206,
     "user": {
      "displayName": "Simon Donike",
      "userId": "13619931376731039274"
     },
     "user_tz": -120
    },
    "id": "L3O5IarGdiCe"
   },
   "outputs": [],
   "source": [
    "# implementation of model trainer function\n",
    "def train_model(run_name,model,batch_size=1,lr=0.001,epochs=10,wandb_name=\"test\",plot_frequency=10):\n",
    "    \n",
    "    logging=False          # log to WandB\n",
    "    logging_val=True      # log validation loss in paralel to training loss\n",
    "    plotting=True         # set if images should be plotted\n",
    "    plot_frequency = plot_frequency    # set after how many batches images shoud be plotted\n",
    "\n",
    "    if logging==True:\n",
    "        wandb.init(name=run_name,project=wandb_name, entity=\"simon-donike\")\n",
    "        wandb.config = {\n",
    "          \"learning_rate\": lr,\n",
    "          \"epochs\": epochs,\n",
    "          \"batch_size\": batch_size\n",
    "        }\n",
    "    \n",
    "    # define loaders\n",
    "    loader_train = DataLoader(dataset_train,batch_size=batch_size, shuffle=True, num_workers=0,pin_memory=True,drop_last=True)\n",
    "    loader_val  = DataLoader(dataset_val,batch_size=1, shuffle=True, num_workers=0,pin_memory=True,drop_last=True)\n",
    "    print(\"dataloader instanciated!\")\n",
    "    print(\"Len. Train: \",len(loader_train),\"(Batch Sz. \"+str(batch_size),\") Len. Val: \",len(dataset_val),\"(Batch Sz. \"+str(batch_size)+\")\")\n",
    "\n",
    "\n",
    "    train_loss = []  # where we keep track of the training loss\n",
    "    train_accuracy = []  # where we keep track of the training accuracy of the model\n",
    "    val_loss = []  # where we keep track of the validation loss\n",
    "    val_accuracy = []  # where we keep track of the validation accuracy of the model\n",
    "    epochs = epochs  # number of epochs\n",
    "\n",
    "    # initialize model\n",
    "    model.to(device)\n",
    "    optimizer = optim.SGD(model.parameters(), lr=lr,momentum=0.9)\n",
    "    #optimizer = optim.Adam(model.parameters())\n",
    "    # set up LR Scheduler\n",
    "    scheduler = lr_scheduler.StepLR(optimizer, 1, 0.1,verbose=True)\n",
    "    \n",
    "    \n",
    "    for e in range(epochs):\n",
    "        model.train()\n",
    "        #train_correct = 0\n",
    "        batch_count=0\n",
    "        for (x_train_batch, y_train_batch) in loader_train:\n",
    "            batch_count = batch_count+1\n",
    "            \n",
    "            # send data to device\n",
    "            x_train_batch = x_train_batch.to(device)\n",
    "            y_train_batch = y_train_batch.to(device) # to float\n",
    "\n",
    "            # forward pass\n",
    "            y_hat = model(x_train_batch)  \n",
    "            # compute the loss\n",
    "            loss = loss_func(y_hat, y_train_batch)  \n",
    "\n",
    "            loss.backward()  # obtain the gradients with respect to the loss\n",
    "            optimizer.step()  # perform one step of gradient descent\n",
    "            optimizer.zero_grad()  # reset the gradients to 0\n",
    "\n",
    "            \"\"\" START LOGGING & PLOTTING \"\"\"\n",
    "            # Log train loss if not logging train+val loss\n",
    "            if logging==True:\n",
    "                wandb.log({'loss_train_step': loss.item() / len(x_train_batch),\n",
    "                           'LR':scheduler.get_lr()[0]})\n",
    "            # log val loss together with train and val loss\n",
    "            if logging_val and logging:\n",
    "              model.eval()\n",
    "              x_val_batch, y_val_batch = next(iter(loader_val))\n",
    "              x_val_batch = x_val_batch.to(torch.float).to(device)\n",
    "              y_val_batch = y_val_batch.to(torch.float).to(device)\n",
    "              y_hat_val = model(x_val_batch)\n",
    "              loss_val = loss_func(y_hat_val, y_val_batch) \n",
    "              wandb.log({'loss_val_step': loss_val.item() / len(y_val_batch)})\n",
    "              del x_val_batch\n",
    "              del y_val_batch\n",
    "              model.train()\n",
    "\n",
    "            # log and plot after each batch/after plotting frequency\n",
    "            if plotting==True:\n",
    "                if batch_count%plot_frequency==0:\n",
    "                    print('Epoch', e, ' Batch',batch_count,' finished.  No. of trained Images: '+str(batch_count*batch_size))\n",
    "                    psnr_int = round(losses.loss_psnr(y_train_batch,helper_functions.interpolate_tensor(y_hat)).item(),2)\n",
    "                    psnr_pred = round(losses.loss_psnr(y_train_batch,y_hat).item(),2)\n",
    "                    helper_functions.plot_tensors_window(y_train_batch,x_train_batch,y_hat,psnr_int,psnr_pred,fig_path=output_location)\n",
    "                    print(\"Tensor Mean:\",round(y_hat.mean().item(),6),\"Max: \",round(y_hat.max().item(),6),\"Min: \",round(y_hat.min().item(),6))\n",
    "                    #break\n",
    "\n",
    "\n",
    "        \"\"\" END OF EPOCH, logging and plotting \"\"\"\n",
    "        print ('Epoch', e+1, ' training finished.')\n",
    "        scheduler.step()\n",
    "        if save_checkpoint:\n",
    "          torch.save(model.state_dict(), working_directory+\"/checkpoints/\"+run_name+\".pkl\")\n",
    "        \"\"\"\n",
    "        PERFORM VALIDATION STEP after each epoch\n",
    "        \"\"\"\n",
    "        model.eval()\n",
    "        # perform inference 10 times on random images\n",
    "        psnr_inter_list = []\n",
    "        psnr_pred_list = []\n",
    "        loss_val_list = []\n",
    "        for i in range(5):\n",
    "          # Load val Data and to device\n",
    "          x_val_batch, y_val_batch = next(iter(loader_val))\n",
    "          x_val_batch = x_val_batch.to(torch.float).to(device)\n",
    "          y_val_batch = y_val_batch.to(torch.float).to(device)\n",
    "        \n",
    "          # perform inference step\n",
    "          with torch.no_grad():\n",
    "            pred = model(x_val_batch)\n",
    "\n",
    "          # calculate metrics\n",
    "          val_loss = loss_func(pred, y_val_batch).item()\n",
    "          psnr_int = round(losses.loss_psnr(y_val_batch,helper_functions.interpolate_tensor(x_val_batch)).item(),2)\n",
    "          psnr_pred = round(losses.loss_psnr(y_val_batch,pred).item(),2)\n",
    "          psnr_inter_list.append(psnr_int)\n",
    "          psnr_pred_list.append(psnr_pred)\n",
    "          loss_val_list.append(val_loss)\n",
    "        \n",
    "        # TODO: implement SSIM\n",
    "        print(\"VALIDATION: Visualizing 1 of 10 inference steps. Values are averages. Time: \",datetime.now().strftime(\"%d-%m-%Y %H:%M:%S\"))\n",
    "        psnr_int_avg = round(sum(psnr_inter_list) / len(psnr_inter_list),2)\n",
    "        psnr_pred_avg = round(sum(psnr_pred_list) / len(psnr_pred_list),2)\n",
    "        loss_val_avg = round(sum(loss_val_list) / len(loss_val_list),2)\n",
    "        helper_functions.plot_tensors_window(y_val_batch,x_val_batch,pred,psnr_int_avg,psnr_pred_avg)\n",
    "        # return model to train state\n",
    "        model.train()\n",
    "\n",
    "        # log validation accuracy after each epoch\n",
    "        if logging==True:\n",
    "            # log val loss\n",
    "            wandb.log({'val_loss_epoch': loss_val_avg})\n",
    "            # log val PSNR\n",
    "            wandb.log({'val_PSNR_epoch': psnr_pred_avg})\n",
    "\n",
    "    # Steps to perform after training is finished\n",
    "    print(\"Training finished!\")\n",
    "    if logging==True:\n",
    "        wandb.finish()"
   ]
  },
  {
   "cell_type": "markdown",
   "metadata": {
    "id": "KR2FiCRVSDC9"
   },
   "source": [
    "# Perform Training"
   ]
  },
  {
   "cell_type": "code",
   "execution_count": 10,
   "metadata": {
    "colab": {
     "base_uri": "https://localhost:8080/",
     "height": 1000,
     "output_embedded_package_id": "1TZ6ZFjVlmkDyG6FxJT7ZvvmnY5boWgJB",
     "referenced_widgets": [
      "04e338d4dec2456c8eed2491d7b336f0",
      "0e6c86af39b44bf7ba33c9e989819338",
      "aa4ae1db6a4844b0bb9ce2af549e3406",
      "7253aa7a7bef442cbfbc7fcb88c7ab59",
      "d11501d86f234996aba96777c0f7210d",
      "ae32c43dfc6e4748b20846c323e3d296",
      "44221f3284fe4ef69fc9be67cb713f73",
      "12271c10238141289a314b4dfd8323e4"
     ]
    },
    "executionInfo": {
     "elapsed": 465161,
     "status": "ok",
     "timestamp": 1650014722358,
     "user": {
      "displayName": "Simon Donike",
      "userId": "13619931376731039274"
     },
     "user_tz": -120
    },
    "id": "GHepWsiAdiCf",
    "outputId": "68a4a265-eae4-4fbc-ccae-4c691640565a"
   },
   "outputs": [
    {
     "name": "stdout",
     "output_type": "stream",
     "text": [
      "dataloader instanciated!\n",
      "Len. Train:  765 (Batch Sz. 12 ) Len. Val:  3506 (Batch Sz. 12)\n",
      "Adjusting learning rate of group 0 to 7.0000e-04.\n"
     ]
    },
    {
     "ename": "AttributeError",
     "evalue": "'bool' object has no attribute 'view'",
     "output_type": "error",
     "traceback": [
      "\u001b[1;31m---------------------------------------------------------------------------\u001b[0m",
      "\u001b[1;31mAttributeError\u001b[0m                            Traceback (most recent call last)",
      "\u001b[1;32m~\\AppData\\Local\\Temp\\ipykernel_5672\\573282039.py\u001b[0m in \u001b[0;36m<module>\u001b[1;34m\u001b[0m\n\u001b[1;32m----> 1\u001b[1;33m \u001b[0mtrain_model\u001b[0m\u001b[1;33m(\u001b[0m\u001b[0mrun_name\u001b[0m\u001b[1;33m,\u001b[0m\u001b[0mmodel\u001b[0m\u001b[1;33m=\u001b[0m\u001b[0mmodel\u001b[0m\u001b[1;33m,\u001b[0m\u001b[0mbatch_size\u001b[0m\u001b[1;33m=\u001b[0m\u001b[0mbatch_size\u001b[0m\u001b[1;33m,\u001b[0m\u001b[0mlr\u001b[0m\u001b[1;33m=\u001b[0m\u001b[0mlr\u001b[0m\u001b[1;33m,\u001b[0m\u001b[0mepochs\u001b[0m\u001b[1;33m=\u001b[0m\u001b[0mepochs\u001b[0m\u001b[1;33m,\u001b[0m\u001b[0mwandb_name\u001b[0m\u001b[1;33m=\u001b[0m\u001b[0mmodel_name\u001b[0m\u001b[1;33m,\u001b[0m\u001b[0mplot_frequency\u001b[0m\u001b[1;33m=\u001b[0m\u001b[0mplot_frequency\u001b[0m\u001b[1;33m)\u001b[0m\u001b[1;33m\u001b[0m\u001b[1;33m\u001b[0m\u001b[0m\n\u001b[0m",
      "\u001b[1;32m~\\AppData\\Local\\Temp\\ipykernel_5672\\4083065540.py\u001b[0m in \u001b[0;36mtrain_model\u001b[1;34m(run_name, model, batch_size, lr, epochs, wandb_name, plot_frequency)\u001b[0m\n\u001b[0;32m     48\u001b[0m \u001b[1;33m\u001b[0m\u001b[0m\n\u001b[0;32m     49\u001b[0m             \u001b[1;31m# forward pass\u001b[0m\u001b[1;33m\u001b[0m\u001b[1;33m\u001b[0m\u001b[1;33m\u001b[0m\u001b[0m\n\u001b[1;32m---> 50\u001b[1;33m             \u001b[0my_hat\u001b[0m \u001b[1;33m=\u001b[0m \u001b[0mmodel\u001b[0m\u001b[1;33m(\u001b[0m\u001b[0mx_train_batch\u001b[0m\u001b[1;33m)\u001b[0m\u001b[1;33m\u001b[0m\u001b[1;33m\u001b[0m\u001b[0m\n\u001b[0m\u001b[0;32m     51\u001b[0m             \u001b[1;31m# compute the loss\u001b[0m\u001b[1;33m\u001b[0m\u001b[1;33m\u001b[0m\u001b[1;33m\u001b[0m\u001b[0m\n\u001b[0;32m     52\u001b[0m             \u001b[0mloss\u001b[0m \u001b[1;33m=\u001b[0m \u001b[0mloss_func\u001b[0m\u001b[1;33m(\u001b[0m\u001b[0my_hat\u001b[0m\u001b[1;33m,\u001b[0m \u001b[0my_train_batch\u001b[0m\u001b[1;33m)\u001b[0m\u001b[1;33m\u001b[0m\u001b[1;33m\u001b[0m\u001b[0m\n",
      "\u001b[1;32m~\\anaconda3\\envs\\DL\\lib\\site-packages\\torch\\nn\\modules\\module.py\u001b[0m in \u001b[0;36m_call_impl\u001b[1;34m(self, *input, **kwargs)\u001b[0m\n\u001b[0;32m   1108\u001b[0m         if not (self._backward_hooks or self._forward_hooks or self._forward_pre_hooks or _global_backward_hooks\n\u001b[0;32m   1109\u001b[0m                 or _global_forward_hooks or _global_forward_pre_hooks):\n\u001b[1;32m-> 1110\u001b[1;33m             \u001b[1;32mreturn\u001b[0m \u001b[0mforward_call\u001b[0m\u001b[1;33m(\u001b[0m\u001b[1;33m*\u001b[0m\u001b[0minput\u001b[0m\u001b[1;33m,\u001b[0m \u001b[1;33m**\u001b[0m\u001b[0mkwargs\u001b[0m\u001b[1;33m)\u001b[0m\u001b[1;33m\u001b[0m\u001b[1;33m\u001b[0m\u001b[0m\n\u001b[0m\u001b[0;32m   1111\u001b[0m         \u001b[1;31m# Do not call functions when jit is used\u001b[0m\u001b[1;33m\u001b[0m\u001b[1;33m\u001b[0m\u001b[1;33m\u001b[0m\u001b[0m\n\u001b[0;32m   1112\u001b[0m         \u001b[0mfull_backward_hooks\u001b[0m\u001b[1;33m,\u001b[0m \u001b[0mnon_full_backward_hooks\u001b[0m \u001b[1;33m=\u001b[0m \u001b[1;33m[\u001b[0m\u001b[1;33m]\u001b[0m\u001b[1;33m,\u001b[0m \u001b[1;33m[\u001b[0m\u001b[1;33m]\u001b[0m\u001b[1;33m\u001b[0m\u001b[1;33m\u001b[0m\u001b[0m\n",
      "\u001b[1;32m~\\Documents\\thesis\\models_parameters\\HighResNet.py\u001b[0m in \u001b[0;36mforward\u001b[1;34m(self, lrs, alphas)\u001b[0m\n\u001b[0;32m    194\u001b[0m         \u001b[0mbatch_size\u001b[0m\u001b[1;33m,\u001b[0m \u001b[0mseq_len\u001b[0m\u001b[1;33m,\u001b[0m \u001b[0mheigth\u001b[0m\u001b[1;33m,\u001b[0m \u001b[0mwidth\u001b[0m \u001b[1;33m=\u001b[0m \u001b[0mlrs\u001b[0m\u001b[1;33m.\u001b[0m\u001b[0mshape\u001b[0m\u001b[1;33m\u001b[0m\u001b[1;33m\u001b[0m\u001b[0m\n\u001b[0;32m    195\u001b[0m         \u001b[0mlrs\u001b[0m \u001b[1;33m=\u001b[0m \u001b[0mlrs\u001b[0m\u001b[1;33m.\u001b[0m\u001b[0mview\u001b[0m\u001b[1;33m(\u001b[0m\u001b[1;33m-\u001b[0m\u001b[1;36m1\u001b[0m\u001b[1;33m,\u001b[0m \u001b[0mseq_len\u001b[0m\u001b[1;33m,\u001b[0m \u001b[1;36m1\u001b[0m\u001b[1;33m,\u001b[0m \u001b[0mheigth\u001b[0m\u001b[1;33m,\u001b[0m \u001b[0mwidth\u001b[0m\u001b[1;33m)\u001b[0m\u001b[1;33m\u001b[0m\u001b[1;33m\u001b[0m\u001b[0m\n\u001b[1;32m--> 196\u001b[1;33m         \u001b[0malphas\u001b[0m \u001b[1;33m=\u001b[0m \u001b[0malphas\u001b[0m\u001b[1;33m.\u001b[0m\u001b[0mview\u001b[0m\u001b[1;33m(\u001b[0m\u001b[1;33m-\u001b[0m\u001b[1;36m1\u001b[0m\u001b[1;33m,\u001b[0m \u001b[0mseq_len\u001b[0m\u001b[1;33m,\u001b[0m \u001b[1;36m1\u001b[0m\u001b[1;33m,\u001b[0m \u001b[1;36m1\u001b[0m\u001b[1;33m,\u001b[0m \u001b[1;36m1\u001b[0m\u001b[1;33m)\u001b[0m\u001b[1;33m\u001b[0m\u001b[1;33m\u001b[0m\u001b[0m\n\u001b[0m\u001b[0;32m    197\u001b[0m \u001b[1;33m\u001b[0m\u001b[0m\n\u001b[0;32m    198\u001b[0m         \u001b[0mrefs\u001b[0m\u001b[1;33m,\u001b[0m \u001b[0m_\u001b[0m \u001b[1;33m=\u001b[0m \u001b[0mtorch\u001b[0m\u001b[1;33m.\u001b[0m\u001b[0mmedian\u001b[0m\u001b[1;33m(\u001b[0m\u001b[0mlrs\u001b[0m\u001b[1;33m[\u001b[0m\u001b[1;33m:\u001b[0m\u001b[1;33m,\u001b[0m \u001b[1;33m:\u001b[0m\u001b[1;36m9\u001b[0m\u001b[1;33m]\u001b[0m\u001b[1;33m,\u001b[0m \u001b[1;36m1\u001b[0m\u001b[1;33m,\u001b[0m \u001b[0mkeepdim\u001b[0m\u001b[1;33m=\u001b[0m\u001b[1;32mTrue\u001b[0m\u001b[1;33m)\u001b[0m  \u001b[1;31m# reference image aka anchor, shared across multiple views\u001b[0m\u001b[1;33m\u001b[0m\u001b[1;33m\u001b[0m\u001b[0m\n",
      "\u001b[1;31mAttributeError\u001b[0m: 'bool' object has no attribute 'view'"
     ]
    }
   ],
   "source": [
    "train_model(run_name,model=model,batch_size=batch_size,lr=lr,epochs=epochs,wandb_name=model_name,plot_frequency=plot_frequency)"
   ]
  },
  {
   "cell_type": "code",
   "execution_count": null,
   "metadata": {
    "colab": {
     "base_uri": "https://localhost:8080/"
    },
    "executionInfo": {
     "elapsed": 16,
     "status": "ok",
     "timestamp": 1650014722359,
     "user": {
      "displayName": "Simon Donike",
      "userId": "13619931376731039274"
     },
     "user_tz": -120
    },
    "id": "e-G5gPDZKWs6",
    "outputId": "0793adbc-3d37-41d0-ecf7-1c932395e9f4"
   },
   "outputs": [],
   "source": [
    "wandb.finish()"
   ]
  },
  {
   "cell_type": "code",
   "execution_count": null,
   "metadata": {},
   "outputs": [],
   "source": []
  },
  {
   "cell_type": "code",
   "execution_count": null,
   "metadata": {},
   "outputs": [],
   "source": []
  },
  {
   "cell_type": "code",
   "execution_count": null,
   "metadata": {},
   "outputs": [],
   "source": []
  }
 ],
 "metadata": {
  "accelerator": "GPU",
  "colab": {
   "collapsed_sections": [],
   "name": "template.ipynb",
   "provenance": []
  },
  "kernelspec": {
   "display_name": "Python 3 (ipykernel)",
   "language": "python",
   "name": "python3"
  },
  "language_info": {
   "codemirror_mode": {
    "name": "ipython",
    "version": 3
   },
   "file_extension": ".py",
   "mimetype": "text/x-python",
   "name": "python",
   "nbconvert_exporter": "python",
   "pygments_lexer": "ipython3",
   "version": "3.7.13"
  },
  "widgets": {
   "application/vnd.jupyter.widget-state+json": {
    "03cfbe1be66b4263bf73ee9cb86fd419": {
     "model_module": "@jupyter-widgets/base",
     "model_module_version": "1.2.0",
     "model_name": "LayoutModel",
     "state": {
      "_model_module": "@jupyter-widgets/base",
      "_model_module_version": "1.2.0",
      "_model_name": "LayoutModel",
      "_view_count": null,
      "_view_module": "@jupyter-widgets/base",
      "_view_module_version": "1.2.0",
      "_view_name": "LayoutView",
      "align_content": null,
      "align_items": null,
      "align_self": null,
      "border": null,
      "bottom": null,
      "display": null,
      "flex": null,
      "flex_flow": null,
      "grid_area": null,
      "grid_auto_columns": null,
      "grid_auto_flow": null,
      "grid_auto_rows": null,
      "grid_column": null,
      "grid_gap": null,
      "grid_row": null,
      "grid_template_areas": null,
      "grid_template_columns": null,
      "grid_template_rows": null,
      "height": null,
      "justify_content": null,
      "justify_items": null,
      "left": null,
      "margin": null,
      "max_height": null,
      "max_width": null,
      "min_height": null,
      "min_width": null,
      "object_fit": null,
      "object_position": null,
      "order": null,
      "overflow": null,
      "overflow_x": null,
      "overflow_y": null,
      "padding": null,
      "right": null,
      "top": null,
      "visibility": null,
      "width": null
     }
    },
    "04e338d4dec2456c8eed2491d7b336f0": {
     "model_module": "@jupyter-widgets/controls",
     "model_module_version": "1.5.0",
     "model_name": "VBoxModel",
     "state": {
      "_dom_classes": [],
      "_model_module": "@jupyter-widgets/controls",
      "_model_module_version": "1.5.0",
      "_model_name": "VBoxModel",
      "_view_count": null,
      "_view_module": "@jupyter-widgets/controls",
      "_view_module_version": "1.5.0",
      "_view_name": "VBoxView",
      "box_style": "",
      "children": [
       "IPY_MODEL_0e6c86af39b44bf7ba33c9e989819338",
       "IPY_MODEL_aa4ae1db6a4844b0bb9ce2af549e3406"
      ],
      "layout": "IPY_MODEL_7253aa7a7bef442cbfbc7fcb88c7ab59"
     }
    },
    "0e6c86af39b44bf7ba33c9e989819338": {
     "model_module": "@jupyter-widgets/controls",
     "model_module_version": "1.5.0",
     "model_name": "LabelModel",
     "state": {
      "_dom_classes": [],
      "_model_module": "@jupyter-widgets/controls",
      "_model_module_version": "1.5.0",
      "_model_name": "LabelModel",
      "_view_count": null,
      "_view_module": "@jupyter-widgets/controls",
      "_view_module_version": "1.5.0",
      "_view_name": "LabelView",
      "description": "",
      "description_tooltip": null,
      "layout": "IPY_MODEL_d11501d86f234996aba96777c0f7210d",
      "placeholder": "​",
      "style": "IPY_MODEL_ae32c43dfc6e4748b20846c323e3d296",
      "value": "0.015 MB of 0.015 MB uploaded (0.000 MB deduped)\r"
     }
    },
    "12271c10238141289a314b4dfd8323e4": {
     "model_module": "@jupyter-widgets/controls",
     "model_module_version": "1.5.0",
     "model_name": "ProgressStyleModel",
     "state": {
      "_model_module": "@jupyter-widgets/controls",
      "_model_module_version": "1.5.0",
      "_model_name": "ProgressStyleModel",
      "_view_count": null,
      "_view_module": "@jupyter-widgets/base",
      "_view_module_version": "1.2.0",
      "_view_name": "StyleView",
      "bar_color": null,
      "description_width": ""
     }
    },
    "15d743db8d3d4025bec74fce5973aeb6": {
     "model_module": "@jupyter-widgets/controls",
     "model_module_version": "1.5.0",
     "model_name": "HBoxModel",
     "state": {
      "_dom_classes": [],
      "_model_module": "@jupyter-widgets/controls",
      "_model_module_version": "1.5.0",
      "_model_name": "HBoxModel",
      "_view_count": null,
      "_view_module": "@jupyter-widgets/controls",
      "_view_module_version": "1.5.0",
      "_view_name": "HBoxView",
      "box_style": "",
      "children": [
       "IPY_MODEL_79af3514531041eba691f84175f1df4a",
       "IPY_MODEL_9d402b7d952e4d86b3d7f5c4f9aa1179",
       "IPY_MODEL_da0598c382824ceaaa3e10e3c8ecbfb4"
      ],
      "layout": "IPY_MODEL_c2a6c2be6a7f4e368f28ee609918d270"
     }
    },
    "44221f3284fe4ef69fc9be67cb713f73": {
     "model_module": "@jupyter-widgets/base",
     "model_module_version": "1.2.0",
     "model_name": "LayoutModel",
     "state": {
      "_model_module": "@jupyter-widgets/base",
      "_model_module_version": "1.2.0",
      "_model_name": "LayoutModel",
      "_view_count": null,
      "_view_module": "@jupyter-widgets/base",
      "_view_module_version": "1.2.0",
      "_view_name": "LayoutView",
      "align_content": null,
      "align_items": null,
      "align_self": null,
      "border": null,
      "bottom": null,
      "display": null,
      "flex": null,
      "flex_flow": null,
      "grid_area": null,
      "grid_auto_columns": null,
      "grid_auto_flow": null,
      "grid_auto_rows": null,
      "grid_column": null,
      "grid_gap": null,
      "grid_row": null,
      "grid_template_areas": null,
      "grid_template_columns": null,
      "grid_template_rows": null,
      "height": null,
      "justify_content": null,
      "justify_items": null,
      "left": null,
      "margin": null,
      "max_height": null,
      "max_width": null,
      "min_height": null,
      "min_width": null,
      "object_fit": null,
      "object_position": null,
      "order": null,
      "overflow": null,
      "overflow_x": null,
      "overflow_y": null,
      "padding": null,
      "right": null,
      "top": null,
      "visibility": null,
      "width": null
     }
    },
    "4dd75885cf4d4e2e968eef58b6e15f04": {
     "model_module": "@jupyter-widgets/controls",
     "model_module_version": "1.5.0",
     "model_name": "DescriptionStyleModel",
     "state": {
      "_model_module": "@jupyter-widgets/controls",
      "_model_module_version": "1.5.0",
      "_model_name": "DescriptionStyleModel",
      "_view_count": null,
      "_view_module": "@jupyter-widgets/base",
      "_view_module_version": "1.2.0",
      "_view_name": "StyleView",
      "description_width": ""
     }
    },
    "7253aa7a7bef442cbfbc7fcb88c7ab59": {
     "model_module": "@jupyter-widgets/base",
     "model_module_version": "1.2.0",
     "model_name": "LayoutModel",
     "state": {
      "_model_module": "@jupyter-widgets/base",
      "_model_module_version": "1.2.0",
      "_model_name": "LayoutModel",
      "_view_count": null,
      "_view_module": "@jupyter-widgets/base",
      "_view_module_version": "1.2.0",
      "_view_name": "LayoutView",
      "align_content": null,
      "align_items": null,
      "align_self": null,
      "border": null,
      "bottom": null,
      "display": null,
      "flex": null,
      "flex_flow": null,
      "grid_area": null,
      "grid_auto_columns": null,
      "grid_auto_flow": null,
      "grid_auto_rows": null,
      "grid_column": null,
      "grid_gap": null,
      "grid_row": null,
      "grid_template_areas": null,
      "grid_template_columns": null,
      "grid_template_rows": null,
      "height": null,
      "justify_content": null,
      "justify_items": null,
      "left": null,
      "margin": null,
      "max_height": null,
      "max_width": null,
      "min_height": null,
      "min_width": null,
      "object_fit": null,
      "object_position": null,
      "order": null,
      "overflow": null,
      "overflow_x": null,
      "overflow_y": null,
      "padding": null,
      "right": null,
      "top": null,
      "visibility": null,
      "width": null
     }
    },
    "79af3514531041eba691f84175f1df4a": {
     "model_module": "@jupyter-widgets/controls",
     "model_module_version": "1.5.0",
     "model_name": "HTMLModel",
     "state": {
      "_dom_classes": [],
      "_model_module": "@jupyter-widgets/controls",
      "_model_module_version": "1.5.0",
      "_model_name": "HTMLModel",
      "_view_count": null,
      "_view_module": "@jupyter-widgets/controls",
      "_view_module_version": "1.5.0",
      "_view_name": "HTMLView",
      "description": "",
      "description_tooltip": null,
      "layout": "IPY_MODEL_03cfbe1be66b4263bf73ee9cb86fd419",
      "placeholder": "​",
      "style": "IPY_MODEL_4dd75885cf4d4e2e968eef58b6e15f04",
      "value": "100%"
     }
    },
    "9d402b7d952e4d86b3d7f5c4f9aa1179": {
     "model_module": "@jupyter-widgets/controls",
     "model_module_version": "1.5.0",
     "model_name": "FloatProgressModel",
     "state": {
      "_dom_classes": [],
      "_model_module": "@jupyter-widgets/controls",
      "_model_module_version": "1.5.0",
      "_model_name": "FloatProgressModel",
      "_view_count": null,
      "_view_module": "@jupyter-widgets/controls",
      "_view_module_version": "1.5.0",
      "_view_name": "ProgressView",
      "bar_style": "success",
      "description": "",
      "description_tooltip": null,
      "layout": "IPY_MODEL_aa59d1a270e74ca28b3d1949d21ca0cb",
      "max": 574673361,
      "min": 0,
      "orientation": "horizontal",
      "style": "IPY_MODEL_b50384ef59b444da9a5e5145b30af70b",
      "value": 574673361
     }
    },
    "aa4ae1db6a4844b0bb9ce2af549e3406": {
     "model_module": "@jupyter-widgets/controls",
     "model_module_version": "1.5.0",
     "model_name": "FloatProgressModel",
     "state": {
      "_dom_classes": [],
      "_model_module": "@jupyter-widgets/controls",
      "_model_module_version": "1.5.0",
      "_model_name": "FloatProgressModel",
      "_view_count": null,
      "_view_module": "@jupyter-widgets/controls",
      "_view_module_version": "1.5.0",
      "_view_name": "ProgressView",
      "bar_style": "",
      "description": "",
      "description_tooltip": null,
      "layout": "IPY_MODEL_44221f3284fe4ef69fc9be67cb713f73",
      "max": 1,
      "min": 0,
      "orientation": "horizontal",
      "style": "IPY_MODEL_12271c10238141289a314b4dfd8323e4",
      "value": 1
     }
    },
    "aa59d1a270e74ca28b3d1949d21ca0cb": {
     "model_module": "@jupyter-widgets/base",
     "model_module_version": "1.2.0",
     "model_name": "LayoutModel",
     "state": {
      "_model_module": "@jupyter-widgets/base",
      "_model_module_version": "1.2.0",
      "_model_name": "LayoutModel",
      "_view_count": null,
      "_view_module": "@jupyter-widgets/base",
      "_view_module_version": "1.2.0",
      "_view_name": "LayoutView",
      "align_content": null,
      "align_items": null,
      "align_self": null,
      "border": null,
      "bottom": null,
      "display": null,
      "flex": null,
      "flex_flow": null,
      "grid_area": null,
      "grid_auto_columns": null,
      "grid_auto_flow": null,
      "grid_auto_rows": null,
      "grid_column": null,
      "grid_gap": null,
      "grid_row": null,
      "grid_template_areas": null,
      "grid_template_columns": null,
      "grid_template_rows": null,
      "height": null,
      "justify_content": null,
      "justify_items": null,
      "left": null,
      "margin": null,
      "max_height": null,
      "max_width": null,
      "min_height": null,
      "min_width": null,
      "object_fit": null,
      "object_position": null,
      "order": null,
      "overflow": null,
      "overflow_x": null,
      "overflow_y": null,
      "padding": null,
      "right": null,
      "top": null,
      "visibility": null,
      "width": null
     }
    },
    "ae32c43dfc6e4748b20846c323e3d296": {
     "model_module": "@jupyter-widgets/controls",
     "model_module_version": "1.5.0",
     "model_name": "DescriptionStyleModel",
     "state": {
      "_model_module": "@jupyter-widgets/controls",
      "_model_module_version": "1.5.0",
      "_model_name": "DescriptionStyleModel",
      "_view_count": null,
      "_view_module": "@jupyter-widgets/base",
      "_view_module_version": "1.2.0",
      "_view_name": "StyleView",
      "description_width": ""
     }
    },
    "b50384ef59b444da9a5e5145b30af70b": {
     "model_module": "@jupyter-widgets/controls",
     "model_module_version": "1.5.0",
     "model_name": "ProgressStyleModel",
     "state": {
      "_model_module": "@jupyter-widgets/controls",
      "_model_module_version": "1.5.0",
      "_model_name": "ProgressStyleModel",
      "_view_count": null,
      "_view_module": "@jupyter-widgets/base",
      "_view_module_version": "1.2.0",
      "_view_name": "StyleView",
      "bar_color": null,
      "description_width": ""
     }
    },
    "c2a6c2be6a7f4e368f28ee609918d270": {
     "model_module": "@jupyter-widgets/base",
     "model_module_version": "1.2.0",
     "model_name": "LayoutModel",
     "state": {
      "_model_module": "@jupyter-widgets/base",
      "_model_module_version": "1.2.0",
      "_model_name": "LayoutModel",
      "_view_count": null,
      "_view_module": "@jupyter-widgets/base",
      "_view_module_version": "1.2.0",
      "_view_name": "LayoutView",
      "align_content": null,
      "align_items": null,
      "align_self": null,
      "border": null,
      "bottom": null,
      "display": null,
      "flex": null,
      "flex_flow": null,
      "grid_area": null,
      "grid_auto_columns": null,
      "grid_auto_flow": null,
      "grid_auto_rows": null,
      "grid_column": null,
      "grid_gap": null,
      "grid_row": null,
      "grid_template_areas": null,
      "grid_template_columns": null,
      "grid_template_rows": null,
      "height": null,
      "justify_content": null,
      "justify_items": null,
      "left": null,
      "margin": null,
      "max_height": null,
      "max_width": null,
      "min_height": null,
      "min_width": null,
      "object_fit": null,
      "object_position": null,
      "order": null,
      "overflow": null,
      "overflow_x": null,
      "overflow_y": null,
      "padding": null,
      "right": null,
      "top": null,
      "visibility": null,
      "width": null
     }
    },
    "c524ce00558747a18468a436e6bdbef0": {
     "model_module": "@jupyter-widgets/base",
     "model_module_version": "1.2.0",
     "model_name": "LayoutModel",
     "state": {
      "_model_module": "@jupyter-widgets/base",
      "_model_module_version": "1.2.0",
      "_model_name": "LayoutModel",
      "_view_count": null,
      "_view_module": "@jupyter-widgets/base",
      "_view_module_version": "1.2.0",
      "_view_name": "LayoutView",
      "align_content": null,
      "align_items": null,
      "align_self": null,
      "border": null,
      "bottom": null,
      "display": null,
      "flex": null,
      "flex_flow": null,
      "grid_area": null,
      "grid_auto_columns": null,
      "grid_auto_flow": null,
      "grid_auto_rows": null,
      "grid_column": null,
      "grid_gap": null,
      "grid_row": null,
      "grid_template_areas": null,
      "grid_template_columns": null,
      "grid_template_rows": null,
      "height": null,
      "justify_content": null,
      "justify_items": null,
      "left": null,
      "margin": null,
      "max_height": null,
      "max_width": null,
      "min_height": null,
      "min_width": null,
      "object_fit": null,
      "object_position": null,
      "order": null,
      "overflow": null,
      "overflow_x": null,
      "overflow_y": null,
      "padding": null,
      "right": null,
      "top": null,
      "visibility": null,
      "width": null
     }
    },
    "c701bfe142c24095a8aaa5e3637e1a06": {
     "model_module": "@jupyter-widgets/controls",
     "model_module_version": "1.5.0",
     "model_name": "DescriptionStyleModel",
     "state": {
      "_model_module": "@jupyter-widgets/controls",
      "_model_module_version": "1.5.0",
      "_model_name": "DescriptionStyleModel",
      "_view_count": null,
      "_view_module": "@jupyter-widgets/base",
      "_view_module_version": "1.2.0",
      "_view_name": "StyleView",
      "description_width": ""
     }
    },
    "d11501d86f234996aba96777c0f7210d": {
     "model_module": "@jupyter-widgets/base",
     "model_module_version": "1.2.0",
     "model_name": "LayoutModel",
     "state": {
      "_model_module": "@jupyter-widgets/base",
      "_model_module_version": "1.2.0",
      "_model_name": "LayoutModel",
      "_view_count": null,
      "_view_module": "@jupyter-widgets/base",
      "_view_module_version": "1.2.0",
      "_view_name": "LayoutView",
      "align_content": null,
      "align_items": null,
      "align_self": null,
      "border": null,
      "bottom": null,
      "display": null,
      "flex": null,
      "flex_flow": null,
      "grid_area": null,
      "grid_auto_columns": null,
      "grid_auto_flow": null,
      "grid_auto_rows": null,
      "grid_column": null,
      "grid_gap": null,
      "grid_row": null,
      "grid_template_areas": null,
      "grid_template_columns": null,
      "grid_template_rows": null,
      "height": null,
      "justify_content": null,
      "justify_items": null,
      "left": null,
      "margin": null,
      "max_height": null,
      "max_width": null,
      "min_height": null,
      "min_width": null,
      "object_fit": null,
      "object_position": null,
      "order": null,
      "overflow": null,
      "overflow_x": null,
      "overflow_y": null,
      "padding": null,
      "right": null,
      "top": null,
      "visibility": null,
      "width": null
     }
    },
    "da0598c382824ceaaa3e10e3c8ecbfb4": {
     "model_module": "@jupyter-widgets/controls",
     "model_module_version": "1.5.0",
     "model_name": "HTMLModel",
     "state": {
      "_dom_classes": [],
      "_model_module": "@jupyter-widgets/controls",
      "_model_module_version": "1.5.0",
      "_model_name": "HTMLModel",
      "_view_count": null,
      "_view_module": "@jupyter-widgets/controls",
      "_view_module_version": "1.5.0",
      "_view_name": "HTMLView",
      "description": "",
      "description_tooltip": null,
      "layout": "IPY_MODEL_c524ce00558747a18468a436e6bdbef0",
      "placeholder": "​",
      "style": "IPY_MODEL_c701bfe142c24095a8aaa5e3637e1a06",
      "value": " 548M/548M [00:07&lt;00:00, 75.8MB/s]"
     }
    }
   }
  }
 },
 "nbformat": 4,
 "nbformat_minor": 4
}
