{
 "cells": [
  {
   "cell_type": "code",
   "execution_count": 1,
   "metadata": {},
   "outputs": [],
   "source": [
    "import rasterio\n",
    "import numpy as np\n",
    "import pandas as pd\n",
    "import geopandas as gpd\n",
    "import os\n",
    "import glob\n",
    "import time\n",
    "from rasterio.merge import merge\n",
    "from rasterio.plot import show"
   ]
  },
  {
   "cell_type": "code",
   "execution_count": 2,
   "metadata": {},
   "outputs": [],
   "source": [
    "root_dir = !pwd\n",
    "root_dir = str(root_dir[0])\n",
    "folder = \"/merged_reprojected\"\n",
    "files_folder = root_dir + folder\n"
   ]
  },
  {
   "cell_type": "code",
   "execution_count": 3,
   "metadata": {},
   "outputs": [],
   "source": [
    "\n",
    "# define search criteria\n",
    "search_criteria = \"*.tif\"\n",
    "search_term = os.path.join(files_folder, search_criteria)\n",
    "# perform search\n"
   ]
  },
  {
   "cell_type": "code",
   "execution_count": 4,
   "metadata": {},
   "outputs": [],
   "source": [
    "# create DF and uniwe\n",
    "files = glob.glob(search_term)\n",
    "dates = []\n",
    "tiles = []\n",
    "for i in files:\n",
    "    dates.append(i[78:86])\n",
    "    tiles.append(i[102:108])\n",
    "df = pd.DataFrame(np.column_stack([files, dates,tiles]),columns=[\"files\",\"dates\",\"tiles\"])\n",
    "unique_tiles = pd.unique(df[\"tiles\"])"
   ]
  },
  {
   "cell_type": "code",
   "execution_count": 5,
   "metadata": {},
   "outputs": [
    {
     "name": "stdout",
     "output_type": "stream",
     "text": [
      "CALCULATING:  T30UXU\n",
      "CALCULATING:  T30TVT\n",
      "CALCULATING:  T30UVV\n",
      "CALCULATING:  T30UUU\n",
      "CALCULATING:  T30UVU\n",
      "CALCULATING:  T30TWT\n",
      "CALCULATING:  T30UWV\n",
      "CALCULATING:  T30UWU\n",
      "CALCULATING:  T30TXT\n",
      "CALCULATING:  T30UXV\n"
     ]
    }
   ],
   "source": [
    "tile_ls = []\n",
    "\n",
    "# loop over unique dates\n",
    "for tile in unique_tiles:\n",
    "    print(\"CALCULATING: \",tile)\n",
    "    # filter date\n",
    "    tmp = df.loc[df[\"tiles\"]==tile]\n",
    "    tmp.reset_index(inplace=True)\n",
    "    #print(tmp[\"files\"][0])\n",
    "    tile_ls.append(tmp[\"files\"][0])"
   ]
  },
  {
   "cell_type": "code",
   "execution_count": 6,
   "metadata": {},
   "outputs": [
    {
     "name": "stdout",
     "output_type": "stream",
     "text": [
      "performing merge...\n",
      "saving metadata...\n",
      "saving...\n"
     ]
    }
   ],
   "source": [
    "# open files\n",
    "\n",
    "src_files_to_mosaic = []\n",
    "for file in tile_ls:\n",
    "    src = rasterio.open(file)\n",
    "    src_files_to_mosaic.append(src)\n",
    "    \n",
    "    # perform merge\n",
    "print(\"performing merge...\")\n",
    "mosaic, out_trans = merge(src_files_to_mosaic, target_aligned_pixels=True,)\n",
    "    \n",
    "    # save metadata\n",
    "print(\"saving metadata...\")\n",
    "out_meta = src.meta.copy()\n",
    "out_meta.update({\"driver\": \"GTiff\",\n",
    "                     \"height\": mosaic.shape[1],\n",
    "                     \"width\": mosaic.shape[2],\n",
    "                     \"transform\": out_trans,\n",
    "                     \"crs\": 2154\n",
    "                     }\n",
    "                    )\n",
    "    \n",
    "# save\n",
    "print(\"saving...\")\n",
    "with rasterio.open(\"/home/simon/CDE_UBS/thesis/data_collection/sen2/sen2_mosaic.tif\", \"w\", **out_meta) as dest:\n",
    "    dest.write(mosaic)"
   ]
  },
  {
   "cell_type": "code",
   "execution_count": 7,
   "metadata": {},
   "outputs": [],
   "source": [
    "\n",
    "\n",
    "with rasterio.open(\"/home/simon/CDE_UBS/thesis/data_collection/sen2/sen2_mosaic.tif\", \"w\", **out_meta) as dest:\n",
    "    dest.write(mosaic)\n"
   ]
  },
  {
   "cell_type": "code",
   "execution_count": null,
   "metadata": {},
   "outputs": [],
   "source": []
  }
 ],
 "metadata": {
  "kernelspec": {
   "display_name": "Python 3",
   "language": "python",
   "name": "python3"
  },
  "language_info": {
   "codemirror_mode": {
    "name": "ipython",
    "version": 3
   },
   "file_extension": ".py",
   "mimetype": "text/x-python",
   "name": "python",
   "nbconvert_exporter": "python",
   "pygments_lexer": "ipython3",
   "version": "3.7.6"
  }
 },
 "nbformat": 4,
 "nbformat_minor": 4
}
