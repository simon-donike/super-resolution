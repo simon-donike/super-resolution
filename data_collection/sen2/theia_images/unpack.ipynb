{
 "cells": [
  {
   "cell_type": "code",
   "execution_count": 1,
   "metadata": {},
   "outputs": [
    {
     "name": "stdout",
     "output_type": "stream",
     "text": [
      "start finding tiffs\n"
     ]
    }
   ],
   "source": [
    "import sys,os\n",
    "import time\n",
    "print(\"start finding tiffs\")\n",
    "start_time = time.time()\n",
    "# define input path\n",
    "root = \"/home/simon/CDE_UBS/thesis/data_collection/sen2\"\n",
    "#path = os.path.join(root, \"targetdirectory\")\n",
    "path = root"
   ]
  },
  {
   "cell_type": "code",
   "execution_count": null,
   "metadata": {},
   "outputs": [],
   "source": []
  },
  {
   "cell_type": "code",
   "execution_count": 2,
   "metadata": {},
   "outputs": [
    {
     "name": "stdout",
     "output_type": "stream",
     "text": [
      "No. of .zip files:  126\n",
      "No. of commands:  126 \n",
      "Example:  unzip /home/simon/CDE_UBS/thesis/data_collection/sen2/theia_images/SENTINEL2A_20180626-111413-074_L2A_T30TXT_D.zip \n"
     ]
    }
   ],
   "source": [
    "\n",
    "create_new = True\n",
    "if create_new:\n",
    "    # get list of all tif files in directory & subdirectory\n",
    "    tifs = []\n",
    "    for path, subdirs, files in os.walk(root):\n",
    "        for name in files:\n",
    "            if name[-3:] == \"zip\":\n",
    "                tifs.append(os.path.join(path, name))\n",
    "    print(\"No. of .zip files: \",len(tifs))\n",
    "\n",
    "\n",
    "\n",
    "    # create list of commands from files\n",
    "    commands = []\n",
    "    for i in tifs:\n",
    "        location = i[:i.rfind(\"/\")+1] # path of file\n",
    "        in_file_name = i[i.rfind('/')+1:]\n",
    "        out_file_name = location + in_file_name[:in_file_name.rfind(\".\")]+\"_22234.tif\"\n",
    "        command = \"unzip \" + location+in_file_name + \" \"\n",
    "        commands.append(command)\n",
    "    print(\"No. of commands: \",len(commands),\"\\nExample: \",commands[0])\n",
    "\n",
    "    # write commands to file\n",
    "    with open('commands.txt', 'w') as f:\n",
    "        for item in commands:\n",
    "            f.write(\"%s\\n\" % item)\n",
    "            \n",
    "    "
   ]
  },
  {
   "cell_type": "code",
   "execution_count": null,
   "metadata": {},
   "outputs": [
    {
     "name": "stdout",
     "output_type": "stream",
     "text": [
      "FINISHED SETUP\n",
      "\n",
      "STARTING REPROJECT\n",
      "\n"
     ]
    }
   ],
   "source": [
    "        \n",
    "print(\"FINISHED SETUP\")\n",
    "time.sleep(5)   \n",
    "print(\"\\nSTARTING REPROJECT\\n\")\n",
    "counter = 0\n",
    "no_tifs = len(tifs)\n",
    "for i in commands:\n",
    "    counter = counter+1\n",
    "    os.system(i)\n",
    "    if counter %1==0:\n",
    "        with open(\"log.txt\", \"a\") as myfile:\n",
    "            percentage = round(100 * float(counter)/float(no_tifs),2)\n",
    "            temp_time = time.time()-start_time\n",
    "            print_str = \"image no: \"+str(counter)+\" after \"+str(round(temp_time/60,2))+\" min or \"+str(round(temp_time/3600,2)) + \" hrs. - \"+str(percentage)+\"%\\n\"\n",
    "            myfile.write(print_str)\n",
    "print(\"Done!\")\n"
   ]
  },
  {
   "cell_type": "code",
   "execution_count": null,
   "metadata": {},
   "outputs": [],
   "source": []
  }
 ],
 "metadata": {
  "kernelspec": {
   "display_name": "Python 3",
   "language": "python",
   "name": "python3"
  },
  "language_info": {
   "codemirror_mode": {
    "name": "ipython",
    "version": 3
   },
   "file_extension": ".py",
   "mimetype": "text/x-python",
   "name": "python",
   "nbconvert_exporter": "python",
   "pygments_lexer": "ipython3",
   "version": "3.7.6"
  }
 },
 "nbformat": 4,
 "nbformat_minor": 4
}
