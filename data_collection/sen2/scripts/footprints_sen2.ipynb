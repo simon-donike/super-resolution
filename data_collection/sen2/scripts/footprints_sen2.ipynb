{
 "cells": [
  {
   "cell_type": "code",
   "execution_count": 70,
   "metadata": {},
   "outputs": [],
   "source": [
    "import rasterio\n",
    "import rasterio.features\n",
    "import rasterio.warp\n",
    "import os\n",
    "import glob\n",
    "from geojson import Point, Feature, FeatureCollection, dump\n",
    "import geopandas as gpd\n",
    "import pandas as pd\n",
    "import shapely.wkt"
   ]
  },
  {
   "cell_type": "code",
   "execution_count": 71,
   "metadata": {},
   "outputs": [],
   "source": [
    "path = \"/home/simon/CDE_UBS/thesis/data_collection/sen2/merged_reprojected\"\n",
    "footprints_path = \"/home/simon/CDE_UBS/thesis/data_collection/footprints/sen2_footprints/\"\n",
    "# define search criteria\n",
    "search_criteria = \"*.tif\"\n",
    "search_term = os.path.join(path, search_criteria)\n",
    "# perform search\n",
    "files = glob.glob(search_term)\n",
    "spot6_footprints_path = \"\""
   ]
  },
  {
   "cell_type": "code",
   "execution_count": null,
   "metadata": {},
   "outputs": [],
   "source": []
  },
  {
   "cell_type": "code",
   "execution_count": 73,
   "metadata": {},
   "outputs": [
    {
     "name": "stdout",
     "output_type": "stream",
     "text": [
      "100%        \r"
     ]
    }
   ],
   "source": [
    "dates = []\n",
    "tiles = []\n",
    "for i in files:\n",
    "    dates.append(i[78:86])\n",
    "    tiles.append(i[102:108])\n",
    "\n",
    "geoms = []\n",
    "file_names = []\n",
    "# Extract Footprints\n",
    "counter = 0\n",
    "for i in files:\n",
    "    # def counter cond\n",
    "    counter = counter+1\n",
    "    if counter%1==0:\n",
    "        perc = 100 * float(counter)/float(len(files))\n",
    "        print(str(int(perc))+\"%\",\"       \",end=\"\\r\")\n",
    "    \n",
    "    \n",
    "    file_name = i[i.rfind(\"/\")+1:]\n",
    "    file_names.append(file_name)\n",
    "    with rasterio.open(i) as dataset:\n",
    "\n",
    "        # Read the dataset's valid data mask as a ndarray.\n",
    "        mask = dataset.dataset_mask()\n",
    "\n",
    "        # Extract feature shapes and values from the array.\n",
    "        for geom, val in rasterio.features.shapes(\n",
    "                mask, transform=dataset.transform):\n",
    "\n",
    "            # Transform shapes from the dataset's own coordinate\n",
    "            # reference system to CRS84 (EPSG:4326).\n",
    "            #geom = rasterio.warp.transform_geom(\n",
    "            #    dataset.crs, 'EPSG:4326', geom, precision=6)\n",
    "\n",
    "            # Print GeoJSON shapes to stdout.\n",
    "            geoms.append(geom)"
   ]
  },
  {
   "cell_type": "code",
   "execution_count": 81,
   "metadata": {},
   "outputs": [],
   "source": [
    "# Modify WKT to be able to pass into GDF\n",
    "wkt_geoms = []\n",
    "for v,i in enumerate(geoms):\n",
    "    coordinates = i[\"coordinates\"]\n",
    "    wkt_str = \"POLYGON ((\"\n",
    "    for coor in coordinates:\n",
    "        for x in coor:\n",
    "            wkt_str=wkt_str+\"\"\n",
    "            x_1 = str(x).replace(\",\",\"\")\n",
    "            x_1 = x_1.replace(\"(\",\"\")\n",
    "            x_1 = x_1.replace(\")\",\"\")\n",
    "            #x_1 = x_1.replace(\"\",\"\")\n",
    "            wkt_str = wkt_str+x_1+\",\"\n",
    "        wkt_str = wkt_str[:wkt_str.rfind(\",\")] + wkt_str[wkt_str.rfind(\",\")+1:]\n",
    "            \n",
    "    wkt_str = wkt_str.replace(\"[\",\"\")\n",
    "    wkt_str = wkt_str.replace(\"]\",\"\")\n",
    "    wkt_str = wkt_str+\"))\"\n",
    "    #print(wkt_str)\n",
    "    wkt_geoms.append(shapely.wkt.loads(wkt_str))"
   ]
  },
  {
   "cell_type": "code",
   "execution_count": 82,
   "metadata": {},
   "outputs": [],
   "source": [
    "df = pd.DataFrame()\n",
    "df[\"file\"] = file_names\n",
    "df[\"date\"] = dates\n",
    "df[\"tile\"] = tiles\n",
    "df[\"geom\"] = wkt_geoms\n",
    "gdf = gpd.GeoDataFrame(df, geometry=df.geom)\n",
    "gdf = gdf[[\"file\",\"date\",\"tile\",\"geometry\"]]\n",
    "gdf.set_crs(epsg=2154)\n",
    "gdf.to_file(footprints_path+\"footprints_sen2_2154.shp\")"
   ]
  },
  {
   "cell_type": "code",
   "execution_count": null,
   "metadata": {},
   "outputs": [],
   "source": []
  },
  {
   "cell_type": "code",
   "execution_count": null,
   "metadata": {},
   "outputs": [],
   "source": []
  }
 ],
 "metadata": {
  "kernelspec": {
   "display_name": "Python 3",
   "language": "python",
   "name": "python3"
  },
  "language_info": {
   "codemirror_mode": {
    "name": "ipython",
    "version": 3
   },
   "file_extension": ".py",
   "mimetype": "text/x-python",
   "name": "python",
   "nbconvert_exporter": "python",
   "pygments_lexer": "ipython3",
   "version": "3.7.6"
  }
 },
 "nbformat": 4,
 "nbformat_minor": 4
}
