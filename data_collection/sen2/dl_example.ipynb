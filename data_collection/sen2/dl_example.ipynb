{
 "cells": [
  {
   "cell_type": "code",
   "execution_count": null,
   "metadata": {},
   "outputs": [],
   "source": []
  },
  {
   "cell_type": "code",
   "execution_count": null,
   "metadata": {},
   "outputs": [],
   "source": [
    "\n",
    "# define tiles\n",
    "Tiles = ['32PMT']#,'32PMT','32PPQ','32PR','32PQU','32PQV','33PTK','33PUM','33PUN','33PUP']\n",
    "# connect to the API\n",
    "user = ####### ## change this!\n",
    "password = ######## ## change this!\n",
    "api = SentinelAPI(user, password, 'https://scihub.copernicus.eu/dhus', show_progressbars= True)\n"
   ]
  },
  {
   "cell_type": "code",
   "execution_count": null,
   "metadata": {},
   "outputs": [],
   "source": [
    "# Search\n",
    "query_kwargs = {\n",
    "        'platformname': 'Sentinel-2',\n",
    "        #'producttype': 'S2MSI1C',\n",
    "        'processinglevel': 'Level-1C',\n",
    "        'date': ('20191210', '20191230'),\n",
    "        'cloudcoverpercentage': (0, 20),\n",
    "         'limit': 9} #'limit': 4\n"
   ]
  },
  {
   "cell_type": "code",
   "execution_count": null,
   "metadata": {},
   "outputs": [],
   "source": [
    "\n",
    "products = OrderedDict()\n",
    "for tile in Tiles:\n",
    "    kw = query_kwargs.copy()\n",
    "    kw['tileid'] = tile  \n",
    "    pp = api.query(**kw)\n",
    "    products.update(pp)                     #cloudcoverpercentage = (0, 20))\n",
    "#Check\n",
    "    print(len(products))\n"
   ]
  },
  {
   "cell_type": "code",
   "execution_count": null,
   "metadata": {},
   "outputs": [],
   "source": [
    "\n",
    "#sort\n",
    "    products_df = api.to_dataframe(products)\n",
    "    products_df_sorted = products_df.sort_values(['size'],ascending = [False])\n",
    "    products_df_sorted = products_df_sorted.head (1)\n",
    "\n",
    "    print(products_df_sorted['size'])\n",
    "    print(products_df_sorted['title'])\n",
    "#download data\n",
    "    # api.download_all(products_df_sorted.index, directory_path= r'C:\\Users\\EQuilibrium\\PyBegining\\downloader\\Downld_Sen',max_attempts=2, checksum = True )\n",
    "    api.download(products_df_sorted.index, directory_path= r'C:\\Users\\EQuilibrium\\PyBegining\\downloader\\Downld_Sen', checksum = True )\n",
    "#print(products_df_sorted)"
   ]
  }
 ],
 "metadata": {
  "kernelspec": {
   "display_name": "Python 3",
   "language": "python",
   "name": "python3"
  },
  "language_info": {
   "codemirror_mode": {
    "name": "ipython",
    "version": 3
   },
   "file_extension": ".py",
   "mimetype": "text/x-python",
   "name": "python",
   "nbconvert_exporter": "python",
   "pygments_lexer": "ipython3",
   "version": "3.7.6"
  }
 },
 "nbformat": 4,
 "nbformat_minor": 4
}
