{
 "cells": [
  {
   "cell_type": "code",
   "execution_count": 1,
   "metadata": {},
   "outputs": [],
   "source": [
    "from sentinelsat.sentinel import SentinelAPI, read_geojson, geojson_to_wkt\n",
    "import pandas as pd\n",
    "from collections import OrderedDict\n",
    "from datetime import date\n",
    "import matplotlib.pyplot as plt\n",
    "import pandas as pd\n",
    "import geopandas as gpd\n",
    "import fiona\n",
    "import shapely\n",
    "import datetime"
   ]
  },
  {
   "cell_type": "code",
   "execution_count": 2,
   "metadata": {},
   "outputs": [],
   "source": [
    "\"\"\"\n",
    "AOI Parameters\n",
    "\"\"\"\n",
    "\n",
    "# bbox\n",
    "bbox = (-4.860230,47.428380,-0.982056,48.897512)\n",
    "bbox_poly = shapely.geometry.box(*bbox, ccw=True)\n",
    "\n",
    "\n",
    "# start-end times\n",
    "start = datetime.datetime(2018,4,1)\n",
    "end = datetime.datetime(2018,9,30)"
   ]
  },
  {
   "cell_type": "code",
   "execution_count": null,
   "metadata": {},
   "outputs": [],
   "source": []
  },
  {
   "cell_type": "code",
   "execution_count": 3,
   "metadata": {},
   "outputs": [],
   "source": [
    "# define tiles\n",
    "tiles = ['30UUU', '30UVV', '30UVU', '30TVT', '30UWU', '30TWT', '30UXU']\n",
    "\n",
    "\n",
    "# set up API\n",
    "user = \"sdonike\" ####### ## change this!\n",
    "pw =  \"Iha0504G$\" ######## ## change this!\n",
    "api = SentinelAPI(user, pw, api_url='https://scihub.copernicus.eu/dhus', show_progressbars= True,timeout=100)\n"
   ]
  },
  {
   "cell_type": "code",
   "execution_count": 19,
   "metadata": {},
   "outputs": [],
   "source": [
    "def get_footprints(tiles,lower_cloud,upper_cloud):\n",
    "    # set query params\n",
    "    query_kwargs = {\n",
    "        'platformname': 'Sentinel-2',\n",
    "        #'producttype': 'S2MSI2Ap',\n",
    "        #'processinglevel': 'Level-1C',\n",
    "        'date': ('20210401', '20210930'),\n",
    "        'cloudcoverpercentage': (lower_cloud, upper_cloud),\n",
    "         'limit': 999} \n",
    "    \n",
    "    #products_ls = []\n",
    "    footprints = []\n",
    "\n",
    "    products = OrderedDict()\n",
    "    for tile in tiles:\n",
    "        products = OrderedDict()\n",
    "        kw = query_kwargs.copy()\n",
    "        kw['tileid'] = tile  \n",
    "        pp = api.query(**kw)\n",
    "        products.update(pp)\n",
    "        #products_ls.append(products)\n",
    "        print(\"Tile:\",tile,\"\\t - Products:\",len(products))\n",
    "\n",
    "\n",
    "        products_df = api.to_dataframe(products)\n",
    "        products_df_sorted = products_df.sort_values(['size'],ascending = [False])\n",
    "        #products_df_sorted = products_df_sorted.head (1)\n",
    "\n",
    "        #print(products_df_sorted['size'])\n",
    "        #print(products_df_sorted['title'])\n",
    "\n",
    "        fp = []\n",
    "        for i in products_df_sorted[\"footprint\"]:\n",
    "            fp.append(i)\n",
    "\n",
    "        #tmp_ls = [products_df_sorted[\"title\"],products_df_sorted[\"tileid\"],products_df_sorted[\"footprint\"],products_df_sorted[\"datatakesensingstart\"]]\n",
    "\n",
    "        footprints.append(fp)\n",
    "\n",
    "\n",
    "        #download data\n",
    "        # api.download_all(products_df_sorted.index, directory_path= r'C:\\Users\\EQuilibrium\\PyBegining\\downloader\\Downld_Sen',max_attempts=2, checksum = True )\n",
    "        #api.download(products_df_sorted.index, directory_path= r'C:\\Users\\EQuilibrium\\PyBegining\\downloader\\Downld_Sen', checksum = True )\n",
    "        #print(products_df_sorted)\n",
    "    # flatten list\n",
    "    footprints = [item for sublist in footprints for item in sublist]\n",
    "    footprints_df = pd.DataFrame(footprints,columns=[\"geometry\"])\n",
    "    #footprints_df\n",
    "    \n",
    "    footprints_df['geometry'] = gpd.GeoSeries.from_wkt(footprints_df['geometry'])\n",
    "    gdf = gpd.GeoDataFrame(footprints_df, geometry='geometry')\n",
    "\n",
    "    return(gdf)"
   ]
  },
  {
   "cell_type": "code",
   "execution_count": 20,
   "metadata": {},
   "outputs": [
    {
     "name": "stdout",
     "output_type": "stream",
     "text": [
      "Tile: 30UUU \t - Products: 17\n",
      "Tile: 30UVV \t - Products: 14\n",
      "Tile: 30UVU \t - Products: 9\n",
      "Tile: 30TVT \t - Products: 14\n",
      "Tile: 30UWU \t - Products: 15\n",
      "Tile: 30TWT \t - Products: 21\n",
      "Tile: 30UXU \t - Products: 9\n",
      "Tile: 30UUU \t - Products: 9\n",
      "Tile: 30UVV \t - Products: 5\n",
      "Tile: 30UVU \t - Products: 1\n",
      "Tile: 30TVT \t - Products: 5\n",
      "Tile: 30UWU \t - Products: 4\n",
      "Tile: 30TWT \t - Products: 5\n",
      "Tile: 30UXU \t - Products: 1\n",
      "Tile: 30UUU \t - Products: 4\n",
      "Tile: 30UVV \t - Products: 6\n",
      "Tile: 30UVU \t - Products: 4\n",
      "Tile: 30TVT \t - Products: 4\n",
      "Tile: 30UWU \t - Products: 3\n",
      "Tile: 30TWT \t - Products: 2\n",
      "Tile: 30UXU \t - Products: 1\n",
      "Tile: 30UUU \t - Products: 4\n",
      "Tile: 30UVV \t - Products: 2\n",
      "Tile: 30UVU \t - Products: 1\n",
      "Tile: 30TVT \t - Products: 4\n",
      "Tile: 30UWU \t - Products: 3\n",
      "Tile: 30TWT \t - Products: 7\n",
      "Tile: 30UXU \t - Products: 3\n"
     ]
    }
   ],
   "source": [
    "\n",
    "get_footprints(tiles,0, 5).to_file('qgis_files/sen2_tiles/footprints_05.shp')\n",
    "get_footprints(tiles,5,10).to_file('qgis_files/sen2_tiles/footprints_10.shp')  \n",
    "get_footprints(tiles,10,15).to_file('qgis_files/sen2_tiles/footprints_15.shp')  \n",
    "get_footprints(tiles,15,20).to_file('qgis_files/sen2_tiles/footprints_20.shp')  "
   ]
  },
  {
   "cell_type": "code",
   "execution_count": null,
   "metadata": {},
   "outputs": [],
   "source": []
  },
  {
   "cell_type": "code",
   "execution_count": null,
   "metadata": {},
   "outputs": [],
   "source": []
  },
  {
   "cell_type": "code",
   "execution_count": null,
   "metadata": {},
   "outputs": [],
   "source": []
  },
  {
   "cell_type": "code",
   "execution_count": null,
   "metadata": {},
   "outputs": [],
   "source": []
  },
  {
   "cell_type": "code",
   "execution_count": null,
   "metadata": {},
   "outputs": [],
   "source": []
  },
  {
   "cell_type": "code",
   "execution_count": 13,
   "metadata": {},
   "outputs": [],
   "source": []
  },
  {
   "cell_type": "code",
   "execution_count": null,
   "metadata": {},
   "outputs": [],
   "source": []
  },
  {
   "cell_type": "code",
   "execution_count": null,
   "metadata": {},
   "outputs": [],
   "source": []
  }
 ],
 "metadata": {
  "kernelspec": {
   "display_name": "Python 3",
   "language": "python",
   "name": "python3"
  },
  "language_info": {
   "codemirror_mode": {
    "name": "ipython",
    "version": 3
   },
   "file_extension": ".py",
   "mimetype": "text/x-python",
   "name": "python",
   "nbconvert_exporter": "python",
   "pygments_lexer": "ipython3",
   "version": "3.7.6"
  }
 },
 "nbformat": 4,
 "nbformat_minor": 4
}
