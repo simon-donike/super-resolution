{
 "cells": [
  {
   "cell_type": "code",
   "execution_count": 1,
   "metadata": {},
   "outputs": [],
   "source": [
    "from sentinelsat.sentinel import SentinelAPI, read_geojson, geojson_to_wkt\n",
    "import pandas as pd\n",
    "from collections import OrderedDict\n",
    "from datetime import date\n",
    "import matplotlib.pyplot as plt\n",
    "import pandas as pd\n",
    "import geopandas as gpd\n",
    "import fiona\n",
    "import shapely\n",
    "import datetime"
   ]
  },
  {
   "cell_type": "code",
   "execution_count": 2,
   "metadata": {},
   "outputs": [],
   "source": [
    "\"\"\"\n",
    "AOI Parameters\n",
    "\"\"\"\n",
    "\n",
    "# bbox\n",
    "bbox = (-4.860230,47.428380,-0.982056,48.897512)\n",
    "bbox_poly = shapely.geometry.box(*bbox, ccw=True)\n",
    "\n",
    "\n",
    "# start-end times\n",
    "start = datetime.datetime(2018,4,1)\n",
    "end = datetime.datetime(2018,9,30)"
   ]
  },
  {
   "cell_type": "code",
   "execution_count": null,
   "metadata": {},
   "outputs": [],
   "source": []
  },
  {
   "cell_type": "code",
   "execution_count": 3,
   "metadata": {},
   "outputs": [],
   "source": [
    "# define tiles\n",
    "tiles = ['30UUU', '30UVV', '30UVU', '30TVT', '30UWU', '30TWT', '30UXU']\n",
    "\n",
    "\n",
    "# set up API\n",
    "user = \"sdonike\" ####### ## change this!\n",
    "pw =  \"Iha0504G$\" ######## ## change this!\n",
    "api = SentinelAPI(user, pw, api_url='https://scihub.copernicus.eu/dhus', show_progressbars= True,timeout=100)\n"
   ]
  },
  {
   "cell_type": "code",
   "execution_count": 14,
   "metadata": {},
   "outputs": [],
   "source": [
    "def get_footprints(tiles,lower_cloud,upper_cloud):\n",
    "    # set query params\n",
    "    query_kwargs = {\n",
    "        'platformname': 'Sentinel-2',\n",
    "        #'producttype': 'S2MSI2Ap',\n",
    "        #'processinglevel': 'Level-1C',\n",
    "        'date': ('20210401', '20210930'),\n",
    "        'cloudcoverpercentage': (lower_cloud, upper_cloud),\n",
    "         'limit': 999} \n",
    "    \n",
    "    #products_ls = []\n",
    "    footprints = []\n",
    "\n",
    "    products = OrderedDict()\n",
    "    for tile in tiles:\n",
    "        products = OrderedDict()\n",
    "        kw = query_kwargs.copy()\n",
    "        kw['tileid'] = tile  \n",
    "        pp = api.query(**kw)\n",
    "        products.update(pp)\n",
    "        #products_ls.append(products)\n",
    "        #print(\"Tile:\",tile,\"\\t - Products:\",len(products))\n",
    "\n",
    "\n",
    "        products_df = api.to_dataframe(products)\n",
    "        products_df_sorted = products_df.sort_values(['size'],ascending = [False])\n",
    "        #products_df_sorted = products_df_sorted.head (1)\n",
    "\n",
    "        #print(products_df_sorted['size'])\n",
    "        #print(products_df_sorted['title'])\n",
    "\n",
    "        fp = []\n",
    "        for i in products_df_sorted[\"footprint\"]:\n",
    "            fp.append(i)\n",
    "\n",
    "        #tmp_ls = [products_df_sorted[\"title\"],products_df_sorted[\"tileid\"],products_df_sorted[\"footprint\"],products_df_sorted[\"datatakesensingstart\"]]\n",
    "\n",
    "        footprints.append(fp)\n",
    "\n",
    "\n",
    "        #download data\n",
    "        # api.download_all(products_df_sorted.index, directory_path= r'C:\\Users\\EQuilibrium\\PyBegining\\downloader\\Downld_Sen',max_attempts=2, checksum = True )\n",
    "        #api.download(products_df_sorted.index, directory_path= r'C:\\Users\\EQuilibrium\\PyBegining\\downloader\\Downld_Sen', checksum = True )\n",
    "        #print(products_df_sorted)\n",
    "    # flatten list\n",
    "    footprints = [item for sublist in footprints for item in sublist]\n",
    "    footprints_df = pd.DataFrame(footprints,columns=[\"geometry\"])\n",
    "    #footprints_df\n",
    "    \n",
    "    footprints_df['geometry'] = gpd.GeoSeries.from_wkt(footprints_df['geometry'])\n",
    "    gdf = gpd.GeoDataFrame(footprints_df, geometry='geometry')\n",
    "    print(footprin)\n",
    "    return(gdf)"
   ]
  },
  {
   "cell_type": "code",
   "execution_count": 15,
   "metadata": {},
   "outputs": [
    {
     "name": "stdout",
     "output_type": "stream",
     "text": [
      "Tile: 30UUU \t - Products: 34\n",
      "Tile: 30UVV \t - Products: 27\n",
      "Tile: 30UVU \t - Products: 15\n",
      "Tile: 30TVT \t - Products: 27\n",
      "Tile: 30UWU \t - Products: 25\n",
      "Tile: 30TWT \t - Products: 35\n",
      "Tile: 30UXU \t - Products: 14\n"
     ]
    },
    {
     "data": {
      "text/html": [
       "<div>\n",
       "<style scoped>\n",
       "    .dataframe tbody tr th:only-of-type {\n",
       "        vertical-align: middle;\n",
       "    }\n",
       "\n",
       "    .dataframe tbody tr th {\n",
       "        vertical-align: top;\n",
       "    }\n",
       "\n",
       "    .dataframe thead th {\n",
       "        text-align: right;\n",
       "    }\n",
       "</style>\n",
       "<table border=\"1\" class=\"dataframe\">\n",
       "  <thead>\n",
       "    <tr style=\"text-align: right;\">\n",
       "      <th></th>\n",
       "      <th>geometry</th>\n",
       "    </tr>\n",
       "  </thead>\n",
       "  <tbody>\n",
       "    <tr>\n",
       "      <th>0</th>\n",
       "      <td>MULTIPOLYGON (((-4.52032 47.75351, -4.20361 47...</td>\n",
       "    </tr>\n",
       "    <tr>\n",
       "      <th>1</th>\n",
       "      <td>MULTIPOLYGON (((-4.51111 47.75367, -4.20361 47...</td>\n",
       "    </tr>\n",
       "    <tr>\n",
       "      <th>2</th>\n",
       "      <td>MULTIPOLYGON (((-4.51593 47.75359, -4.20361 47...</td>\n",
       "    </tr>\n",
       "    <tr>\n",
       "      <th>3</th>\n",
       "      <td>MULTIPOLYGON (((-4.51260 47.75364, -4.20361 47...</td>\n",
       "    </tr>\n",
       "    <tr>\n",
       "      <th>4</th>\n",
       "      <td>MULTIPOLYGON (((-4.50519 47.75377, -4.20361 47...</td>\n",
       "    </tr>\n",
       "    <tr>\n",
       "      <th>...</th>\n",
       "      <td>...</td>\n",
       "    </tr>\n",
       "    <tr>\n",
       "      <th>172</th>\n",
       "      <td>MULTIPOLYGON (((-0.43805 47.73530, -0.39688 47...</td>\n",
       "    </tr>\n",
       "    <tr>\n",
       "      <th>173</th>\n",
       "      <td>MULTIPOLYGON (((-0.44330 47.73539, -0.43701 47...</td>\n",
       "    </tr>\n",
       "    <tr>\n",
       "      <th>174</th>\n",
       "      <td>MULTIPOLYGON (((-0.43945 47.73532, -0.38443 47...</td>\n",
       "    </tr>\n",
       "    <tr>\n",
       "      <th>175</th>\n",
       "      <td>MULTIPOLYGON (((-0.43118 47.73517, -0.41431 47...</td>\n",
       "    </tr>\n",
       "    <tr>\n",
       "      <th>176</th>\n",
       "      <td>MULTIPOLYGON (((-0.43835 47.73530, -0.40384 47...</td>\n",
       "    </tr>\n",
       "  </tbody>\n",
       "</table>\n",
       "<p>177 rows × 1 columns</p>\n",
       "</div>"
      ],
      "text/plain": [
       "                                              geometry\n",
       "0    MULTIPOLYGON (((-4.52032 47.75351, -4.20361 47...\n",
       "1    MULTIPOLYGON (((-4.51111 47.75367, -4.20361 47...\n",
       "2    MULTIPOLYGON (((-4.51593 47.75359, -4.20361 47...\n",
       "3    MULTIPOLYGON (((-4.51260 47.75364, -4.20361 47...\n",
       "4    MULTIPOLYGON (((-4.50519 47.75377, -4.20361 47...\n",
       "..                                                 ...\n",
       "172  MULTIPOLYGON (((-0.43805 47.73530, -0.39688 47...\n",
       "173  MULTIPOLYGON (((-0.44330 47.73539, -0.43701 47...\n",
       "174  MULTIPOLYGON (((-0.43945 47.73532, -0.38443 47...\n",
       "175  MULTIPOLYGON (((-0.43118 47.73517, -0.41431 47...\n",
       "176  MULTIPOLYGON (((-0.43835 47.73530, -0.40384 47...\n",
       "\n",
       "[177 rows x 1 columns]"
      ]
     },
     "execution_count": 15,
     "metadata": {},
     "output_type": "execute_result"
    }
   ],
   "source": [
    "\n",
    "get_footprints(tiles,0, 5).to_file('qgis_files/sen2_tiles/footprints_05.shp')\n",
    "get_footprints(tiles,0,10).to_file('qgis_files/sen2_tiles/footprints_10.shp')  \n",
    "get_footprints(tiles,0,15).to_file('qgis_files/sen2_tiles/footprints_15.shp')  \n",
    "get_footprints(tiles,0,20).to_file('qgis_files/sen2_tiles/footprints_20.shp')  "
   ]
  },
  {
   "cell_type": "code",
   "execution_count": null,
   "metadata": {},
   "outputs": [],
   "source": []
  },
  {
   "cell_type": "code",
   "execution_count": null,
   "metadata": {},
   "outputs": [],
   "source": []
  },
  {
   "cell_type": "code",
   "execution_count": null,
   "metadata": {},
   "outputs": [],
   "source": []
  },
  {
   "cell_type": "code",
   "execution_count": null,
   "metadata": {},
   "outputs": [],
   "source": []
  },
  {
   "cell_type": "code",
   "execution_count": null,
   "metadata": {},
   "outputs": [],
   "source": []
  },
  {
   "cell_type": "code",
   "execution_count": 13,
   "metadata": {},
   "outputs": [],
   "source": []
  },
  {
   "cell_type": "code",
   "execution_count": null,
   "metadata": {},
   "outputs": [],
   "source": []
  },
  {
   "cell_type": "code",
   "execution_count": null,
   "metadata": {},
   "outputs": [],
   "source": []
  }
 ],
 "metadata": {
  "kernelspec": {
   "display_name": "Python 3",
   "language": "python",
   "name": "python3"
  },
  "language_info": {
   "codemirror_mode": {
    "name": "ipython",
    "version": 3
   },
   "file_extension": ".py",
   "mimetype": "text/x-python",
   "name": "python",
   "nbconvert_exporter": "python",
   "pygments_lexer": "ipython3",
   "version": "3.7.6"
  }
 },
 "nbformat": 4,
 "nbformat_minor": 4
}
