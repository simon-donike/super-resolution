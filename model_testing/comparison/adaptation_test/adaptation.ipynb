{
 "cells": [
  {
   "cell_type": "code",
   "execution_count": 1,
   "id": "a7aaff93-7ae4-492f-9482-dc28143627d4",
   "metadata": {},
   "outputs": [
    {
     "name": "stderr",
     "output_type": "stream",
     "text": [
      "C:\\Users\\accou\\anaconda3\\envs\\geo_env_n6\\lib\\site-packages\\tqdm\\auto.py:22: TqdmWarning: IProgress not found. Please update jupyter and ipywidgets. See https://ipywidgets.readthedocs.io/en/stable/user_install.html\n",
      "  from .autonotebook import tqdm as notebook_tqdm\n"
     ]
    },
    {
     "name": "stdout",
     "output_type": "stream",
     "text": [
      "cuda:0\n"
     ]
    }
   ],
   "source": [
    "# imports\n",
    "import torch\n",
    "from torch.utils.data import DataLoader, random_split\n",
    "import torch.optim as optim\n",
    "import numpy as np\n",
    "import matplotlib.pyplot as plt\n",
    "#import wandb\n",
    "#from prettytable import PrettyTable\n",
    "import random\n",
    "import os\n",
    "from datetime import datetime\n",
    "from torch.optim import lr_scheduler\n",
    "import pandas as pd\n",
    "from skimage import exposure\n",
    "\n",
    "# local imports\n",
    "#from models_parameters import losses\n",
    "from utils import helper_functions\n",
    "from utils.dataloader import Dataset as dataset\n",
    "from utils.losses import calculate_metrics\n",
    "from utils.convert import convert_image\n",
    "import geopandas\n",
    "\n",
    "device = torch.device(\"cuda:0\" if torch.cuda.is_available() else \"cpu\")\n",
    "print(device)\n",
    "\n",
    "import torch.nn as nn"
   ]
  },
  {
   "cell_type": "code",
   "execution_count": null,
   "id": "cd1d9f74-1ebb-46a1-ac42-6b41ec331735",
   "metadata": {},
   "outputs": [],
   "source": []
  },
  {
   "cell_type": "code",
   "execution_count": 2,
   "id": "8383ccdd-5369-4f26-8538-7b7fee9b4209",
   "metadata": {},
   "outputs": [],
   "source": [
    "working_directory = \"C:\\\\Users\\\\accou\\\\Documents\\\\GitHub\\\\a-PyTorch-Tutorial-to-Super-Resolution\\\\\"\n",
    "folder_path = \"C:\\\\Users\\\\accou\\\\Documents\\\\thesis\\\\data_v2\\\\\"\n",
    "dataset_file = \"C:\\\\Users\\\\accou\\\\Documents\\\\thesis\\\\data_v2\\\\final_dataset.pkl\"\n",
    "    \n",
    "#filter_point=(367500.0,6822750.0) # Good one\n",
    "#filter_point=(292500.0,6810750.0) # okay\n",
    "#filter_point = (240750.0 , 6840000.0) # best one\n",
    "filter_point=\"Area\"\n",
    "sen2_test_tile=\"all\"\n",
    "\n",
    "#from utils.dataloader_srcnn import Dataset as dataset"
   ]
  },
  {
   "cell_type": "code",
   "execution_count": 3,
   "id": "7d89db65-375e-4dfd-832e-ab3ed9b7a532",
   "metadata": {},
   "outputs": [
    {
     "name": "stdout",
     "output_type": "stream",
     "text": [
      "filtering for inference Area\n",
      "filtering for inference Area\n",
      "filtering for inference Area\n",
      "filtering for inference Area\n"
     ]
    }
   ],
   "source": [
    "# normal\n",
    "dataset_normal   = dataset(folder_path,dataset_file,test_train_val=\"test\",transform=\"interpolate\",sen2_amount=1, sen2_tile = sen2_test_tile,   location=\"local\",filter_point=filter_point)\n",
    "loader_normal = DataLoader(dataset_normal,batch_size=1, shuffle=False, num_workers=0,pin_memory=True,drop_last=False)\n",
    "\n",
    "# standardize\n",
    "dataset_stand   = dataset(folder_path,dataset_file,test_train_val=\"test\",transform=\"standardize\",sen2_amount=1, sen2_tile = sen2_test_tile,   location=\"local\",filter_point=filter_point)\n",
    "loader_stand = DataLoader(dataset_stand,batch_size=1, shuffle=False, num_workers=0,pin_memory=True,drop_last=False)\n",
    "\n",
    "# moment matching\n",
    "dataset_moment   = dataset(folder_path,dataset_file,test_train_val=\"test\",transform=\"moment_matching\",sen2_amount=1, sen2_tile = sen2_test_tile,   location=\"local\",filter_point=filter_point)\n",
    "loader_moment = DataLoader(dataset_moment,batch_size=1, shuffle=False, num_workers=0,pin_memory=True,drop_last=False)\n",
    "\n",
    "#histogram_matching\n",
    "dataset_hist   = dataset(folder_path,dataset_file,test_train_val=\"test\",transform=\"histogram_matching\",sen2_amount=1, sen2_tile = sen2_test_tile,   location=\"local\",filter_point=filter_point)\n",
    "loader_hist = DataLoader(dataset_hist,batch_size=1, shuffle=False, num_workers=0,pin_memory=True,drop_last=False)"
   ]
  },
  {
   "cell_type": "code",
   "execution_count": 4,
   "id": "84a3247f-ecca-4147-b8ac-d9a089f2d17d",
   "metadata": {},
   "outputs": [],
   "source": [
    "def test_matching(loader):\n",
    "    def Average(lst):\n",
    "        return sum(lst) / len(lst)\n",
    "    \n",
    "    \n",
    "    mae = nn.L1Loss()\n",
    "    mse = nn.MSELoss()\n",
    "    mae_ls = []\n",
    "    mse_ls = []\n",
    "    \n",
    "    count=0\n",
    "    for i in loader:\n",
    "        count=count+1\n",
    "        lr,hr,coor = i\n",
    "        lr,hr = lr.to(device),hr.to(device)\n",
    "        mae_ls.append(mae(lr,hr).item())\n",
    "        mse_ls.append(mse(lr,hr).item())\n",
    "        if count%100==0:\n",
    "            print(count,\"/\",len(loader),end=\"\\r\")\n",
    "    return(Average(mae_ls),Average(mse_ls))\n",
    "        "
   ]
  },
  {
   "cell_type": "code",
   "execution_count": 5,
   "id": "8841668f-16c6-45ee-9538-752fe54e65c9",
   "metadata": {},
   "outputs": [
    {
     "name": "stdout",
     "output_type": "stream",
     "text": [
      "Normal finished.\n",
      "Stand finished.\n",
      "Moment finished.\n",
      "Hist finished.\n"
     ]
    }
   ],
   "source": [
    "mae_normal,mse_normal = test_matching(loader_normal)\n",
    "print(\"Normal finished.\")\n",
    "mae_stand,mse_stand = test_matching(loader_stand)\n",
    "print(\"Stand finished.\")\n",
    "mae_moment,mse_moment = test_matching(loader_moment)\n",
    "print(\"Moment finished.\")\n",
    "mae_hist,mse_hist = test_matching(loader_hist)\n",
    "print(\"Hist finished.\")\n"
   ]
  },
  {
   "cell_type": "code",
   "execution_count": 19,
   "id": "54209888-f1a9-4136-b68e-664190927ee4",
   "metadata": {},
   "outputs": [],
   "source": [
    "res = [ [mae_normal, mse_normal], \n",
    "                 [mae_stand,mse_stand ], \n",
    "                 [mae_moment, mse_moment], \n",
    "                 [mae_hist, mse_hist], ]\n",
    "\n",
    "column_names=[\"MAE\",\"MSE\"]\n",
    "row_label=[\"No Matching\",\"Standardization\",\"Moment Matching\",\"Histogram Matching\"]\n",
    "\n",
    "df=pd.DataFrame(res,columns=column_names,index=row_label)\n",
    "del res\n",
    "# _________________________________________________________________________________________________________\n",
    "res = [ [mae_normal, mse_normal], [mae_stand,mse_stand ]]\n",
    "\n",
    "column_names=[\"MAE\",\"MSE\"]\n",
    "row_label=[\"No Matching\",\"Standardization\"]\n",
    "\n",
    "df1=pd.DataFrame(res,columns=column_names,index=row_label)\n",
    "del res\n",
    "# _________________________________________________________________________________________________________\n",
    "\n",
    "res = [  [mae_moment, mse_moment], \n",
    "                 [mae_hist, mse_hist], ]\n",
    "\n",
    "column_names=[\"MAE\",\"MSE\"]\n",
    "row_label=[\"Moment Matching\",\"Histogram Matching\"]\n",
    "\n",
    "df2=pd.DataFrame(res,columns=column_names,index=row_label)\n",
    "del res"
   ]
  },
  {
   "cell_type": "code",
   "execution_count": 38,
   "id": "7915e2e9-6b1e-493a-80dc-d5618402480a",
   "metadata": {},
   "outputs": [
    {
     "data": {
      "image/png": "[encoded data removed]",
      "text/plain": [
       "<Figure size 720x360 with 2 Axes>"
      ]
     },
     "metadata": {
      "needs_background": "light"
     },
     "output_type": "display_data"
    }
   ],
   "source": [
    "fig, axes = plt.subplots(nrows=1,ncols=2,figsize=(10,5))\n",
    "#pd1.plot(ax = axes[0,0], subplots=True) \n",
    "#pd2.plot(ax = axes[0,1], subplots=True)\n",
    "\n",
    "\n",
    "df1.plot.bar(stacked=False,rot=15,ax = axes[0])\n",
    "df2.plot.bar(stacked=False,rot=15,ax = axes[1])\n",
    "fig.suptitle(\"MAE & MSE of different adaptation techniques\")\n",
    "plt.savefig(\"adaptations.png\")\n",
    "plt.show()"
   ]
  },
  {
   "cell_type": "code",
   "execution_count": 29,
   "id": "0afa3dac-7769-423f-af48-3ace01815377",
   "metadata": {},
   "outputs": [
    {
     "data": {
      "image/png": "[encoded data removed]",
      "text/plain": [
       "<Figure size 432x288 with 2 Axes>"
      ]
     },
     "metadata": {
      "needs_background": "light"
     },
     "output_type": "display_data"
    }
   ],
   "source": [
    "fig, axes = plt.subplots(nrows=1,ncols=2)"
   ]
  },
  {
   "cell_type": "code",
   "execution_count": null,
   "id": "2f6ee366-2ade-42b9-9575-cae9385579cc",
   "metadata": {},
   "outputs": [],
   "source": []
  }
 ],
 "metadata": {
  "kernelspec": {
   "display_name": "Python 3 (ipykernel)",
   "language": "python",
   "name": "python3"
  },
  "language_info": {
   "codemirror_mode": {
    "name": "ipython",
    "version": 3
   },
   "file_extension": ".py",
   "mimetype": "text/x-python",
   "name": "python",
   "nbconvert_exporter": "python",
   "pygments_lexer": "ipython3",
   "version": "3.8.13"
  }
 },
 "nbformat": 4,
 "nbformat_minor": 5
}
