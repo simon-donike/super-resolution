{
 "cells": [
  {
   "cell_type": "code",
   "execution_count": 1,
   "id": "56ef7cf0-0e46-4d43-a007-ea3b1f338ad1",
   "metadata": {},
   "outputs": [
    {
     "name": "stderr",
     "output_type": "stream",
     "text": [
      "C:\\Users\\accou\\anaconda3\\envs\\geo_env_n6\\lib\\site-packages\\tqdm\\auto.py:22: TqdmWarning: IProgress not found. Please update jupyter and ipywidgets. See https://ipywidgets.readthedocs.io/en/stable/user_install.html\n",
      "  from .autonotebook import tqdm as notebook_tqdm\n"
     ]
    },
    {
     "name": "stdout",
     "output_type": "stream",
     "text": [
      "cuda:0\n"
     ]
    }
   ],
   "source": [
    "import time\n",
    "import torch.backends.cudnn as cudnn\n",
    "from torch import nn\n",
    "from torch.utils.data import DataLoader\n",
    "from models import Generator, Discriminator, TruncatedVGG19\n",
    "#from datasets import SRDataset\n",
    "from utils import *\n",
    "from utils_.dataloader import Dataset as dataset\n",
    "import utils_.helper_functions as helper_functions\n",
    "from utils_.losses import calculate_metrics\n",
    "import torch\n",
    "from datetime import datetime\n",
    "import wandb\n",
    "\n",
    "import matplotlib.pyplot as plt\n",
    "import numpy as np\n",
    "\n",
    "device = torch.device(\"cuda:0\" if torch.cuda.is_available() else \"cpu\")\n",
    "print(device)"
   ]
  },
  {
   "cell_type": "markdown",
   "id": "f1016223-e42c-4332-9ae1-882d6514edfb",
   "metadata": {},
   "source": [
    "## get dataloader"
   ]
  },
  {
   "cell_type": "code",
   "execution_count": 2,
   "id": "04e1597a-d9f4-4e67-b66a-a1ac3dbd6d94",
   "metadata": {},
   "outputs": [],
   "source": [
    "def load_dataloader(dl_type=\"normal\",sen2_test_tile=\"all\"):\n",
    "    \n",
    "    working_directory = \"C:\\\\Users\\\\accou\\\\Documents\\\\GitHub\\\\a-PyTorch-Tutorial-to-Super-Resolution\\\\\"\n",
    "    folder_path = \"C:\\\\Users\\\\accou\\\\Documents\\\\thesis\\\\data_v2\\\\\"\n",
    "    dataset_file = \"C:\\\\Users\\\\accou\\\\Documents\\\\thesis\\\\data_v2\\\\final_dataset.pkl\"\n",
    "    \n",
    "    #filter_point=(367500.0,6822750.0) # Good one\n",
    "    #filter_point=(292500.0,6810750.0) # okay\n",
    "    #filter_point = (240750.0 , 6840000.0) # best one\n",
    "    filter_point=\"Area\"\n",
    "\n",
    "    \n",
    "    if dl_type == \"normal\":\n",
    "        from utils_.dataloader import Dataset as dataset\n",
    "        dataset_test   = dataset(folder_path,dataset_file,test_train_val=\"test\",transform=\"histogram_matching\",sen2_amount=1, sen2_tile = sen2_test_tile,   location=\"local\",filter_point=filter_point)\n",
    "        loader_test = DataLoader(dataset_test,batch_size=1, shuffle=False, num_workers=0,pin_memory=True,drop_last=False)\n",
    "    if dl_type == \"srcnn\":\n",
    "        from utils_.dataloader_srcnn import Dataset as dataset\n",
    "        dataset_test   = dataset(folder_path,dataset_file,test_train_val=\"test\",transform=\"interpolate\",sen2_amount=1, sen2_tile = sen2_test_tile,   location=\"local\",filter_point=filter_point)\n",
    "        loader_test = DataLoader(dataset_test,batch_size=1, shuffle=False, num_workers=0,pin_memory=True,drop_last=False)\n",
    "    if dl_type == \"temporal\":\n",
    "        from utils_.dataloader_temporal import Dataset as dataset\n",
    "        dataset_test   = dataset(folder_path,dataset_file,test_train_val=\"test\",transform=None,sen2_amount=4, sen2_tile = sen2_test_tile,   location=\"local\",filter_point=filter_point)\n",
    "        loader_test = DataLoader(dataset_test,batch_size=2, shuffle=False, num_workers=0,pin_memory=True,drop_last=False)\n",
    "    return loader_test"
   ]
  },
  {
   "cell_type": "code",
   "execution_count": 3,
   "id": "9a6d49fc-ab06-4c7a-ae2e-d2a31a30c964",
   "metadata": {},
   "outputs": [
    {
     "name": "stdout",
     "output_type": "stream",
     "text": [
      "filtering for inference Area\n"
     ]
    }
   ],
   "source": [
    "#srcnn_checkpoint = \"model_files/srcnn_x4.pth\"\n",
    "#rcan_checkpoint  = \"model_files/rcan_4x.pt\"\n",
    "srgan_checkpoint = \"model_files/srgan_4x.pth.tar\"\n",
    "#srgan_temporal_checkpoint = \"model_files/srgan_4x_temporal.tar\"\n",
    "#srgan_fusion_checkpoint = \"model_files/srgan_4x_fusion.pth\"\n",
    "\n",
    "loader_SRGAN = load_dataloader(\"normal\")"
   ]
  },
  {
   "cell_type": "code",
   "execution_count": 4,
   "id": "fc434a13-0a88-4882-b775-298429d037d5",
   "metadata": {},
   "outputs": [],
   "source": [
    "load_from = \"C:\\\\Users\\\\accou\\\\Documents\\\\GitHub\\\\a-PyTorch-Tutorial-to-Super-Resolution\\\\checkpoints\\\\checkpoint_SRGAN_25-04-2022_13-03-18_epoch61.pth.tar\"\n",
    "\n",
    "g2 = torch.load(srgan_checkpoint)[\"generator\"]\n",
    "g2 = g2.to(device)\n",
    "g2 = g2.eval()"
   ]
  },
  {
   "cell_type": "code",
   "execution_count": 10,
   "id": "efb75e9d-0e58-4308-8851-057b898a600d",
   "metadata": {
    "tags": []
   },
   "outputs": [],
   "source": [
    "def save_georef(image,coor,path,prefix=\"im_\"):\n",
    "    import rasterio\n",
    "    from rasterio.transform import from_origin\n",
    "    \n",
    "    image = image.to(device)\n",
    "    image = image[0].cpu().detach().numpy()\n",
    "    image = np.float32(image)\n",
    "    #image = helper_functions.minmax_percentile(image)\n",
    "\n",
    "    transform = from_origin(coor[0].item()-373,coor[1].item()+373, 2.5, 2.5) # WARNING: OFFSET introduced by dataloader sen2 tile extraction\n",
    "    #print(image.shape,type(image))\n",
    "    new_dataset = rasterio.open(path+prefix+str(coor[0].item())+\"_y\"+str(coor[1].item())+\".tif\", 'w', driver='GTiff',\n",
    "                                height = 300, width = 300,\n",
    "                                count=3, dtype=str(image.dtype),\n",
    "                                crs=2154,\n",
    "                                transform=transform)\n",
    "    new_dataset.write(image)\n",
    "    new_dataset.close()\n",
    "\n",
    "\n",
    "def plot_image(image):\n",
    "    image = image[0].detach().numpy()\n",
    "    image = np.float32(image)\n",
    "    image = np.transpose(image,(1,2,0))\n",
    "    #image = helper_functions.minmax_percentile(image)\n",
    "    plt.imshow(image)\n",
    "    plt.show()\n"
   ]
  },
  {
   "cell_type": "code",
   "execution_count": 11,
   "id": "26eefd85-8876-4997-9089-85da41dda0c2",
   "metadata": {},
   "outputs": [],
   "source": [
    "path_spot6 = \"result/sen2/\"\n",
    "path_sen2 = \"result/spot6/\"\n",
    "path_sr = \"result/sr/\""
   ]
  },
  {
   "cell_type": "code",
   "execution_count": 12,
   "id": "0291d276-b4d8-4a7d-8252-d2ab18607c3f",
   "metadata": {},
   "outputs": [],
   "source": [
    "count = 0\n",
    "for item in loader_SRGAN:\n",
    "    \n",
    "    lr,hr,coor = item\n",
    "    lr,hr = lr.to(device),hr.to(device)\n",
    "    with torch.no_grad():\n",
    "        sr = g2(lr)\n",
    "    sr = convert_image(sr, source='[-1, 1]', target='imagenet-norm')\n",
    "    \n",
    "    save_georef(hr,coor,path_spot6,prefix=\"hr_\")\n",
    "    save_georef(lr,coor,path_sen2,prefix=\"lr_\")\n",
    "    save_georef(sr,coor,path_sr,prefix=\"sr_\")\n",
    "    #plot_image(sr)\n",
    "    \n",
    "    count = count+1\n",
    "    if count%100==0:\n",
    "        print(count,\"/\",len(loader_SRGAN),end=\"\\r\")"
   ]
  },
  {
   "cell_type": "code",
   "execution_count": 8,
   "id": "1ce9c44d-e29d-48e6-a97a-57d16360a9dd",
   "metadata": {},
   "outputs": [],
   "source": [
    "def bands_ind(sr):\n",
    "    sr = sr[0]\n",
    "    sr = sr.numpy()\n",
    "    sr[0],sr[1],sr[2] = sr[0],helper_functions.minmax_percentile(sr[1]),helper_functions.minmax_percentile(sr[2])\n",
    "    sr = np.transpose(sr,(1,2,0))\n",
    "    plt.imshow(sr)\n"
   ]
  },
  {
   "cell_type": "code",
   "execution_count": 9,
   "id": "82c48d28-61d5-4216-9243-446f3606e88f",
   "metadata": {},
   "outputs": [
    {
     "data": {
      "text/plain": [
       "'\\ndevice = torch.device(\"cuda:0\" if torch.cuda.is_available() else \"cpu\")\\nsr = sr.to(device)\\nhelper_functions.plot_tensors_window(sr,sr,sr,fig_path=\"show\")\\n'"
      ]
     },
     "execution_count": 9,
     "metadata": {},
     "output_type": "execute_result"
    }
   ],
   "source": [
    "\"\"\"\n",
    "device = torch.device(\"cuda:0\" if torch.cuda.is_available() else \"cpu\")\n",
    "sr = sr.to(device)\n",
    "helper_functions.plot_tensors_window(sr,sr,sr,fig_path=\"show\")\n",
    "\"\"\""
   ]
  },
  {
   "cell_type": "code",
   "execution_count": null,
   "id": "8e2b2b3f-b0e1-43da-9283-9bb166a76799",
   "metadata": {},
   "outputs": [],
   "source": []
  },
  {
   "cell_type": "code",
   "execution_count": null,
   "id": "3ad7bb19-232f-4dff-a0ac-1d5dd28ced8f",
   "metadata": {},
   "outputs": [],
   "source": []
  }
 ],
 "metadata": {
  "kernelspec": {
   "display_name": "Python 3 (ipykernel)",
   "language": "python",
   "name": "python3"
  },
  "language_info": {
   "codemirror_mode": {
    "name": "ipython",
    "version": 3
   },
   "file_extension": ".py",
   "mimetype": "text/x-python",
   "name": "python",
   "nbconvert_exporter": "python",
   "pygments_lexer": "ipython3",
   "version": "3.8.13"
  }
 },
 "nbformat": 4,
 "nbformat_minor": 5
}
