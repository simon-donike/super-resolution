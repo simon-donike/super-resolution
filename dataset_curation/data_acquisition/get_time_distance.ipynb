{
 "cells": [
  {
   "cell_type": "markdown",
   "metadata": {},
   "source": [
    "# Get sen2 DF"
   ]
  },
  {
   "cell_type": "code",
   "execution_count": null,
   "metadata": {},
   "outputs": [],
   "source": []
  },
  {
   "cell_type": "code",
   "execution_count": 1,
   "metadata": {},
   "outputs": [],
   "source": [
    "import rasterio\n",
    "import numpy as np\n",
    "import pandas as pd\n",
    "import geopandas as gpd\n",
    "import os\n",
    "import glob\n",
    "import time\n",
    "from rasterio.merge import merge\n",
    "from rasterio.plot import show\n",
    "import rasterio.features\n",
    "import rasterio.warp\n",
    "from geojson import Point, Feature, FeatureCollection, dump\n",
    "import shapely.wkt\n",
    "import matplotlib.pyplot as plt"
   ]
  },
  {
   "cell_type": "code",
   "execution_count": 2,
   "metadata": {},
   "outputs": [],
   "source": [
    "root_dir = !pwd\n",
    "root_dir = str(root_dir[0])\n",
    "folder = \"/sen2/merged_reprojected\"\n",
    "files_folder = root_dir + folder\n"
   ]
  },
  {
   "cell_type": "code",
   "execution_count": 3,
   "metadata": {},
   "outputs": [],
   "source": [
    "\n",
    "# define search criteria\n",
    "search_criteria = \"*.tif\"\n",
    "search_term = os.path.join(files_folder, search_criteria)\n",
    "# perform search\n"
   ]
  },
  {
   "cell_type": "code",
   "execution_count": 4,
   "metadata": {},
   "outputs": [],
   "source": [
    "# create DF and uniwe\n",
    "files = glob.glob(search_term)\n",
    "dates = []\n",
    "tiles = []\n",
    "for i in files:\n",
    "    dates.append(i[78:86])\n",
    "    tiles.append(i[102:108])\n",
    "df_sen2 = pd.DataFrame(np.column_stack([files, dates,tiles]),columns=[\"files\",\"dates\",\"tiles\"])\n",
    "unique_dates = pd.unique(df_sen2[\"dates\"])"
   ]
  },
  {
   "cell_type": "code",
   "execution_count": 5,
   "metadata": {},
   "outputs": [
    {
     "data": {
      "text/html": [
       "<div>\n",
       "<style scoped>\n",
       "    .dataframe tbody tr th:only-of-type {\n",
       "        vertical-align: middle;\n",
       "    }\n",
       "\n",
       "    .dataframe tbody tr th {\n",
       "        vertical-align: top;\n",
       "    }\n",
       "\n",
       "    .dataframe thead th {\n",
       "        text-align: right;\n",
       "    }\n",
       "</style>\n",
       "<table border=\"1\" class=\"dataframe\">\n",
       "  <thead>\n",
       "    <tr style=\"text-align: right;\">\n",
       "      <th></th>\n",
       "      <th>files</th>\n",
       "      <th>dates</th>\n",
       "      <th>tiles</th>\n",
       "    </tr>\n",
       "  </thead>\n",
       "  <tbody>\n",
       "    <tr>\n",
       "      <th>0</th>\n",
       "      <td>/home/simon/CDE_UBS/thesis/data_collection/sen...</td>\n",
       "      <td>20180419</td>\n",
       "      <td>T30UXU</td>\n",
       "    </tr>\n",
       "    <tr>\n",
       "      <th>1</th>\n",
       "      <td>/home/simon/CDE_UBS/thesis/data_collection/sen...</td>\n",
       "      <td>20180709</td>\n",
       "      <td>T30TVT</td>\n",
       "    </tr>\n",
       "    <tr>\n",
       "      <th>2</th>\n",
       "      <td>/home/simon/CDE_UBS/thesis/data_collection/sen...</td>\n",
       "      <td>20180709</td>\n",
       "      <td>T30UVV</td>\n",
       "    </tr>\n",
       "    <tr>\n",
       "      <th>3</th>\n",
       "      <td>/home/simon/CDE_UBS/thesis/data_collection/sen...</td>\n",
       "      <td>20180623</td>\n",
       "      <td>T30UXU</td>\n",
       "    </tr>\n",
       "    <tr>\n",
       "      <th>4</th>\n",
       "      <td>/home/simon/CDE_UBS/thesis/data_collection/sen...</td>\n",
       "      <td>20180803</td>\n",
       "      <td>T30TVT</td>\n",
       "    </tr>\n",
       "    <tr>\n",
       "      <th>...</th>\n",
       "      <td>...</td>\n",
       "      <td>...</td>\n",
       "      <td>...</td>\n",
       "    </tr>\n",
       "    <tr>\n",
       "      <th>121</th>\n",
       "      <td>/home/simon/CDE_UBS/thesis/data_collection/sen...</td>\n",
       "      <td>20180902</td>\n",
       "      <td>T30UUU</td>\n",
       "    </tr>\n",
       "    <tr>\n",
       "      <th>122</th>\n",
       "      <td>/home/simon/CDE_UBS/thesis/data_collection/sen...</td>\n",
       "      <td>20180927</td>\n",
       "      <td>T30TWT</td>\n",
       "    </tr>\n",
       "    <tr>\n",
       "      <th>123</th>\n",
       "      <td>/home/simon/CDE_UBS/thesis/data_collection/sen...</td>\n",
       "      <td>20180420</td>\n",
       "      <td>T30UVV</td>\n",
       "    </tr>\n",
       "    <tr>\n",
       "      <th>124</th>\n",
       "      <td>/home/simon/CDE_UBS/thesis/data_collection/sen...</td>\n",
       "      <td>20180714</td>\n",
       "      <td>T30UWU</td>\n",
       "    </tr>\n",
       "    <tr>\n",
       "      <th>125</th>\n",
       "      <td>/home/simon/CDE_UBS/thesis/data_collection/sen...</td>\n",
       "      <td>20180805</td>\n",
       "      <td>T30UVU</td>\n",
       "    </tr>\n",
       "  </tbody>\n",
       "</table>\n",
       "<p>126 rows × 3 columns</p>\n",
       "</div>"
      ],
      "text/plain": [
       "                                                 files     dates   tiles\n",
       "0    /home/simon/CDE_UBS/thesis/data_collection/sen...  20180419  T30UXU\n",
       "1    /home/simon/CDE_UBS/thesis/data_collection/sen...  20180709  T30TVT\n",
       "2    /home/simon/CDE_UBS/thesis/data_collection/sen...  20180709  T30UVV\n",
       "3    /home/simon/CDE_UBS/thesis/data_collection/sen...  20180623  T30UXU\n",
       "4    /home/simon/CDE_UBS/thesis/data_collection/sen...  20180803  T30TVT\n",
       "..                                                 ...       ...     ...\n",
       "121  /home/simon/CDE_UBS/thesis/data_collection/sen...  20180902  T30UUU\n",
       "122  /home/simon/CDE_UBS/thesis/data_collection/sen...  20180927  T30TWT\n",
       "123  /home/simon/CDE_UBS/thesis/data_collection/sen...  20180420  T30UVV\n",
       "124  /home/simon/CDE_UBS/thesis/data_collection/sen...  20180714  T30UWU\n",
       "125  /home/simon/CDE_UBS/thesis/data_collection/sen...  20180805  T30UVU\n",
       "\n",
       "[126 rows x 3 columns]"
      ]
     },
     "execution_count": 5,
     "metadata": {},
     "output_type": "execute_result"
    }
   ],
   "source": [
    "df_sen2"
   ]
  },
  {
   "cell_type": "code",
   "execution_count": 6,
   "metadata": {},
   "outputs": [
    {
     "name": "stdout",
     "output_type": "stream",
     "text": [
      "100%        \r"
     ]
    }
   ],
   "source": [
    "names = []\n",
    "geoms = []\n",
    "out_fp = root_dir + \"footprints\"\n",
    "\n",
    "\n",
    "# Extract Footprints\n",
    "counter = 0\n",
    "for i in df_sen2[\"files\"]:\n",
    "    # def counter cond\n",
    "    counter = counter+1\n",
    "    if counter%1==0:\n",
    "        perc = 100 * float(counter)/float(len(df_sen2[\"files\"]))\n",
    "        print(str(int(perc))+\"%\",\"       \",end=\"\\r\")\n",
    "    \n",
    "    \n",
    "    file_name = i[i.rfind(\"/\")+1:i.rfind(\".\")]\n",
    "    #print(file_name)\n",
    "    out_name = out_fp + file_name+\".GeoJSON\"\n",
    "    #print(out_name)\n",
    "    \n",
    "    with rasterio.open(i) as dataset:\n",
    "\n",
    "        # Read the dataset's valid data mask as a ndarray.\n",
    "        mask = dataset.dataset_mask()\n",
    "\n",
    "        # Extract feature shapes and values from the array.\n",
    "        for geom, val in rasterio.features.shapes(\n",
    "                mask, transform=dataset.transform):\n",
    "\n",
    "            # Transform shapes from the dataset's own coordinate\n",
    "            # reference system to CRS84 (EPSG:4326).\n",
    "            #geom = rasterio.warp.transform_geom(\n",
    "            #    dataset.crs, 'EPSG:4326', geom, precision=6)\n",
    "\n",
    "            # Print GeoJSON shapes to stdout.\n",
    "            n = out_name[out_name.rfind(\"/\")+1:out_name.rfind(\".\")] + \".jp2\"\n",
    "            n = n.replace(\"footprints\",\"\")\n",
    "            names.append(n)\n",
    "            geoms.append(geom)\n",
    "print(str(100)+\"%\",\"       \",end=\"\\r\")"
   ]
  },
  {
   "cell_type": "code",
   "execution_count": 7,
   "metadata": {},
   "outputs": [
    {
     "data": {
      "text/html": [
       "<div>\n",
       "<style scoped>\n",
       "    .dataframe tbody tr th:only-of-type {\n",
       "        vertical-align: middle;\n",
       "    }\n",
       "\n",
       "    .dataframe tbody tr th {\n",
       "        vertical-align: top;\n",
       "    }\n",
       "\n",
       "    .dataframe thead th {\n",
       "        text-align: right;\n",
       "    }\n",
       "</style>\n",
       "<table border=\"1\" class=\"dataframe\">\n",
       "  <thead>\n",
       "    <tr style=\"text-align: right;\">\n",
       "      <th></th>\n",
       "      <th>files</th>\n",
       "      <th>dates</th>\n",
       "      <th>tiles</th>\n",
       "      <th>geom</th>\n",
       "      <th>geometry</th>\n",
       "    </tr>\n",
       "  </thead>\n",
       "  <tbody>\n",
       "    <tr>\n",
       "      <th>0</th>\n",
       "      <td>/home/simon/CDE_UBS/thesis/data_collection/sen...</td>\n",
       "      <td>20180419</td>\n",
       "      <td>T30UXU</td>\n",
       "      <td>POLYGON ((350647.0106609548 6859450.010744817,...</td>\n",
       "      <td>POLYGON ((350647.011 6859450.011, 350647.011 6...</td>\n",
       "    </tr>\n",
       "    <tr>\n",
       "      <th>1</th>\n",
       "      <td>/home/simon/CDE_UBS/thesis/data_collection/sen...</td>\n",
       "      <td>20180709</td>\n",
       "      <td>T30TVT</td>\n",
       "      <td>POLYGON ((143692.6836516875 6774980.536423556,...</td>\n",
       "      <td>POLYGON ((143692.684 6774980.536, 143692.684 6...</td>\n",
       "    </tr>\n",
       "    <tr>\n",
       "      <th>2</th>\n",
       "      <td>/home/simon/CDE_UBS/thesis/data_collection/sen...</td>\n",
       "      <td>20180709</td>\n",
       "      <td>T30UVV</td>\n",
       "      <td>POLYGON ((158798.9263208066 6974419.573005313,...</td>\n",
       "      <td>POLYGON ((158798.926 6974419.573, 158798.926 6...</td>\n",
       "    </tr>\n",
       "    <tr>\n",
       "      <th>3</th>\n",
       "      <td>/home/simon/CDE_UBS/thesis/data_collection/sen...</td>\n",
       "      <td>20180623</td>\n",
       "      <td>T30UXU</td>\n",
       "      <td>POLYGON ((350647.0106609548 6859450.010744817,...</td>\n",
       "      <td>POLYGON ((350647.011 6859450.011, 350647.011 6...</td>\n",
       "    </tr>\n",
       "    <tr>\n",
       "      <th>4</th>\n",
       "      <td>/home/simon/CDE_UBS/thesis/data_collection/sen...</td>\n",
       "      <td>20180803</td>\n",
       "      <td>T30TVT</td>\n",
       "      <td>POLYGON ((143692.6836516875 6774980.536423556,...</td>\n",
       "      <td>POLYGON ((143692.684 6774980.536, 143692.684 6...</td>\n",
       "    </tr>\n",
       "    <tr>\n",
       "      <th>...</th>\n",
       "      <td>...</td>\n",
       "      <td>...</td>\n",
       "      <td>...</td>\n",
       "      <td>...</td>\n",
       "      <td>...</td>\n",
       "    </tr>\n",
       "    <tr>\n",
       "      <th>121</th>\n",
       "      <td>/home/simon/CDE_UBS/thesis/data_collection/sen...</td>\n",
       "      <td>20180902</td>\n",
       "      <td>T30UUU</td>\n",
       "      <td>POLYGON ((51639.68855335622 6882132.811613104,...</td>\n",
       "      <td>POLYGON ((51639.689 6882132.812, 51639.689 676...</td>\n",
       "    </tr>\n",
       "    <tr>\n",
       "      <th>122</th>\n",
       "      <td>/home/simon/CDE_UBS/thesis/data_collection/sen...</td>\n",
       "      <td>20180927</td>\n",
       "      <td>T30TWT</td>\n",
       "      <td>POLYGON ((243367.3657216941 6767408.600556872,...</td>\n",
       "      <td>POLYGON ((243367.366 6767408.601, 243367.366 6...</td>\n",
       "    </tr>\n",
       "    <tr>\n",
       "      <th>123</th>\n",
       "      <td>/home/simon/CDE_UBS/thesis/data_collection/sen...</td>\n",
       "      <td>20180420</td>\n",
       "      <td>T30UVV</td>\n",
       "      <td>POLYGON ((158798.9263208066 6974419.573005313,...</td>\n",
       "      <td>POLYGON ((158798.926 6974419.573, 158798.926 6...</td>\n",
       "    </tr>\n",
       "    <tr>\n",
       "      <th>124</th>\n",
       "      <td>/home/simon/CDE_UBS/thesis/data_collection/sen...</td>\n",
       "      <td>20180714</td>\n",
       "      <td>T30UWU</td>\n",
       "      <td>POLYGON ((250952.2064251588 6867075.183695725,...</td>\n",
       "      <td>POLYGON ((250952.206 6867075.184, 250952.206 6...</td>\n",
       "    </tr>\n",
       "    <tr>\n",
       "      <th>125</th>\n",
       "      <td>/home/simon/CDE_UBS/thesis/data_collection/sen...</td>\n",
       "      <td>20180805</td>\n",
       "      <td>T30UVU</td>\n",
       "      <td>POLYGON ((151254.7952121547 6874638.172445575,...</td>\n",
       "      <td>POLYGON ((151254.795 6874638.172, 151254.795 6...</td>\n",
       "    </tr>\n",
       "  </tbody>\n",
       "</table>\n",
       "<p>126 rows × 5 columns</p>\n",
       "</div>"
      ],
      "text/plain": [
       "                                                 files     dates   tiles  \\\n",
       "0    /home/simon/CDE_UBS/thesis/data_collection/sen...  20180419  T30UXU   \n",
       "1    /home/simon/CDE_UBS/thesis/data_collection/sen...  20180709  T30TVT   \n",
       "2    /home/simon/CDE_UBS/thesis/data_collection/sen...  20180709  T30UVV   \n",
       "3    /home/simon/CDE_UBS/thesis/data_collection/sen...  20180623  T30UXU   \n",
       "4    /home/simon/CDE_UBS/thesis/data_collection/sen...  20180803  T30TVT   \n",
       "..                                                 ...       ...     ...   \n",
       "121  /home/simon/CDE_UBS/thesis/data_collection/sen...  20180902  T30UUU   \n",
       "122  /home/simon/CDE_UBS/thesis/data_collection/sen...  20180927  T30TWT   \n",
       "123  /home/simon/CDE_UBS/thesis/data_collection/sen...  20180420  T30UVV   \n",
       "124  /home/simon/CDE_UBS/thesis/data_collection/sen...  20180714  T30UWU   \n",
       "125  /home/simon/CDE_UBS/thesis/data_collection/sen...  20180805  T30UVU   \n",
       "\n",
       "                                                  geom  \\\n",
       "0    POLYGON ((350647.0106609548 6859450.010744817,...   \n",
       "1    POLYGON ((143692.6836516875 6774980.536423556,...   \n",
       "2    POLYGON ((158798.9263208066 6974419.573005313,...   \n",
       "3    POLYGON ((350647.0106609548 6859450.010744817,...   \n",
       "4    POLYGON ((143692.6836516875 6774980.536423556,...   \n",
       "..                                                 ...   \n",
       "121  POLYGON ((51639.68855335622 6882132.811613104,...   \n",
       "122  POLYGON ((243367.3657216941 6767408.600556872,...   \n",
       "123  POLYGON ((158798.9263208066 6974419.573005313,...   \n",
       "124  POLYGON ((250952.2064251588 6867075.183695725,...   \n",
       "125  POLYGON ((151254.7952121547 6874638.172445575,...   \n",
       "\n",
       "                                              geometry  \n",
       "0    POLYGON ((350647.011 6859450.011, 350647.011 6...  \n",
       "1    POLYGON ((143692.684 6774980.536, 143692.684 6...  \n",
       "2    POLYGON ((158798.926 6974419.573, 158798.926 6...  \n",
       "3    POLYGON ((350647.011 6859450.011, 350647.011 6...  \n",
       "4    POLYGON ((143692.684 6774980.536, 143692.684 6...  \n",
       "..                                                 ...  \n",
       "121  POLYGON ((51639.689 6882132.812, 51639.689 676...  \n",
       "122  POLYGON ((243367.366 6767408.601, 243367.366 6...  \n",
       "123  POLYGON ((158798.926 6974419.573, 158798.926 6...  \n",
       "124  POLYGON ((250952.206 6867075.184, 250952.206 6...  \n",
       "125  POLYGON ((151254.795 6874638.172, 151254.795 6...  \n",
       "\n",
       "[126 rows x 5 columns]"
      ]
     },
     "execution_count": 7,
     "metadata": {},
     "output_type": "execute_result"
    }
   ],
   "source": [
    "# Modify WKT to be able to pass into GDF\n",
    "wkt_geoms = []\n",
    "for v,i in enumerate(geoms):\n",
    "    coordinates = i[\"coordinates\"]\n",
    "    wkt_str = \"POLYGON ((\"\n",
    "    for coor in coordinates:\n",
    "        for x in coor:\n",
    "            wkt_str=wkt_str+\"\"\n",
    "            x_1 = str(x).replace(\",\",\"\")\n",
    "            x_1 = x_1.replace(\"(\",\"\")\n",
    "            x_1 = x_1.replace(\")\",\"\")\n",
    "            #x_1 = x_1.replace(\".0\",\"\")\n",
    "            wkt_str = wkt_str+x_1+\",\"\n",
    "        wkt_str = wkt_str[:wkt_str.rfind(\",\")] + wkt_str[wkt_str.rfind(\",\")+1:]\n",
    "            \n",
    "    wkt_str = wkt_str.replace(\"[\",\"\")\n",
    "    wkt_str = wkt_str.replace(\"]\",\"\")\n",
    "    wkt_str = wkt_str+\"))\"\n",
    "    #print(wkt_str)\n",
    "    wkt_geoms.append(shapely.wkt.loads(wkt_str))\n",
    "\n",
    "df_sen2[\"geom\"] = wkt_geoms\n",
    "gdf_sen2 = gpd.GeoDataFrame(df_sen2, geometry=df_sen2.geom)\n",
    "gdf_sen2.set_crs(epsg=2154)"
   ]
  },
  {
   "cell_type": "code",
   "execution_count": 8,
   "metadata": {},
   "outputs": [
    {
     "data": {
      "text/plain": [
       "<AxesSubplot:>"
      ]
     },
     "execution_count": 8,
     "metadata": {},
     "output_type": "execute_result"
    },
    {
     "data": {
      "image/png": "[encoded data removed]",
      "text/plain": [
       "<Figure size 432x288 with 1 Axes>"
      ]
     },
     "metadata": {
      "needs_background": "light"
     },
     "output_type": "display_data"
    }
   ],
   "source": [
    "gdf_sen2.plot()"
   ]
  },
  {
   "cell_type": "markdown",
   "metadata": {},
   "source": [
    "# Get Spot6 DF\n",
    "## Get Spot6 Footprints"
   ]
  },
  {
   "cell_type": "code",
   "execution_count": null,
   "metadata": {},
   "outputs": [],
   "source": []
  },
  {
   "cell_type": "code",
   "execution_count": 9,
   "metadata": {},
   "outputs": [],
   "source": [
    "# define inputs\n",
    "sensor = \"spot6\"\n",
    "root_dir = \"/home/simon/CDE_UBS/thesis/data_collection/\"\n",
    "out_fp = root_dir + \"footprints\"\n",
    "path = root_dir + sensor\n",
    "\n",
    "\n",
    "\n",
    "# define search criteria automatically based on sensor\n",
    "if sensor == \"spot6\":\n",
    "    search_criteria = \"*.jp2\"\n",
    "if sensor == \"sen2\":\n",
    "    search_criteria = \"*.tif\"\n",
    "search_term = os.path.join(path, search_criteria)\n",
    "# perform search\n",
    "files = glob.glob(search_term)\n"
   ]
  },
  {
   "cell_type": "code",
   "execution_count": 10,
   "metadata": {},
   "outputs": [
    {
     "name": "stdout",
     "output_type": "stream",
     "text": [
      "97%               \r"
     ]
    },
    {
     "ename": "RasterioIOError",
     "evalue": "'/home/simon/CDE_UBS/thesis/data_collection/spot6/ORT_2018_0261_6813_LA93_8Bits.jp2' not recognized as a supported file format.",
     "output_type": "error",
     "traceback": [
      "\u001b[0;31m---------------------------------------------------------------------------\u001b[0m",
      "\u001b[0;31mCPLE_OpenFailedError\u001b[0m                      Traceback (most recent call last)",
      "\u001b[0;32mrasterio/_base.pyx\u001b[0m in \u001b[0;36mrasterio._base.DatasetBase.__init__\u001b[0;34m()\u001b[0m\n",
      "\u001b[0;32mrasterio/_shim.pyx\u001b[0m in \u001b[0;36mrasterio._shim.open_dataset\u001b[0;34m()\u001b[0m\n",
      "\u001b[0;32mrasterio/_err.pyx\u001b[0m in \u001b[0;36mrasterio._err.exc_wrap_pointer\u001b[0;34m()\u001b[0m\n",
      "\u001b[0;31mCPLE_OpenFailedError\u001b[0m: '/home/simon/CDE_UBS/thesis/data_collection/spot6/ORT_2018_0261_6813_LA93_8Bits.jp2' not recognized as a supported file format.",
      "\nDuring handling of the above exception, another exception occurred:\n",
      "\u001b[0;31mRasterioIOError\u001b[0m                           Traceback (most recent call last)",
      "\u001b[0;32m<ipython-input-10-c12f2dc4bcb6>\u001b[0m in \u001b[0;36m<module>\u001b[0;34m\u001b[0m\n\u001b[1;32m     17\u001b[0m     \u001b[0;31m#print(out_name)\u001b[0m\u001b[0;34m\u001b[0m\u001b[0;34m\u001b[0m\u001b[0;34m\u001b[0m\u001b[0m\n\u001b[1;32m     18\u001b[0m \u001b[0;34m\u001b[0m\u001b[0m\n\u001b[0;32m---> 19\u001b[0;31m     \u001b[0;32mwith\u001b[0m \u001b[0mrasterio\u001b[0m\u001b[0;34m.\u001b[0m\u001b[0mopen\u001b[0m\u001b[0;34m(\u001b[0m\u001b[0mi\u001b[0m\u001b[0;34m)\u001b[0m \u001b[0;32mas\u001b[0m \u001b[0mdataset\u001b[0m\u001b[0;34m:\u001b[0m\u001b[0;34m\u001b[0m\u001b[0;34m\u001b[0m\u001b[0m\n\u001b[0m\u001b[1;32m     20\u001b[0m \u001b[0;34m\u001b[0m\u001b[0m\n\u001b[1;32m     21\u001b[0m         \u001b[0;31m# Read the dataset's valid data mask as a ndarray.\u001b[0m\u001b[0;34m\u001b[0m\u001b[0;34m\u001b[0m\u001b[0;34m\u001b[0m\u001b[0m\n",
      "\u001b[0;32m/anaconda/lib/python3.7/site-packages/rasterio/env.py\u001b[0m in \u001b[0;36mwrapper\u001b[0;34m(*args, **kwds)\u001b[0m\n\u001b[1;32m    435\u001b[0m \u001b[0;34m\u001b[0m\u001b[0m\n\u001b[1;32m    436\u001b[0m         \u001b[0;32mwith\u001b[0m \u001b[0menv_ctor\u001b[0m\u001b[0;34m(\u001b[0m\u001b[0msession\u001b[0m\u001b[0;34m=\u001b[0m\u001b[0msession\u001b[0m\u001b[0;34m)\u001b[0m\u001b[0;34m:\u001b[0m\u001b[0;34m\u001b[0m\u001b[0;34m\u001b[0m\u001b[0m\n\u001b[0;32m--> 437\u001b[0;31m             \u001b[0;32mreturn\u001b[0m \u001b[0mf\u001b[0m\u001b[0;34m(\u001b[0m\u001b[0;34m*\u001b[0m\u001b[0margs\u001b[0m\u001b[0;34m,\u001b[0m \u001b[0;34m**\u001b[0m\u001b[0mkwds\u001b[0m\u001b[0;34m)\u001b[0m\u001b[0;34m\u001b[0m\u001b[0;34m\u001b[0m\u001b[0m\n\u001b[0m\u001b[1;32m    438\u001b[0m \u001b[0;34m\u001b[0m\u001b[0m\n\u001b[1;32m    439\u001b[0m     \u001b[0;32mreturn\u001b[0m \u001b[0mwrapper\u001b[0m\u001b[0;34m\u001b[0m\u001b[0;34m\u001b[0m\u001b[0m\n",
      "\u001b[0;32m/anaconda/lib/python3.7/site-packages/rasterio/__init__.py\u001b[0m in \u001b[0;36mopen\u001b[0;34m(fp, mode, driver, width, height, count, crs, transform, dtype, nodata, sharing, **kwargs)\u001b[0m\n\u001b[1;32m    218\u001b[0m         \u001b[0;31m# None.\u001b[0m\u001b[0;34m\u001b[0m\u001b[0;34m\u001b[0m\u001b[0;34m\u001b[0m\u001b[0m\n\u001b[1;32m    219\u001b[0m         \u001b[0;32mif\u001b[0m \u001b[0mmode\u001b[0m \u001b[0;34m==\u001b[0m \u001b[0;34m'r'\u001b[0m\u001b[0;34m:\u001b[0m\u001b[0;34m\u001b[0m\u001b[0;34m\u001b[0m\u001b[0m\n\u001b[0;32m--> 220\u001b[0;31m             \u001b[0ms\u001b[0m \u001b[0;34m=\u001b[0m \u001b[0mDatasetReader\u001b[0m\u001b[0;34m(\u001b[0m\u001b[0mpath\u001b[0m\u001b[0;34m,\u001b[0m \u001b[0mdriver\u001b[0m\u001b[0;34m=\u001b[0m\u001b[0mdriver\u001b[0m\u001b[0;34m,\u001b[0m \u001b[0msharing\u001b[0m\u001b[0;34m=\u001b[0m\u001b[0msharing\u001b[0m\u001b[0;34m,\u001b[0m \u001b[0;34m**\u001b[0m\u001b[0mkwargs\u001b[0m\u001b[0;34m)\u001b[0m\u001b[0;34m\u001b[0m\u001b[0;34m\u001b[0m\u001b[0m\n\u001b[0m\u001b[1;32m    221\u001b[0m         \u001b[0;32melif\u001b[0m \u001b[0mmode\u001b[0m \u001b[0;34m==\u001b[0m \u001b[0;34m\"r+\"\u001b[0m\u001b[0;34m:\u001b[0m\u001b[0;34m\u001b[0m\u001b[0;34m\u001b[0m\u001b[0m\n\u001b[1;32m    222\u001b[0m             s = get_writer_for_path(path, driver=driver)(\n",
      "\u001b[0;32mrasterio/_base.pyx\u001b[0m in \u001b[0;36mrasterio._base.DatasetBase.__init__\u001b[0;34m()\u001b[0m\n",
      "\u001b[0;31mRasterioIOError\u001b[0m: '/home/simon/CDE_UBS/thesis/data_collection/spot6/ORT_2018_0261_6813_LA93_8Bits.jp2' not recognized as a supported file format."
     ]
    }
   ],
   "source": [
    "names = []\n",
    "geoms = []\n",
    "\n",
    "# Extract Footprints\n",
    "counter = 0\n",
    "for i in files:\n",
    "    # def counter cond\n",
    "    counter = counter+1\n",
    "    if counter%1==0:\n",
    "        perc = 100 * float(counter)/float(len(files))\n",
    "        print(str(int(perc))+\"%\",\"       \",end=\"\\r\")\n",
    "    \n",
    "    \n",
    "    file_name = i[i.rfind(\"/\")+1:i.rfind(\".\")]\n",
    "    #print(file_name)\n",
    "    out_name = out_fp + file_name+\".GeoJSON\"\n",
    "    #print(out_name)\n",
    "    \n",
    "    with rasterio.open(i) as dataset:\n",
    "\n",
    "        # Read the dataset's valid data mask as a ndarray.\n",
    "        mask = dataset.dataset_mask()\n",
    "\n",
    "        # Extract feature shapes and values from the array.\n",
    "        for geom, val in rasterio.features.shapes(\n",
    "                mask, transform=dataset.transform):\n",
    "\n",
    "            # Transform shapes from the dataset's own coordinate\n",
    "            # reference system to CRS84 (EPSG:4326).\n",
    "            #geom = rasterio.warp.transform_geom(\n",
    "            #    dataset.crs, 'EPSG:4326', geom, precision=6)\n",
    "\n",
    "            # Print GeoJSON shapes to stdout.\n",
    "            n = out_name[out_name.rfind(\"/\")+1:out_name.rfind(\".\")] + \".jp2\"\n",
    "            n = n.replace(\"footprints\",\"\")\n",
    "            names.append(n)\n",
    "            geoms.append(geom)\n",
    "print(str(100)+\"%\",\"       \",end=\"\\r\")"
   ]
  },
  {
   "cell_type": "code",
   "execution_count": null,
   "metadata": {},
   "outputs": [],
   "source": [
    "# Modify WKT to be able to pass into GDF\n",
    "wkt_geoms = []\n",
    "for v,i in enumerate(geoms):\n",
    "    coordinates = i[\"coordinates\"]\n",
    "    wkt_str = \"POLYGON ((\"\n",
    "    for coor in coordinates:\n",
    "        for x in coor:\n",
    "            wkt_str=wkt_str+\"\"\n",
    "            x_1 = str(x).replace(\",\",\"\")\n",
    "            x_1 = x_1.replace(\"(\",\"\")\n",
    "            x_1 = x_1.replace(\")\",\"\")\n",
    "            #x_1 = x_1.replace(\".0\",\"\")\n",
    "            wkt_str = wkt_str+x_1+\",\"\n",
    "            #print(wkt_str)\n",
    "        wkt_str = wkt_str[:wkt_str.rfind(\",\")] + wkt_str[wkt_str.rfind(\",\")+1:]\n",
    "            \n",
    "    wkt_str = wkt_str.replace(\"[\",\"\")\n",
    "    wkt_str = wkt_str.replace(\"]\",\"\")\n",
    "    wkt_str = wkt_str+\"))\"\n",
    "    #print(wkt_str)\n",
    "    wkt_geoms.append(shapely.wkt.loads(wkt_str))\n",
    "\n",
    "df_spot6 = pd.DataFrame()\n",
    "df_spot6[\"name\"] = names\n",
    "df_spot6[\"geom\"] = wkt_geoms\n",
    "gdf_spot6 = gpd.GeoDataFrame(df_spot6, geometry=df_spot6.geom)\n",
    "gdf_spot6.set_crs(epsg=2154)"
   ]
  },
  {
   "cell_type": "code",
   "execution_count": null,
   "metadata": {},
   "outputs": [],
   "source": [
    "gdf_spot6.plot()"
   ]
  },
  {
   "cell_type": "markdown",
   "metadata": {},
   "source": [
    "## Get Centroids"
   ]
  },
  {
   "cell_type": "code",
   "execution_count": null,
   "metadata": {},
   "outputs": [],
   "source": [
    "def get_centroid(gdf):\n",
    "    a = gpd.GeoSeries(gdf.centroid)\n",
    "    return(list(a))"
   ]
  },
  {
   "cell_type": "code",
   "execution_count": null,
   "metadata": {},
   "outputs": [],
   "source": [
    "gdf_spot6[\"centroid\"] = get_centroid(gdf_spot6)\n",
    "gdf_sen2[\"centroid\"] = get_centroid(gdf_sen2)"
   ]
  },
  {
   "cell_type": "markdown",
   "metadata": {},
   "source": [
    "## Get Spot6 positions in sen2 tiles"
   ]
  },
  {
   "cell_type": "code",
   "execution_count": null,
   "metadata": {},
   "outputs": [],
   "source": [
    "# convert geometryx to centroid\n",
    "gdf_spot6.set_geometry(\"centroid\",inplace=True)\n",
    "gdf_spot6.plot(markersize=0.1)"
   ]
  },
  {
   "cell_type": "code",
   "execution_count": null,
   "metadata": {},
   "outputs": [],
   "source": [
    "join_spot6_sen2 = gdf_spot6.sjoin(gdf_sen2, how=\"inner\")"
   ]
  },
  {
   "cell_type": "code",
   "execution_count": null,
   "metadata": {},
   "outputs": [],
   "source": [
    "join_spot6_sen2.head()"
   ]
  },
  {
   "cell_type": "code",
   "execution_count": null,
   "metadata": {},
   "outputs": [],
   "source": [
    "join_spot6_sen2 = gpd.GeoDataFrame(join_spot6_sen2, geometry=\"centroid_left\")\n",
    "join_spot6_sen2.set_crs(epsg=2154,inplace=True)"
   ]
  },
  {
   "cell_type": "code",
   "execution_count": null,
   "metadata": {},
   "outputs": [],
   "source": [
    "join_spot6_sen2.plot(markersize=0.1)"
   ]
  },
  {
   "cell_type": "markdown",
   "metadata": {},
   "source": [
    "## Get Spot6 Dates"
   ]
  },
  {
   "cell_type": "code",
   "execution_count": null,
   "metadata": {},
   "outputs": [],
   "source": [
    "# Load gdf of date info"
   ]
  },
  {
   "cell_type": "code",
   "execution_count": null,
   "metadata": {},
   "outputs": [],
   "source": [
    "path = \"/home/simon/CDE_UBS/thesis/data_collection/footprints/other/\"\n",
    "dates_spot6 = gpd.read_file(path+\"FRANCE_2018_LA93_INFO.shp\")"
   ]
  },
  {
   "cell_type": "code",
   "execution_count": null,
   "metadata": {},
   "outputs": [],
   "source": [
    "# keep only dare and geometry column\n",
    "dates_spot6 = dates_spot6[[\"DATE\",\"geometry\"]]\n",
    "dates_spot6.set_crs(epsg=2154)\n",
    "dates_spot6.plot()"
   ]
  },
  {
   "cell_type": "code",
   "execution_count": null,
   "metadata": {},
   "outputs": [],
   "source": [
    "dates_spot6.head(1)"
   ]
  },
  {
   "cell_type": "markdown",
   "metadata": {},
   "source": [
    "## Join Sen2/Spot6 Dates & Tiles with Spot6 aq. dates"
   ]
  },
  {
   "cell_type": "code",
   "execution_count": null,
   "metadata": {},
   "outputs": [],
   "source": [
    "# rop previous remenants\n",
    "join_spot6_sen2.drop('index_right', inplace=True, axis=1)"
   ]
  },
  {
   "cell_type": "code",
   "execution_count": null,
   "metadata": {},
   "outputs": [],
   "source": [
    "# perform inner join and clean up df\n",
    "join_spot6_sen2_DATES = join_spot6_sen2.sjoin(dates_spot6, how=\"inner\")\n",
    "join_spot6_sen2_DATES.drop([\"geom_right\",\"centroid_right\",\"index_right\"], inplace=True, axis=1)"
   ]
  },
  {
   "cell_type": "code",
   "execution_count": null,
   "metadata": {},
   "outputs": [],
   "source": [
    "join_spot6_sen2_DATES.plot(markersize=0.1)"
   ]
  },
  {
   "cell_type": "code",
   "execution_count": null,
   "metadata": {},
   "outputs": [],
   "source": [
    "# transform back to geometry of footprint\n",
    "join_spot6_sen2_DATES = gpd.GeoDataFrame(join_spot6_sen2_DATES, geometry=\"geometry\")\n",
    "join_spot6_sen2_DATES.set_crs(epsg=2154,inplace=True)"
   ]
  },
  {
   "cell_type": "code",
   "execution_count": null,
   "metadata": {},
   "outputs": [],
   "source": [
    "join_spot6_sen2_DATES.plot()"
   ]
  },
  {
   "cell_type": "markdown",
   "metadata": {},
   "source": [
    "# Find closest date"
   ]
  },
  {
   "cell_type": "markdown",
   "metadata": {},
   "source": [
    "## Transform dates to proper format"
   ]
  },
  {
   "cell_type": "code",
   "execution_count": null,
   "metadata": {},
   "outputs": [],
   "source": [
    "import time\n",
    "from datetime import datetime"
   ]
  },
  {
   "cell_type": "code",
   "execution_count": null,
   "metadata": {},
   "outputs": [],
   "source": [
    "ls_sen2_date = []\n",
    "ls_spot6_date = []\n",
    "for date_s2,date_s6 in zip(join_spot6_sen2_DATES[\"dates\"],join_spot6_sen2_DATES[\"DATE\"]):\n",
    "    ls_sen2_date.append(datetime.strptime(date_s2, \"%Y%m%d\"))\n",
    "    ls_spot6_date.append(datetime.strptime(date_s6, \"%Y%m%d\"))\n",
    "join_spot6_sen2_DATES[\"date_sen2\"] = ls_sen2_date\n",
    "join_spot6_sen2_DATES[\"date_spot6\"] = ls_spot6_date\n",
    "    "
   ]
  },
  {
   "cell_type": "code",
   "execution_count": null,
   "metadata": {},
   "outputs": [],
   "source": [
    "join_spot6_sen2_DATES.head(2)"
   ]
  },
  {
   "cell_type": "markdown",
   "metadata": {},
   "source": [
    "## Perform check for closest date"
   ]
  },
  {
   "cell_type": "code",
   "execution_count": null,
   "metadata": {},
   "outputs": [],
   "source": [
    "spot6_unique = join_spot6_sen2_DATES[\"name\"].unique()\n",
    "sen2_tiles_unique = join_spot6_sen2_DATES[\"tiles\"].unique()"
   ]
  },
  {
   "cell_type": "code",
   "execution_count": null,
   "metadata": {},
   "outputs": [],
   "source": [
    "days_dif = []\n",
    "days_dif_max = []\n",
    "spot6_files = []\n",
    "sen2_dates = []\n",
    "unique_tile = []\n",
    "other_acq = []\n",
    "\n",
    "for spot6_image in spot6_unique:\n",
    "    tmp = join_spot6_sen2_DATES[join_spot6_sen2_DATES[\"name\"] == spot6_image]\n",
    "    \n",
    "    # extract dates for this specific Spot6 Aquisition\n",
    "    spot6_file = 0\n",
    "    spot6_date = list(tmp[\"date_spot6\"])[0]\n",
    "    sen2_dates = list(tmp[\"date_sen2\"])\n",
    "    \n",
    "    # get sen2 file names and clean\n",
    "    sen2_files = list(tmp[\"files\"])\n",
    "    for v,i in enumerate(sen2_files):\n",
    "        sen2_files[v] = i[i.rfind(\"/\")+1:]\n",
    "\n",
    "    # Compare for closest point in time\n",
    "    min_dif = 999999\n",
    "    max_dif = 0\n",
    "    s2_min_date = 0\n",
    "    for s2_date in sen2_dates:\n",
    "        dif = abs((spot6_date-s2_date).days)\n",
    "        \n",
    "        if max_dif<dif:\n",
    "            max_dif = dif\n",
    "        \n",
    "        if min_dif>dif:\n",
    "            min_dif=dif\n",
    "            s2_min_date = s2_date\n",
    "    \n",
    "    # append dict of next closest sen2 aq. dates\n",
    "    dates_dict = {}\n",
    "    for s2_date,s2_file in zip(sen2_dates,sen2_files):\n",
    "        dif = abs((spot6_date-s2_date).days)\n",
    "        dates_dict[dif] = [s2_date,s2_file]\n",
    "    other_acq.append(dates_dict)\n",
    "            \n",
    "    days_dif.append(min_dif)\n",
    "    days_dif_max.append(max_dif)\n",
    "    sen2_dates.append(s2_min_date)\n",
    "    unique_tile.append(spot6_image)"
   ]
  },
  {
   "cell_type": "code",
   "execution_count": null,
   "metadata": {},
   "outputs": [],
   "source": []
  },
  {
   "cell_type": "markdown",
   "metadata": {
    "tags": []
   },
   "source": [
    "### Test to build indepentent gdf (works!)"
   ]
  },
  {
   "cell_type": "code",
   "execution_count": null,
   "metadata": {},
   "outputs": [],
   "source": []
  },
  {
   "cell_type": "code",
   "execution_count": null,
   "metadata": {},
   "outputs": [],
   "source": [
    "df_new = pd.DataFrame(list(zip(unique_tile, days_dif,days_dif_max,other_acq)),columns =['name', 'min','max','other_acq'])\n",
    "df_new = gpd.GeoDataFrame(df_new)\n",
    "\n",
    "# 2\n",
    "df_extract = pd.DataFrame(list(zip(gdf_spot6[\"name\"],gdf_spot6[\"geom\"])),columns =['name', 'geom'])\n",
    "df_extract = gpd.GeoDataFrame(df_extract, geometry=\"geom\")\n",
    "df_extract.set_crs(epsg=2154,inplace=True)\n"
   ]
  },
  {
   "cell_type": "code",
   "execution_count": null,
   "metadata": {},
   "outputs": [],
   "source": [
    "df_new = df_new.merge(df_extract,on=\"name\", how=\"inner\")\n",
    "df_new = gpd.GeoDataFrame(df_new)\n",
    "df_new = gpd.GeoDataFrame(df_new, geometry=\"geom\")\n",
    "df_new.set_crs(epsg=2154,inplace=True)"
   ]
  },
  {
   "cell_type": "code",
   "execution_count": null,
   "metadata": {},
   "outputs": [],
   "source": [
    "df_new.plot(column='min')\n",
    "df_new.plot(column='max')\n",
    "plt.show()"
   ]
  },
  {
   "cell_type": "code",
   "execution_count": null,
   "metadata": {},
   "outputs": [],
   "source": [
    "#df_new.to_file(\"/home/simon/CDE_UBS/thesis/data_collection/sen2/\"+\"closest_dates.geojson\", driver=\"GeoJSON\")\n",
    "#df_new.to_file(\"closest_dates.gpkg\", driver=\"GPKG\")\n",
    "df_new.to_pickle(\"/home/simon/CDE_UBS/thesis/data_collection/sen2/closest_dates.pkl\")"
   ]
  },
  {
   "cell_type": "code",
   "execution_count": null,
   "metadata": {},
   "outputs": [],
   "source": [
    "df_new"
   ]
  },
  {
   "cell_type": "code",
   "execution_count": null,
   "metadata": {},
   "outputs": [],
   "source": [
    "pwd"
   ]
  },
  {
   "cell_type": "code",
   "execution_count": null,
   "metadata": {},
   "outputs": [],
   "source": [
    "df_new"
   ]
  },
  {
   "cell_type": "code",
   "execution_count": null,
   "metadata": {},
   "outputs": [],
   "source": []
  }
 ],
 "metadata": {
  "kernelspec": {
   "display_name": "Python 3",
   "language": "python",
   "name": "python3"
  },
  "language_info": {
   "codemirror_mode": {
    "name": "ipython",
    "version": 3
   },
   "file_extension": ".py",
   "mimetype": "text/x-python",
   "name": "python",
   "nbconvert_exporter": "python",
   "pygments_lexer": "ipython3",
   "version": "3.7.6"
  }
 },
 "nbformat": 4,
 "nbformat_minor": 4
}
