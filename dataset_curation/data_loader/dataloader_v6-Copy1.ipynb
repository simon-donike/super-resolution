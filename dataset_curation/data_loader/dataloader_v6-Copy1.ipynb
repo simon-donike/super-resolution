{
 "cells": [
  {
   "cell_type": "code",
   "execution_count": 1,
   "metadata": {},
   "outputs": [],
   "source": [
    "import pandas as pd\n",
    "import matplotlib.pyplot as plt\n",
    "import random\n",
    "import geopandas\n",
    "import copy\n",
    "import numpy as np\n",
    "\n",
    "import torch\n",
    "import torch.nn as nn\n",
    "import torch.nn.functional as F\n",
    "import torch.optim as optim\n",
    "import torchvision\n",
    "from torch.utils.data import Dataset\n",
    "from torchvision.transforms import transforms\n",
    "import torchvision.datasets as datasets\n",
    "from torch.utils.data import DataLoader, random_split\n",
    "from torchvision.transforms import ToTensor\n",
    "from torchvision import transforms\n",
    "\n",
    "import warnings\n",
    "import random\n",
    "import time"
   ]
  },
  {
   "cell_type": "code",
   "execution_count": 2,
   "metadata": {},
   "outputs": [
    {
     "name": "stdout",
     "output_type": "stream",
     "text": [
      "/home/simon/CDE_UBS/thesis/data_loader\n"
     ]
    }
   ],
   "source": [
    "!pwd"
   ]
  },
  {
   "cell_type": "code",
   "execution_count": 3,
   "metadata": {},
   "outputs": [],
   "source": [
    "# inputs\n",
    "spot6_mosaic = '/home/simon/CDE_UBS/thesis/data_collection/spot6/spot6_mosaic.tif'\n",
    "spot6_path = \"/home/simon/CDE_UBS/thesis/data_collection/spot6/\"\n",
    "sen2_path = \"/home/simon/CDE_UBS/thesis/data_collection/sen2/merged_reprojected/\"\n",
    "closest_dates_filepath = \"/home/simon/CDE_UBS/thesis/data_loader/data/closest_dates.pkl\"\n",
    "#train_test_split_filepath = "
   ]
  },
  {
   "cell_type": "code",
   "execution_count": 4,
   "metadata": {},
   "outputs": [],
   "source": [
    "# Define torch dataset Class\n",
    "class Dataset(Dataset):\n",
    "    def __init__(self,spot6_mosaic,sen2_path,spot6_path,closest_dates_filepath,window_size=500,factor=(10/1.5),clip=True,temporal_images=1):\n",
    "        \n",
    "        # define filepaths\n",
    "        self.temporal_images = temporal_images\n",
    "        self.closest_dates_filepath = closest_dates_filepath\n",
    "        self.spot6_mosaic = spot6_mosaic\n",
    "        self.sen2_path = sen2_path\n",
    "        self.spot6_path = spot6_path\n",
    "        \n",
    "        # define window size\n",
    "        self.window_size = window_size\n",
    "        self.factor = factor\n",
    "        self.window_size_sen2 = int(window_size/self.factor)\n",
    "        \n",
    "        # define transformer\n",
    "        self.transform_sen  = transforms.Compose([\n",
    "            transforms.Normalize(mean=[479.0, 537.0, 344.0], std=[430.0, 290.0, 229.0]) ])\n",
    "        self.transform_spot = transforms.Compose([\n",
    "            transforms.Normalize(mean=[78.0, 91.0, 62.0], std=[36.0, 28.0, 30.0]) ])\n",
    "        \n",
    "        \n",
    "        # Get DF from create_data function!\n",
    "        try:\n",
    "            self.coordinates_closest_date_valid = pd.read_pickle(\"final_dataset.pkl\")\n",
    "            print(\"precalculated dataset file found, loading...\")\n",
    "        except FileNotFoundError:\n",
    "            print(\"No precalculated dataset file found -> calling builder function!\")\n",
    "            from prepare_dataset import prepare_dataset\n",
    "            self.coordinates_closest_date_valid = prepare_dataset(\n",
    "                spot6_mosaic,sen2_path,spot6_path,closest_dates_filepath,\n",
    "                window_size=500,factor=(10/1.5),clip=True,temporal_images=1)\n",
    "        \n",
    "        # delete invalid spot6 rows, reset index of df\n",
    "        self.coordinates_closest_date_valid = self.coordinates_closest_date_valid[self.coordinates_closest_date_valid[\"spot6_validity\"]==True]\n",
    "        self.coordinates_closest_date_valid = self.coordinates_closest_date_valid.reset_index()\n",
    "        \n",
    "        # reset coordinates based on manipulated coordinates datasets\n",
    "        tmp_coordinates = []\n",
    "        for x,y in zip(self.coordinates_closest_date_valid[\"x\"],self.coordinates_closest_date_valid[\"y\"]):\n",
    "            tmp_coordinates.append((x,y))\n",
    "        self.coordinates = tmp_coordinates\n",
    "        \n",
    "        print(\"\\nDataset Object successfully instanciated!\")\n",
    " \n",
    "    def __len__(self):\n",
    "        \"\"\"\n",
    "        Returns length of data\n",
    "        \"\"\"\n",
    "        return(len(self.coordinates_closest_date_valid))\n",
    " \n",
    "    def __getitem__(self,idx):\n",
    "        \"\"\"\n",
    "        Input:\n",
    "            - id of item\n",
    "        Output:\n",
    "            - x and y images as np arrays\n",
    "        \"\"\"\n",
    "        get_from_mosaic = False # set wether window should be taken from mosaic or individual spot6 files\n",
    "        \n",
    "        \n",
    "        import time\n",
    "        start_total = time.time()\n",
    "        \n",
    "        \n",
    "        # extract coordinates of current request\n",
    "        current_coor = self.coordinates[idx]\n",
    "        current_coor_df = self.coordinates_closest_date_valid.loc[(self.coordinates_closest_date_valid[\"x\"]==current_coor[0]) \n",
    "                                                                     & (self.coordinates_closest_date_valid[\"y\"]==current_coor[1])]\n",
    "        \n",
    "        # load spot6 window by singular image\n",
    "        if get_from_mosaic == False:\n",
    "            start_spot6 = time.time()\n",
    "            current_spot6_path = spot6_path + current_coor_df[\"name\"][current_coor_df.index[0]]\n",
    "            im_spot6 = Dataset.extract_spot6_window(current_spot6_path,coordinates=current_coor,window_size=self.window_size)\n",
    "            end_spot6 = time.time()\n",
    "        if get_from_mosaic == True:\n",
    "            start_spot6 = time.time()\n",
    "            im_spot6 = Dataset.extract_spot6_window(self.spot6_mosaic,coordinates=current_coor,window_size=self.window_size)\n",
    "            end_spot6 = time.time()\n",
    "        \n",
    "        start_sen2 = time.time()\n",
    "        # load sen2 window\n",
    "        current_dict = current_coor_df[\"other_valid_acq\"][current_coor_df.index[0]] # extract current dict\n",
    "        im_sen2 = Dataset.extract_sen2_window(Dataset.get_valid_sen2paths(current_dict,sen2_path),current_coor,self.window_size_sen2)\n",
    "        while type(im_sen2)==str: # if unecpected error, return random other image\n",
    "            current_coor = self.coordinates[idx+random.randint(0,len(self.coordinates))]\n",
    "            current_coor_df = self.coordinates_closest_date_valid.loc[(self.coordinates_closest_date_valid[\"x\"]==current_coor[0]) \n",
    "                                                                    & (self.coordinates_closest_date_valid[\"y\"]==current_coor[1])]\n",
    "            current_dict = current_coor_df[\"other_valid_acq\"][current_coor_df.index[0]] # extract current dict\n",
    "            im_sen2 = Dataset.extract_sen2_window(Dataset.get_valid_sen2paths(current_dict,sen2_path),current_coor,self.window_size_sen2)\n",
    "            print(\"ERROR ITERATION\")\n",
    "        end_sen2 = time.time()\n",
    "        \n",
    "        \n",
    "        end_total = time.time()\n",
    "        #print(\"Total Time: \",end_total-start_total)\n",
    "        #print(\"Spot6 Time: \",end_spot6-start_spot6)\n",
    "        #print(\"Sen2 Time: \",end_sen2-start_sen2)\n",
    "        # return extracted images\n",
    "        \n",
    "        \n",
    "        \"\"\" CHECK FOR VALIDITY OF IMAGE SHAPES\"\"\"\n",
    "        \n",
    "        if im_spot6.shape != (3,self.window_size,self.window_size):\n",
    "            warnings.warn(\"Warning in Dataloader: SPOT6 Window shape not valid at coordinates: \"+str(current_coor)+\" - Shape: \"+str(im_spot6.shape))\n",
    "        if im_sen2.shape != (3,self.window_size_sen2,self.window_size_sen2):\n",
    "            warnings.warn(\"Warning in Dataloader: Sen-2 Window shape not valid at coordinates: \"+str(current_coor)+\" - Shape: \"+str(im_sen2.shape))\n",
    "        \n",
    "        # Perform Transform and change types\n",
    "        im_sen2  = torch.from_numpy(im_sen2)\n",
    "        im_spot6 = torch.from_numpy(im_spot6)\n",
    "        \n",
    "        im_sen2 = im_sen2.float()\n",
    "        im_spot6 = im_spot6.float()\n",
    "        \n",
    "        im_sen2  = self.transform_sen(im_sen2)\n",
    "        im_spot6 = self.transform_spot(im_spot6)\n",
    "        \n",
    "        return(im_spot6,im_sen2)\n",
    "\n",
    "\n",
    "\n",
    "    def extract_spot6_window(filepath,coordinates,window_size=500,show=False):\n",
    "        \"\"\"\n",
    "        Inputs:\n",
    "            - filepath of mosaic raster\n",
    "            - point coordinates of window\n",
    "            - window size in pixels\n",
    "        Outputs:\n",
    "            - window array from input mosaic at desired location\n",
    "        \n",
    "        \"\"\"\n",
    "        import rasterio\n",
    "        import numpy as np\n",
    "\n",
    "        # if coordinates == singular tuple of coordinates, wrap it in list\n",
    "        if type(coordinates)!=list:\n",
    "            coordinates = [coordinates]\n",
    "\n",
    "        with rasterio.open(filepath) as dataset:\n",
    "            # Loop through your list of coords\n",
    "            for i, (lon, lat) in enumerate(coordinates):\n",
    "\n",
    "                # Get pixel coordinates from map coordinates\n",
    "                py, px = dataset.index(lon, lat)\n",
    "                #print('Pixel Y, X coords: {}, {}'.format(py, px))\n",
    "\n",
    "                # Build an NxN window (centered)\n",
    "                window = rasterio.windows.Window(px - window_size//2, py - window_size//2, window_size, window_size)\n",
    "                #print(window)\n",
    "\n",
    "                # Read the data in the window\n",
    "                # clip is a nbands * N * N numpy array\n",
    "                clip = dataset.read(window=window)\n",
    "\n",
    "                if show:\n",
    "                    if clip.shape == (3, window_size, window_size):\n",
    "                        image_standard_form = np.transpose(clip, (2, 1, 0))\n",
    "                        plt.imshow(image_standard_form)\n",
    "                        plt.show()\n",
    "                    else:\n",
    "                        print(\"Shape invalid - most likely edge window\")\n",
    "\n",
    "        return(clip)\n",
    " \n",
    "    \n",
    "    def extract_sen2_window(path_list,coordinates,window_size):\n",
    "        \"\"\"\n",
    "        Inputs:\n",
    "            - filepath of spot6 files\n",
    "            - point coordinates of window as tuples\n",
    "            - window size in pixels\n",
    "        Outputs:\n",
    "            - window array from input mosaic at desired location\n",
    "        \n",
    "        \"\"\"\n",
    "        import rasterio\n",
    "        import numpy as np\n",
    "        show=False # Show result?\n",
    "\n",
    "        # extract coordinates\n",
    "        lon,lat = coordinates[0],coordinates[1]\n",
    "        # loop over list of acq.\n",
    "        for file_path in path_list:\n",
    "            # open file\n",
    "            with rasterio.open(file_path) as dataset:\n",
    "                # get pixel coordinates\n",
    "                py,px = dataset.index(lon, lat)\n",
    "                # build and read window\n",
    "                window = rasterio.windows.Window(px - window_size//2, py - window_size//2, window_size, window_size)\n",
    "                clip = dataset.read(window=window)\n",
    "\n",
    "                # if wanted, show image\n",
    "                if show:\n",
    "                        if clip.shape == (3, window_size, window_size):\n",
    "                            image_standard_form = np.transpose(clip, (2, 1, 0))\n",
    "                            plt.imshow(image_standard_form)\n",
    "                            plt.show()\n",
    "                        else:\n",
    "                            print(\"Shape invalid - most likely edge window\")\n",
    "        return(clip)\n",
    "    \n",
    "    def get_valid_sen2paths(acq_dict_sen2,path,num_images=1):\n",
    "        dates = list(acq_dict_sen2.keys()) # get keys ergo closest times\n",
    "        dates.sort() # sort so lowest can be accessed\n",
    "\n",
    "        valid_files = []\n",
    "        count=0\n",
    "        count_true = 0\n",
    "        for v,i in enumerate(dates): # iterate over closest\n",
    "            if count_true==num_images: # stop while loop if number of required images is extracted\n",
    "                #print(\"all extracted\")\n",
    "                break\n",
    "\n",
    "            if acq_dict_sen2[i][2]==True:\n",
    "                count_true=count_true+1\n",
    "                filepath = acq_dict_sen2[i][1]\n",
    "                valid_files.append(filepath)\n",
    "\n",
    "            # protection for if more images requested than available\n",
    "            if v==len(dates)-1:\n",
    "                warnings.warn(\"WARNING: More image aqc. dates requested than available. Recalculate full validity dataframe or request fewer sen2 images!\")\n",
    "                break\n",
    "\n",
    "        for v,i in enumerate(valid_files):\n",
    "            valid_files[v] = path + valid_files[v]\n",
    "        return(valid_files)\n",
    "\n",
    "\n"
   ]
  },
  {
   "cell_type": "code",
   "execution_count": 5,
   "metadata": {},
   "outputs": [
    {
     "name": "stdout",
     "output_type": "stream",
     "text": [
      "No precalculated dataset file found -> calling builder function!\n",
      "Full dataset not found, recalculating from scratch. This might take up to 12 hrs, depending on the availability of the Sen2/Spot6 validity files.\n",
      "\n",
      "\n",
      "Performing clip of window corner points to valid raster values!\n",
      "loading points into gdf...\n",
      "verifying points on raster...\n",
      "dropping invalid points...\n",
      "clipping done!                        \n",
      "\n",
      "Getting closest dates!\n",
      "create closest dates gdf...\n",
      "create coordinates gdf...\n",
      "performing spatial join...\n",
      "done\n",
      "\n",
      "\n",
      "Checking Sen2 validity for all windows & acquisitions - might take several hours\n",
      "Precalculated File found - no recalculation necessary!\n",
      "\n",
      "Dataset successfully prepared!\n",
      "Fully computed dataset found, no calculations necesary!\n",
      "\n",
      "Dataset successfully prepared!\n",
      "\n",
      "Dataset Object successfully instanciated!\n",
      "Loader Length:  82599\n"
     ]
    }
   ],
   "source": [
    "instanciate_locally = True\n",
    "if instanciate_locally:\n",
    "    # Instanciate dataset object\n",
    "    dataset = Dataset(spot6_mosaic,sen2_path,spot6_path,closest_dates_filepath,window_size=500,factor=(10/1.5))\n",
    "\n",
    "    # Instanciate dataloader object\n",
    "    loader = DataLoader(dataset,batch_size=1, shuffle=True, num_workers=1)\n",
    "    print(\"Loader Length: \",len(loader))"
   ]
  },
  {
   "cell_type": "code",
   "execution_count": null,
   "metadata": {},
   "outputs": [],
   "source": []
  },
  {
   "cell_type": "code",
   "execution_count": null,
   "metadata": {},
   "outputs": [],
   "source": []
  },
  {
   "cell_type": "code",
   "execution_count": 6,
   "metadata": {},
   "outputs": [],
   "source": [
    "a = pd.read_pickle(\"final_dataset.pkl\")"
   ]
  },
  {
   "cell_type": "code",
   "execution_count": 7,
   "metadata": {},
   "outputs": [
    {
     "data": {
      "text/plain": [
       "<AxesSubplot:>"
      ]
     },
     "execution_count": 7,
     "metadata": {},
     "output_type": "execute_result"
    },
    {
     "data": {
      "image/png": "[encoded data removed]",
      "text/plain": [
       "<Figure size 432x288 with 1 Axes>"
      ]
     },
     "metadata": {
      "needs_background": "light"
     },
     "output_type": "display_data"
    }
   ],
   "source": [
    "a.plot(column=\"spot6_validity\")"
   ]
  },
  {
   "cell_type": "code",
   "execution_count": 8,
   "metadata": {},
   "outputs": [
    {
     "data": {
      "text/plain": [
       "True    82599\n",
       "Name: spot6_validity, dtype: int64"
      ]
     },
     "execution_count": 8,
     "metadata": {},
     "output_type": "execute_result"
    }
   ],
   "source": [
    "a[\"spot6_validity\"].value_counts()"
   ]
  },
  {
   "cell_type": "code",
   "execution_count": null,
   "metadata": {},
   "outputs": [],
   "source": []
  },
  {
   "cell_type": "code",
   "execution_count": null,
   "metadata": {},
   "outputs": [],
   "source": []
  },
  {
   "cell_type": "code",
   "execution_count": null,
   "metadata": {},
   "outputs": [],
   "source": [
    "a.to_csv(\"export_NEW.csv\")"
   ]
  },
  {
   "cell_type": "code",
   "execution_count": null,
   "metadata": {},
   "outputs": [],
   "source": []
  },
  {
   "cell_type": "code",
   "execution_count": null,
   "metadata": {},
   "outputs": [],
   "source": []
  },
  {
   "cell_type": "code",
   "execution_count": null,
   "metadata": {},
   "outputs": [],
   "source": [
    "print_some_images = True\n",
    "\n",
    "if print_some_images:\n",
    "    \n",
    "    # TEST TIME\n",
    "    for i in range(0,20):\n",
    "        start = time.time()\n",
    "        a,b = dataset.__getitem__(random.randint(0,len(loader)))\n",
    "        end = time.time()\n",
    "        print(\"Elapsed time: \",round(end-start,3))\n",
    "\n",
    "    \n",
    "    \n",
    "    # LOOK AT SOME IMAGES\n",
    "    def plot_images(a,b,title):\n",
    "        import matplotlib.pyplot as plt\n",
    "        import numpy as np\n",
    "        from torchvision.transforms import ToPILImage\n",
    "\n",
    "\n",
    "        a = np.transpose(a,(1,2,0))\n",
    "        b = np.transpose(b,(1,2,0))\n",
    "\n",
    "        fig, (ax1, ax2) = plt.subplots(1, 2,figsize=(10,5))\n",
    "        fig.suptitle('Spot6 vs Sen2 - time to fetch: '+str(title))\n",
    "        ax1.imshow(a)\n",
    "        ax2.imshow(b)\n",
    "        plt.show()\n",
    "\n",
    "\n",
    "    for i in range(0,10):\n",
    "        start=time.time()\n",
    "        a,b = dataset.__getitem__(random.randint(0,len(loader)))\n",
    "        end=time.time()\n",
    "\n",
    "        plot_images(a,b,round(end-start,3))\n"
   ]
  },
  {
   "cell_type": "code",
   "execution_count": null,
   "metadata": {},
   "outputs": [],
   "source": []
  },
  {
   "cell_type": "code",
   "execution_count": null,
   "metadata": {},
   "outputs": [],
   "source": [
    "a"
   ]
  },
  {
   "cell_type": "code",
   "execution_count": null,
   "metadata": {},
   "outputs": [],
   "source": [
    "\n",
    "d1 = pd.read_pickle(\"final_dataset.pkl\")"
   ]
  },
  {
   "cell_type": "code",
   "execution_count": null,
   "metadata": {},
   "outputs": [],
   "source": [
    "d1[d1[\"spot6_validity\"]==True].count()"
   ]
  },
  {
   "cell_type": "code",
   "execution_count": null,
   "metadata": {},
   "outputs": [],
   "source": [
    "d1.to_csv(\"1.csv\")"
   ]
  },
  {
   "cell_type": "code",
   "execution_count": null,
   "metadata": {},
   "outputs": [],
   "source": []
  },
  {
   "cell_type": "code",
   "execution_count": null,
   "metadata": {},
   "outputs": [],
   "source": []
  },
  {
   "cell_type": "code",
   "execution_count": null,
   "metadata": {},
   "outputs": [],
   "source": []
  }
 ],
 "metadata": {
  "kernelspec": {
   "display_name": "Python 3",
   "language": "python",
   "name": "python3"
  },
  "language_info": {
   "codemirror_mode": {
    "name": "ipython",
    "version": 3
   },
   "file_extension": ".py",
   "mimetype": "text/x-python",
   "name": "python",
   "nbconvert_exporter": "python",
   "pygments_lexer": "ipython3",
   "version": "3.7.6"
  }
 },
 "nbformat": 4,
 "nbformat_minor": 4
}
