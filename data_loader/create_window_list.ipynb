{
 "cells": [
  {
   "cell_type": "markdown",
   "metadata": {},
   "source": [
    "### Creating a list of window coordiantes\n",
    "\n",
    "Extent:  \n",
    "99000,6702000 : 402000,6882000"
   ]
  },
  {
   "cell_type": "code",
   "execution_count": 1,
   "metadata": {},
   "outputs": [],
   "source": [
    "im_path_spot_2 = '/home/simon/CDE_UBS/thesis/data_collection/spot6/spot6_mosaic.tif'"
   ]
  },
  {
   "cell_type": "code",
   "execution_count": 16,
   "metadata": {},
   "outputs": [],
   "source": [
    "import rasterio\n",
    "import pandas as pd\n",
    "import numpy as np"
   ]
  },
  {
   "cell_type": "code",
   "execution_count": 3,
   "metadata": {},
   "outputs": [],
   "source": [
    "def get_spatial_extent(filepath):\n",
    "    \"\"\"\n",
    "    Takes filepath, returns bounding box\n",
    "    \"\"\"\n",
    "    \n",
    "    import rasterio\n",
    "    \n",
    "    with rasterio.open(filepath) as src:\n",
    "        bbox = src.bounds\n",
    "    return(bbox)"
   ]
  },
  {
   "cell_type": "code",
   "execution_count": 155,
   "metadata": {},
   "outputs": [],
   "source": [
    "def create_window_coordinates(filepath,window_size=500,clip=True):\n",
    "    \"\"\"\n",
    "    Takes filepath, creates grid of coordinate points in wanted window size.\n",
    "    (sampling of points bc mask reads whole into RAM)\n",
    "    \"\"\"\n",
    "    \n",
    "    # get bbox\n",
    "    bbox = get_spatial_extent(filepath)\n",
    "    left = int(bbox[0])\n",
    "    bottom = int(bbox[1])\n",
    "    right = int(bbox[2])\n",
    "    top = int(bbox[3])\n",
    "    \n",
    "    # iterate in 500 steps over image bounds, create grid\n",
    "    coor = []\n",
    "    for i in range(left,right,window_size):\n",
    "        x = i\n",
    "        for j in range(bottom,top,window_size):\n",
    "            y = j\n",
    "            coor.append((x,y))\n",
    "    \n",
    "    \n",
    "    \"\"\"\n",
    "    PERFORM CLIP\n",
    "    \"\"\"\n",
    "    if clip:\n",
    "        import geopandas\n",
    "        # load into gdf\n",
    "        print(\"performing clip!\\nloading into gdf...\")\n",
    "        df = pd.DataFrame(coor,columns=[\"x\",\"y\"])\n",
    "        gdf = geopandas.GeoDataFrame(df, geometry=geopandas.points_from_xy(df.x, df.y))\n",
    "\n",
    "        print(\"start sampling...\")\n",
    "        with rasterio.open(filepath) as src:\n",
    "            gdf['value'] = [sum(x) for x in src.sample(coor)]\n",
    "            \n",
    "        # drop invalid points and useless columns\n",
    "        gdf = gdf.drop(gdf[gdf.value <= 0].index)\n",
    "        gdf = gdf[[\"x\",\"y\"]]\n",
    "        \n",
    "        # set coor to clipped points, convert back to tuple\n",
    "        records = gdf.to_records(index=False)\n",
    "        coor = list(records)\n",
    "    \n",
    "    return(coor)\n",
    "    "
   ]
  },
  {
   "cell_type": "code",
   "execution_count": null,
   "metadata": {},
   "outputs": [],
   "source": [
    "a = create_window_coordinates(im_path_spot_2,clip=True)"
   ]
  },
  {
   "cell_type": "code",
   "execution_count": null,
   "metadata": {},
   "outputs": [],
   "source": []
  },
  {
   "cell_type": "code",
   "execution_count": null,
   "metadata": {},
   "outputs": [],
   "source": []
  },
  {
   "cell_type": "code",
   "execution_count": null,
   "metadata": {},
   "outputs": [],
   "source": []
  },
  {
   "cell_type": "code",
   "execution_count": null,
   "metadata": {},
   "outputs": [],
   "source": []
  },
  {
   "cell_type": "code",
   "execution_count": null,
   "metadata": {},
   "outputs": [
    {
     "name": "stdout",
     "output_type": "stream",
     "text": [
      "performing clip!\n",
      "loading into gdf...\n",
      "start sampling...\n"
     ]
    }
   ],
   "source": [
    "df = pd.DataFrame(create_window_coordinates(im_path_spot_2),columns=[\"x\",\"y\"])"
   ]
  },
  {
   "cell_type": "code",
   "execution_count": null,
   "metadata": {},
   "outputs": [],
   "source": [
    "df.to_csv(\"test_coors.csv\")"
   ]
  },
  {
   "cell_type": "code",
   "execution_count": null,
   "metadata": {},
   "outputs": [],
   "source": []
  },
  {
   "cell_type": "code",
   "execution_count": null,
   "metadata": {},
   "outputs": [],
   "source": []
  },
  {
   "cell_type": "code",
   "execution_count": 13,
   "metadata": {},
   "outputs": [
    {
     "name": "stdout",
     "output_type": "stream",
     "text": [
      "BoundingBox(left=99000.0, bottom=6702000.0, right=402000.0, top=6882000.0)\n"
     ]
    }
   ],
   "source": [
    "with rasterio.open(im_path_spot_2) as src:\n",
    "    bbox = src.bounds\n",
    "    print(bbox)"
   ]
  },
  {
   "cell_type": "code",
   "execution_count": null,
   "metadata": {},
   "outputs": [],
   "source": []
  }
 ],
 "metadata": {
  "kernelspec": {
   "display_name": "Python 3",
   "language": "python",
   "name": "python3"
  },
  "language_info": {
   "codemirror_mode": {
    "name": "ipython",
    "version": 3
   },
   "file_extension": ".py",
   "mimetype": "text/x-python",
   "name": "python",
   "nbconvert_exporter": "python",
   "pygments_lexer": "ipython3",
   "version": "3.7.6"
  }
 },
 "nbformat": 4,
 "nbformat_minor": 4
}
