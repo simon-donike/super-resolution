{
 "cells": [
  {
   "cell_type": "markdown",
   "metadata": {},
   "source": [
    "### Creating a list of window coordiantes\n",
    "\n",
    "Extent:  \n",
    "99000,6702000 : 402000,6882000"
   ]
  },
  {
   "cell_type": "code",
   "execution_count": 1,
   "metadata": {},
   "outputs": [],
   "source": [
    "im_path_spot_2 = '/home/simon/CDE_UBS/thesis/data_collection/spot6/spot6_mosaic.tif'"
   ]
  },
  {
   "cell_type": "code",
   "execution_count": 2,
   "metadata": {},
   "outputs": [],
   "source": [
    "import pandas as pd\n",
    "import matplotlib.pyplot as plt"
   ]
  },
  {
   "cell_type": "code",
   "execution_count": 3,
   "metadata": {},
   "outputs": [],
   "source": [
    "def get_spatial_extent(filepath):\n",
    "    \"\"\"\n",
    "    Takes filepath, returns bounding box\n",
    "    \"\"\"\n",
    "    \n",
    "    import rasterio\n",
    "    with rasterio.open(filepath) as src:\n",
    "        bbox = src.bounds\n",
    "    return(bbox)"
   ]
  },
  {
   "cell_type": "code",
   "execution_count": 4,
   "metadata": {},
   "outputs": [],
   "source": [
    "def create_window_coordinates(filepath,window_size=500,clip=False):\n",
    "    \"\"\"\n",
    "    Inputs:\n",
    "        - fiepath: path of raster that is to be loaded by window\n",
    "        - window_size: window will be pixel size NxN\n",
    "        - clip: specify if every grid point should be sampled and dropped if value is invalid\n",
    "    Outputs:\n",
    "        - list of tuple coordinates of grid points (in CRS of input raster)\n",
    "    Takes filepath, creates grid of coordinate points in wanted window size.\n",
    "    (sampling of points bc mask reads whole into RAM)\n",
    "    \"\"\"\n",
    "    \n",
    "    # get bbox\n",
    "    bbox = get_spatial_extent(filepath)\n",
    "    left = int(bbox[0])\n",
    "    bottom = int(bbox[1])\n",
    "    right = int(bbox[2])\n",
    "    top = int(bbox[3])\n",
    "    \n",
    "    # iterate in 500 steps over image bounds, create grid\n",
    "    coor = []\n",
    "    for i in range(left,right,window_size):\n",
    "        x = i\n",
    "        for j in range(bottom,top,window_size):\n",
    "            y = j\n",
    "            coor.append((x,y))\n",
    "    \n",
    "    \n",
    "    \"\"\"\n",
    "    PERFORM CLIP\n",
    "    \"\"\"\n",
    "    if clip:\n",
    "        import geopandas\n",
    "        import pandas as pd\n",
    "        import rasterio\n",
    "        # load into gdf\n",
    "        print(\"performing clip of window corner points to valid raster values!\\nloading points into gdf...\")\n",
    "        df = pd.DataFrame(coor,columns=[\"x\",\"y\"])\n",
    "        gdf = geopandas.GeoDataFrame(df, geometry=geopandas.points_from_xy(df.x, df.y))\n",
    "\n",
    "        print(\"sampling points on raster...\")\n",
    "        with rasterio.open(filepath) as src:\n",
    "            gdf['value'] = [sum(x) for x in src.sample(coor)]\n",
    "        \n",
    "        print(\"dropping invalid points...\")\n",
    "        # drop invalid points and useless columns\n",
    "        gdf = gdf.drop(gdf[gdf.value <= 0].index)\n",
    "        # create new list of tuples to return\n",
    "        coor = []\n",
    "        for x_,y_ in zip(gdf[\"x\"],gdf[\"y\"]):\n",
    "            coor.append((x_,y_))\n",
    "        print(\"clipping done!\")\n",
    "    \n",
    "    return(coor)\n"
   ]
  },
  {
   "cell_type": "code",
   "execution_count": 5,
   "metadata": {},
   "outputs": [],
   "source": [
    "def extract_spot6_window(filepath,coordinates,window_size=500,show=False):\n",
    "    \n",
    "    import rasterio\n",
    "    import numpy as np\n",
    "    \n",
    "    # if coordinates == singular tuple of coordinates, wrap it in list\n",
    "    if type(coordinates)!=list:\n",
    "        coordinates = [coordinates]\n",
    "    \n",
    "    with rasterio.open(filepath) as dataset:\n",
    "        # Loop through your list of coords\n",
    "        for i, (lon, lat) in enumerate(coordinates):\n",
    "\n",
    "            # Get pixel coordinates from map coordinates\n",
    "            py, px = dataset.index(lon, lat)\n",
    "            #print('Pixel Y, X coords: {}, {}'.format(py, px))\n",
    "\n",
    "            # Build an NxN window (centered)\n",
    "            window = rasterio.windows.Window(px - window_size//2, py - window_size//2, window_size, window_size)\n",
    "            #print(window)\n",
    "\n",
    "            # Read the data in the window\n",
    "            # clip is a nbands * N * N numpy array\n",
    "            clip = dataset.read(window=window)\n",
    "            \n",
    "            if show:\n",
    "                if clip.shape == (3, 500, 500):\n",
    "                    image_standard_form = np.transpose(clip, (2, 1, 0))\n",
    "                    plt.imshow(image_standard_form)\n",
    "                    plt.show()\n",
    "                else:\n",
    "                    print(\"Shape invalid - most likely edge window\")\n",
    "            \n",
    "            \n",
    "            \"\"\"\n",
    "            if save_file:\n",
    "                # Set Meta of new file\n",
    "                meta = dataset.meta\n",
    "                meta['width'], meta['height'] = N, N\n",
    "                meta['transform'] = rasterio.windows.transform(window, dataset.transform)\n",
    "\n",
    "                with rasterio.open(outfile.format(i), 'w', **meta) as dst:\n",
    "                    dst.write(clip)\n",
    "            \"\"\"\n",
    "            \n",
    "    return(clip)\n"
   ]
  },
  {
   "cell_type": "code",
   "execution_count": null,
   "metadata": {},
   "outputs": [
    {
     "name": "stdout",
     "output_type": "stream",
     "text": [
      "performing clip of window corner points to valid raster values!\n",
      "loading points into gdf...\n"
     ]
    }
   ],
   "source": [
    "# get coordinates\n",
    "coordinates = create_window_coordinates(im_path_spot_2,window_size=500,clip=True)"
   ]
  },
  {
   "cell_type": "code",
   "execution_count": null,
   "metadata": {},
   "outputs": [],
   "source": [
    "%%timeit\n",
    "extract_spot6_window(im_path_spot_2,coordinates[50001],window_size=500,show=False)"
   ]
  },
  {
   "cell_type": "code",
   "execution_count": null,
   "metadata": {},
   "outputs": [],
   "source": [
    "extract_spot6_window(im_path_spot_2,coordinates[50000:50010],window_size=500,show=True)"
   ]
  },
  {
   "cell_type": "markdown",
   "metadata": {},
   "source": [
    "# Define DataSet Class"
   ]
  },
  {
   "cell_type": "code",
   "execution_count": null,
   "metadata": {},
   "outputs": [],
   "source": [
    "import torch\n",
    "import torch.nn as nn\n",
    "import torch.nn.functional as F\n",
    "import torch.optim as optim\n",
    "import torchvision\n",
    "from torch.utils.data import Dataset\n",
    "from torchvision.transforms import transforms\n",
    "import torchvision.datasets as datasets\n",
    "from torch.utils.data import DataLoader, random_split\n",
    "from torchvision.transforms import ToTensor"
   ]
  },
  {
   "cell_type": "code",
   "execution_count": null,
   "metadata": {},
   "outputs": [],
   "source": [
    "# Define torch dataset Class\n",
    "class Dataset(Dataset):\n",
    "    def __init__(self,path,window_size=500,clip=False):\n",
    "        # extract x and y as lists from DF\n",
    "        self.path = path\n",
    "        self.window_size = window_size\n",
    "        self.coordinates = create_window_coordinates(self.path,window_size=self.window_size,clip=clip)\n",
    " \n",
    "    def __len__(self):\n",
    "        # returns length\n",
    "        return len(self.coordinates)\n",
    " \n",
    "    def __getitem__(self,idx):\n",
    "        im = extract_spot6_window(self.path,self.coordinates[idx],window_size=self.window_size)\n",
    "        return(im)\n"
   ]
  },
  {
   "cell_type": "code",
   "execution_count": null,
   "metadata": {},
   "outputs": [],
   "source": [
    "# Instanciate dataset object\n",
    "dataset = Dataset(im_path_spot_2,window_size=500,clip=False)"
   ]
  },
  {
   "cell_type": "code",
   "execution_count": null,
   "metadata": {},
   "outputs": [],
   "source": [
    "# Instanciate dataloader object\n",
    "loader = DataLoader(dataset,batch_size=10, shuffle=True, num_workers=1)"
   ]
  },
  {
   "cell_type": "code",
   "execution_count": null,
   "metadata": {},
   "outputs": [],
   "source": [
    "print(\"Loader Length: \",len(loader))\n",
    "      \n",
    "for i in loader:\n",
    "    print(i)\n",
    "    break"
   ]
  },
  {
   "cell_type": "code",
   "execution_count": null,
   "metadata": {},
   "outputs": [],
   "source": []
  }
 ],
 "metadata": {
  "kernelspec": {
   "display_name": "Python 3",
   "language": "python",
   "name": "python3"
  },
  "language_info": {
   "codemirror_mode": {
    "name": "ipython",
    "version": 3
   },
   "file_extension": ".py",
   "mimetype": "text/x-python",
   "name": "python",
   "nbconvert_exporter": "python",
   "pygments_lexer": "ipython3",
   "version": "3.7.6"
  }
 },
 "nbformat": 4,
 "nbformat_minor": 4
}
